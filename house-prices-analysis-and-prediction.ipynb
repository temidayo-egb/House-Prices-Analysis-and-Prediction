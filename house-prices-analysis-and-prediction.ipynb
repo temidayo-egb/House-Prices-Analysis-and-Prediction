{
 "cells": [
  {
   "cell_type": "markdown",
   "id": "b208d700",
   "metadata": {
    "papermill": {
     "duration": 0.02527,
     "end_time": "2024-07-05T16:26:19.471724",
     "exception": false,
     "start_time": "2024-07-05T16:26:19.446454",
     "status": "completed"
    },
    "tags": []
   },
   "source": [
    "### House Prices Analysis Prediction\n"
   ]
  },
  {
   "cell_type": "markdown",
   "id": "069718dc",
   "metadata": {
    "papermill": {
     "duration": 0.025989,
     "end_time": "2024-07-05T16:26:19.524047",
     "exception": false,
     "start_time": "2024-07-05T16:26:19.498058",
     "status": "completed"
    },
    "tags": []
   },
   "source": [
    "In this project, I am a Data Analyst working at a Real Estate Investment Trust. The Trust would like to start investing in Residential real estate. I am tasked with determining the market price of a house given a set of features. I will analyze and predict housing prices using attributes or features such as square footage, number of bedrooms, number of floors, and so on"
   ]
  },
  {
   "cell_type": "markdown",
   "id": "43d4c57a",
   "metadata": {
    "papermill": {
     "duration": 0.025008,
     "end_time": "2024-07-05T16:26:19.574492",
     "exception": false,
     "start_time": "2024-07-05T16:26:19.549484",
     "status": "completed"
    },
    "tags": []
   },
   "source": [
    "<center><img src=\"https://cdn.decoist.com/wp-content/uploads/2021/06/Two-story-black-house-witg-glass-walls-in-the-middle-of-the-forest-19247.jpg\"></center>"
   ]
  },
  {
   "cell_type": "markdown",
   "id": "fe030f0c",
   "metadata": {
    "papermill": {
     "duration": 0.024373,
     "end_time": "2024-07-05T16:26:19.623863",
     "exception": false,
     "start_time": "2024-07-05T16:26:19.599490",
     "status": "completed"
    },
    "tags": []
   },
   "source": [
    "# Importing libraries"
   ]
  },
  {
   "cell_type": "code",
   "execution_count": 1,
   "id": "801978a2",
   "metadata": {
    "execution": {
     "iopub.execute_input": "2024-07-05T16:26:19.678582Z",
     "iopub.status.busy": "2024-07-05T16:26:19.678131Z",
     "iopub.status.idle": "2024-07-05T16:26:22.348304Z",
     "shell.execute_reply": "2024-07-05T16:26:22.347111Z"
    },
    "papermill": {
     "duration": 2.702218,
     "end_time": "2024-07-05T16:26:22.351029",
     "exception": false,
     "start_time": "2024-07-05T16:26:19.648811",
     "status": "completed"
    },
    "tags": []
   },
   "outputs": [],
   "source": [
    "import pandas as pd\n",
    "import numpy as np\n",
    "import matplotlib.pyplot as plt\n",
    "%matplotlib inline\n",
    "from matplotlib import pyplot\n",
    "import seaborn as sns\n",
    "from scipy import stats\n",
    "import requests\n",
    "from sklearn.linear_model import LinearRegression\n",
    "from sklearn.preprocessing import StandardScaler, PolynomialFeatures\n",
    "from sklearn.pipeline import Pipeline\n",
    "from sklearn.metrics import mean_squared_error, r2_score\n",
    "import warnings\n",
    "warnings.filterwarnings(\"ignore\", category = UserWarning)\n",
    "warnings.filterwarnings(\"ignore\", category=FutureWarning, message=\".*use_inf_as_na.*\")\n",
    "from ipywidgets import interact,interactive,fixed,interact_manual\n",
    "from sklearn.model_selection import train_test_split\n",
    "from sklearn.model_selection import cross_val_score\n",
    "from sklearn.model_selection import cross_val_predict\n",
    "from sklearn.linear_model import Ridge\n",
    "from sklearn.model_selection import GridSearchCV\n",
    "from tqdm import tqdm\n",
    "import requests"
   ]
  },
  {
   "cell_type": "markdown",
   "id": "16fad017",
   "metadata": {
    "papermill": {
     "duration": 0.02477,
     "end_time": "2024-07-05T16:26:22.402741",
     "exception": false,
     "start_time": "2024-07-05T16:26:22.377971",
     "status": "completed"
    },
    "tags": []
   },
   "source": [
    "# About the Dataset"
   ]
  },
  {
   "cell_type": "markdown",
   "id": "911fc1fe",
   "metadata": {
    "papermill": {
     "duration": 0.024657,
     "end_time": "2024-07-05T16:26:22.452517",
     "exception": false,
     "start_time": "2024-07-05T16:26:22.427860",
     "status": "completed"
    },
    "tags": []
   },
   "source": [
    "This dataset contains house sale prices for King County, which includes Seattle. It includes homes sold between May 2014 and May 2015. It contains the following columns."
   ]
  },
  {
   "cell_type": "markdown",
   "id": "b7f9643a",
   "metadata": {
    "papermill": {
     "duration": 0.024913,
     "end_time": "2024-07-05T16:26:22.560428",
     "exception": false,
     "start_time": "2024-07-05T16:26:22.535515",
     "status": "completed"
    },
    "tags": []
   },
   "source": [
    "| Variable      | Description                                                                                                 |\n",
    "| ------------- | ----------------------------------------------------------------------------------------------------------- |\n",
    "| id            | A notation for a house                                                                                      |\n",
    "| date          | Date house was sold                                                                                         |\n",
    "| price         | Price is prediction target                                                                                  |\n",
    "| bedrooms      | Number of bedrooms                                                                                          |\n",
    "| bathrooms     | Number of bathrooms                                                                                         |\n",
    "| sqft_living   | Square footage of the home                                                                                  |\n",
    "| sqft_lot      | Square footage of the lot                                                                                   |\n",
    "| floors        | Total floors (levels) in house                                                                              |\n",
    "| waterfront    | House which has a view to a waterfront                                                                      |\n",
    "| view          | Has been viewed                                                                                             |\n",
    "| condition     | How good the condition is overall                                                                           |\n",
    "| grade         | overall grade given to the housing unit, based on King County grading system                                |\n",
    "| sqft_above    | Square footage of house apart from basement                                                                 |\n",
    "| sqft_basement | Square footage of the basement                                                                              |\n",
    "| yr_built      | Built Year                                                                                                  |\n",
    "| yr_renovated  | Year when house was renovated                                                                               |\n",
    "| zipcode       | Zip code                                                                                                    |\n",
    "| lat           | Latitude coordinate                                                                                         |\n",
    "| long          | Longitude coordinate                                                                                        |\n",
    "| sqft_living15 | Living room area in 2015(implies-- some renovations) This might or might not have affected the lotsize area |\n",
    "| sqft_lot15    | LotSize area in 2015(implies-- some renovations)                                                            |\n"
   ]
  },
  {
   "cell_type": "markdown",
   "id": "56024953",
   "metadata": {
    "papermill": {
     "duration": 0.025063,
     "end_time": "2024-07-05T16:26:22.611031",
     "exception": false,
     "start_time": "2024-07-05T16:26:22.585968",
     "status": "completed"
    },
    "tags": []
   },
   "source": [
    "<h2>Importing Dataset:<h2>"
   ]
  },
  {
   "cell_type": "code",
   "execution_count": 2,
   "id": "d063ac07",
   "metadata": {
    "execution": {
     "iopub.execute_input": "2024-07-05T16:26:22.663712Z",
     "iopub.status.busy": "2024-07-05T16:26:22.662336Z",
     "iopub.status.idle": "2024-07-05T16:26:22.763385Z",
     "shell.execute_reply": "2024-07-05T16:26:22.762441Z"
    },
    "papermill": {
     "duration": 0.129825,
     "end_time": "2024-07-05T16:26:22.765977",
     "exception": false,
     "start_time": "2024-07-05T16:26:22.636152",
     "status": "completed"
    },
    "tags": []
   },
   "outputs": [],
   "source": [
    "housing_df = pd.read_csv(\"../input/housesalesprediction/kc_house_data.csv\")\n",
    "df = housing_df"
   ]
  },
  {
   "cell_type": "code",
   "execution_count": 3,
   "id": "abc7e85e",
   "metadata": {
    "_kg_hide-output": true,
    "execution": {
     "iopub.execute_input": "2024-07-05T16:26:22.819320Z",
     "iopub.status.busy": "2024-07-05T16:26:22.818951Z",
     "iopub.status.idle": "2024-07-05T16:26:22.860648Z",
     "shell.execute_reply": "2024-07-05T16:26:22.859502Z"
    },
    "papermill": {
     "duration": 0.070907,
     "end_time": "2024-07-05T16:26:22.863096",
     "exception": false,
     "start_time": "2024-07-05T16:26:22.792189",
     "status": "completed"
    },
    "scrolled": true,
    "tags": []
   },
   "outputs": [
    {
     "data": {
      "text/html": [
       "<div>\n",
       "<style scoped>\n",
       "    .dataframe tbody tr th:only-of-type {\n",
       "        vertical-align: middle;\n",
       "    }\n",
       "\n",
       "    .dataframe tbody tr th {\n",
       "        vertical-align: top;\n",
       "    }\n",
       "\n",
       "    .dataframe thead th {\n",
       "        text-align: right;\n",
       "    }\n",
       "</style>\n",
       "<table border=\"1\" class=\"dataframe\">\n",
       "  <thead>\n",
       "    <tr style=\"text-align: right;\">\n",
       "      <th></th>\n",
       "      <th>id</th>\n",
       "      <th>date</th>\n",
       "      <th>price</th>\n",
       "      <th>bedrooms</th>\n",
       "      <th>bathrooms</th>\n",
       "      <th>sqft_living</th>\n",
       "      <th>sqft_lot</th>\n",
       "      <th>floors</th>\n",
       "      <th>waterfront</th>\n",
       "      <th>view</th>\n",
       "      <th>...</th>\n",
       "      <th>grade</th>\n",
       "      <th>sqft_above</th>\n",
       "      <th>sqft_basement</th>\n",
       "      <th>yr_built</th>\n",
       "      <th>yr_renovated</th>\n",
       "      <th>zipcode</th>\n",
       "      <th>lat</th>\n",
       "      <th>long</th>\n",
       "      <th>sqft_living15</th>\n",
       "      <th>sqft_lot15</th>\n",
       "    </tr>\n",
       "  </thead>\n",
       "  <tbody>\n",
       "    <tr>\n",
       "      <th>0</th>\n",
       "      <td>7129300520</td>\n",
       "      <td>20141013T000000</td>\n",
       "      <td>221900.0</td>\n",
       "      <td>3</td>\n",
       "      <td>1.00</td>\n",
       "      <td>1180</td>\n",
       "      <td>5650</td>\n",
       "      <td>1.0</td>\n",
       "      <td>0</td>\n",
       "      <td>0</td>\n",
       "      <td>...</td>\n",
       "      <td>7</td>\n",
       "      <td>1180</td>\n",
       "      <td>0</td>\n",
       "      <td>1955</td>\n",
       "      <td>0</td>\n",
       "      <td>98178</td>\n",
       "      <td>47.5112</td>\n",
       "      <td>-122.257</td>\n",
       "      <td>1340</td>\n",
       "      <td>5650</td>\n",
       "    </tr>\n",
       "    <tr>\n",
       "      <th>1</th>\n",
       "      <td>6414100192</td>\n",
       "      <td>20141209T000000</td>\n",
       "      <td>538000.0</td>\n",
       "      <td>3</td>\n",
       "      <td>2.25</td>\n",
       "      <td>2570</td>\n",
       "      <td>7242</td>\n",
       "      <td>2.0</td>\n",
       "      <td>0</td>\n",
       "      <td>0</td>\n",
       "      <td>...</td>\n",
       "      <td>7</td>\n",
       "      <td>2170</td>\n",
       "      <td>400</td>\n",
       "      <td>1951</td>\n",
       "      <td>1991</td>\n",
       "      <td>98125</td>\n",
       "      <td>47.7210</td>\n",
       "      <td>-122.319</td>\n",
       "      <td>1690</td>\n",
       "      <td>7639</td>\n",
       "    </tr>\n",
       "    <tr>\n",
       "      <th>2</th>\n",
       "      <td>5631500400</td>\n",
       "      <td>20150225T000000</td>\n",
       "      <td>180000.0</td>\n",
       "      <td>2</td>\n",
       "      <td>1.00</td>\n",
       "      <td>770</td>\n",
       "      <td>10000</td>\n",
       "      <td>1.0</td>\n",
       "      <td>0</td>\n",
       "      <td>0</td>\n",
       "      <td>...</td>\n",
       "      <td>6</td>\n",
       "      <td>770</td>\n",
       "      <td>0</td>\n",
       "      <td>1933</td>\n",
       "      <td>0</td>\n",
       "      <td>98028</td>\n",
       "      <td>47.7379</td>\n",
       "      <td>-122.233</td>\n",
       "      <td>2720</td>\n",
       "      <td>8062</td>\n",
       "    </tr>\n",
       "    <tr>\n",
       "      <th>3</th>\n",
       "      <td>2487200875</td>\n",
       "      <td>20141209T000000</td>\n",
       "      <td>604000.0</td>\n",
       "      <td>4</td>\n",
       "      <td>3.00</td>\n",
       "      <td>1960</td>\n",
       "      <td>5000</td>\n",
       "      <td>1.0</td>\n",
       "      <td>0</td>\n",
       "      <td>0</td>\n",
       "      <td>...</td>\n",
       "      <td>7</td>\n",
       "      <td>1050</td>\n",
       "      <td>910</td>\n",
       "      <td>1965</td>\n",
       "      <td>0</td>\n",
       "      <td>98136</td>\n",
       "      <td>47.5208</td>\n",
       "      <td>-122.393</td>\n",
       "      <td>1360</td>\n",
       "      <td>5000</td>\n",
       "    </tr>\n",
       "    <tr>\n",
       "      <th>4</th>\n",
       "      <td>1954400510</td>\n",
       "      <td>20150218T000000</td>\n",
       "      <td>510000.0</td>\n",
       "      <td>3</td>\n",
       "      <td>2.00</td>\n",
       "      <td>1680</td>\n",
       "      <td>8080</td>\n",
       "      <td>1.0</td>\n",
       "      <td>0</td>\n",
       "      <td>0</td>\n",
       "      <td>...</td>\n",
       "      <td>8</td>\n",
       "      <td>1680</td>\n",
       "      <td>0</td>\n",
       "      <td>1987</td>\n",
       "      <td>0</td>\n",
       "      <td>98074</td>\n",
       "      <td>47.6168</td>\n",
       "      <td>-122.045</td>\n",
       "      <td>1800</td>\n",
       "      <td>7503</td>\n",
       "    </tr>\n",
       "    <tr>\n",
       "      <th>5</th>\n",
       "      <td>7237550310</td>\n",
       "      <td>20140512T000000</td>\n",
       "      <td>1225000.0</td>\n",
       "      <td>4</td>\n",
       "      <td>4.50</td>\n",
       "      <td>5420</td>\n",
       "      <td>101930</td>\n",
       "      <td>1.0</td>\n",
       "      <td>0</td>\n",
       "      <td>0</td>\n",
       "      <td>...</td>\n",
       "      <td>11</td>\n",
       "      <td>3890</td>\n",
       "      <td>1530</td>\n",
       "      <td>2001</td>\n",
       "      <td>0</td>\n",
       "      <td>98053</td>\n",
       "      <td>47.6561</td>\n",
       "      <td>-122.005</td>\n",
       "      <td>4760</td>\n",
       "      <td>101930</td>\n",
       "    </tr>\n",
       "    <tr>\n",
       "      <th>6</th>\n",
       "      <td>1321400060</td>\n",
       "      <td>20140627T000000</td>\n",
       "      <td>257500.0</td>\n",
       "      <td>3</td>\n",
       "      <td>2.25</td>\n",
       "      <td>1715</td>\n",
       "      <td>6819</td>\n",
       "      <td>2.0</td>\n",
       "      <td>0</td>\n",
       "      <td>0</td>\n",
       "      <td>...</td>\n",
       "      <td>7</td>\n",
       "      <td>1715</td>\n",
       "      <td>0</td>\n",
       "      <td>1995</td>\n",
       "      <td>0</td>\n",
       "      <td>98003</td>\n",
       "      <td>47.3097</td>\n",
       "      <td>-122.327</td>\n",
       "      <td>2238</td>\n",
       "      <td>6819</td>\n",
       "    </tr>\n",
       "    <tr>\n",
       "      <th>7</th>\n",
       "      <td>2008000270</td>\n",
       "      <td>20150115T000000</td>\n",
       "      <td>291850.0</td>\n",
       "      <td>3</td>\n",
       "      <td>1.50</td>\n",
       "      <td>1060</td>\n",
       "      <td>9711</td>\n",
       "      <td>1.0</td>\n",
       "      <td>0</td>\n",
       "      <td>0</td>\n",
       "      <td>...</td>\n",
       "      <td>7</td>\n",
       "      <td>1060</td>\n",
       "      <td>0</td>\n",
       "      <td>1963</td>\n",
       "      <td>0</td>\n",
       "      <td>98198</td>\n",
       "      <td>47.4095</td>\n",
       "      <td>-122.315</td>\n",
       "      <td>1650</td>\n",
       "      <td>9711</td>\n",
       "    </tr>\n",
       "    <tr>\n",
       "      <th>8</th>\n",
       "      <td>2414600126</td>\n",
       "      <td>20150415T000000</td>\n",
       "      <td>229500.0</td>\n",
       "      <td>3</td>\n",
       "      <td>1.00</td>\n",
       "      <td>1780</td>\n",
       "      <td>7470</td>\n",
       "      <td>1.0</td>\n",
       "      <td>0</td>\n",
       "      <td>0</td>\n",
       "      <td>...</td>\n",
       "      <td>7</td>\n",
       "      <td>1050</td>\n",
       "      <td>730</td>\n",
       "      <td>1960</td>\n",
       "      <td>0</td>\n",
       "      <td>98146</td>\n",
       "      <td>47.5123</td>\n",
       "      <td>-122.337</td>\n",
       "      <td>1780</td>\n",
       "      <td>8113</td>\n",
       "    </tr>\n",
       "    <tr>\n",
       "      <th>9</th>\n",
       "      <td>3793500160</td>\n",
       "      <td>20150312T000000</td>\n",
       "      <td>323000.0</td>\n",
       "      <td>3</td>\n",
       "      <td>2.50</td>\n",
       "      <td>1890</td>\n",
       "      <td>6560</td>\n",
       "      <td>2.0</td>\n",
       "      <td>0</td>\n",
       "      <td>0</td>\n",
       "      <td>...</td>\n",
       "      <td>7</td>\n",
       "      <td>1890</td>\n",
       "      <td>0</td>\n",
       "      <td>2003</td>\n",
       "      <td>0</td>\n",
       "      <td>98038</td>\n",
       "      <td>47.3684</td>\n",
       "      <td>-122.031</td>\n",
       "      <td>2390</td>\n",
       "      <td>7570</td>\n",
       "    </tr>\n",
       "  </tbody>\n",
       "</table>\n",
       "<p>10 rows × 21 columns</p>\n",
       "</div>"
      ],
      "text/plain": [
       "           id             date      price  bedrooms  bathrooms  sqft_living  \\\n",
       "0  7129300520  20141013T000000   221900.0         3       1.00         1180   \n",
       "1  6414100192  20141209T000000   538000.0         3       2.25         2570   \n",
       "2  5631500400  20150225T000000   180000.0         2       1.00          770   \n",
       "3  2487200875  20141209T000000   604000.0         4       3.00         1960   \n",
       "4  1954400510  20150218T000000   510000.0         3       2.00         1680   \n",
       "5  7237550310  20140512T000000  1225000.0         4       4.50         5420   \n",
       "6  1321400060  20140627T000000   257500.0         3       2.25         1715   \n",
       "7  2008000270  20150115T000000   291850.0         3       1.50         1060   \n",
       "8  2414600126  20150415T000000   229500.0         3       1.00         1780   \n",
       "9  3793500160  20150312T000000   323000.0         3       2.50         1890   \n",
       "\n",
       "   sqft_lot  floors  waterfront  view  ...  grade  sqft_above  sqft_basement  \\\n",
       "0      5650     1.0           0     0  ...      7        1180              0   \n",
       "1      7242     2.0           0     0  ...      7        2170            400   \n",
       "2     10000     1.0           0     0  ...      6         770              0   \n",
       "3      5000     1.0           0     0  ...      7        1050            910   \n",
       "4      8080     1.0           0     0  ...      8        1680              0   \n",
       "5    101930     1.0           0     0  ...     11        3890           1530   \n",
       "6      6819     2.0           0     0  ...      7        1715              0   \n",
       "7      9711     1.0           0     0  ...      7        1060              0   \n",
       "8      7470     1.0           0     0  ...      7        1050            730   \n",
       "9      6560     2.0           0     0  ...      7        1890              0   \n",
       "\n",
       "   yr_built  yr_renovated  zipcode      lat     long  sqft_living15  \\\n",
       "0      1955             0    98178  47.5112 -122.257           1340   \n",
       "1      1951          1991    98125  47.7210 -122.319           1690   \n",
       "2      1933             0    98028  47.7379 -122.233           2720   \n",
       "3      1965             0    98136  47.5208 -122.393           1360   \n",
       "4      1987             0    98074  47.6168 -122.045           1800   \n",
       "5      2001             0    98053  47.6561 -122.005           4760   \n",
       "6      1995             0    98003  47.3097 -122.327           2238   \n",
       "7      1963             0    98198  47.4095 -122.315           1650   \n",
       "8      1960             0    98146  47.5123 -122.337           1780   \n",
       "9      2003             0    98038  47.3684 -122.031           2390   \n",
       "\n",
       "   sqft_lot15  \n",
       "0        5650  \n",
       "1        7639  \n",
       "2        8062  \n",
       "3        5000  \n",
       "4        7503  \n",
       "5      101930  \n",
       "6        6819  \n",
       "7        9711  \n",
       "8        8113  \n",
       "9        7570  \n",
       "\n",
       "[10 rows x 21 columns]"
      ]
     },
     "execution_count": 3,
     "metadata": {},
     "output_type": "execute_result"
    }
   ],
   "source": [
    "df.head(10)"
   ]
  },
  {
   "cell_type": "markdown",
   "id": "a30a5d24",
   "metadata": {
    "papermill": {
     "duration": 0.025316,
     "end_time": "2024-07-05T16:26:22.914451",
     "exception": false,
     "start_time": "2024-07-05T16:26:22.889135",
     "status": "completed"
    },
    "tags": []
   },
   "source": [
    "# Data Wrangling"
   ]
  },
  {
   "cell_type": "code",
   "execution_count": 4,
   "id": "d55e5499",
   "metadata": {
    "_kg_hide-output": true,
    "execution": {
     "iopub.execute_input": "2024-07-05T16:26:22.967323Z",
     "iopub.status.busy": "2024-07-05T16:26:22.966967Z",
     "iopub.status.idle": "2024-07-05T16:26:22.996791Z",
     "shell.execute_reply": "2024-07-05T16:26:22.995715Z"
    },
    "papermill": {
     "duration": 0.059131,
     "end_time": "2024-07-05T16:26:22.999289",
     "exception": false,
     "start_time": "2024-07-05T16:26:22.940158",
     "status": "completed"
    },
    "scrolled": true,
    "tags": []
   },
   "outputs": [
    {
     "data": {
      "text/html": [
       "<div>\n",
       "<style scoped>\n",
       "    .dataframe tbody tr th:only-of-type {\n",
       "        vertical-align: middle;\n",
       "    }\n",
       "\n",
       "    .dataframe tbody tr th {\n",
       "        vertical-align: top;\n",
       "    }\n",
       "\n",
       "    .dataframe thead th {\n",
       "        text-align: right;\n",
       "    }\n",
       "</style>\n",
       "<table border=\"1\" class=\"dataframe\">\n",
       "  <thead>\n",
       "    <tr style=\"text-align: right;\">\n",
       "      <th></th>\n",
       "      <th>id</th>\n",
       "      <th>date</th>\n",
       "      <th>price</th>\n",
       "      <th>bedrooms</th>\n",
       "      <th>bathrooms</th>\n",
       "      <th>sqft_living</th>\n",
       "      <th>sqft_lot</th>\n",
       "      <th>floors</th>\n",
       "      <th>waterfront</th>\n",
       "      <th>view</th>\n",
       "      <th>...</th>\n",
       "      <th>grade</th>\n",
       "      <th>sqft_above</th>\n",
       "      <th>sqft_basement</th>\n",
       "      <th>yr_built</th>\n",
       "      <th>yr_renovated</th>\n",
       "      <th>zipcode</th>\n",
       "      <th>lat</th>\n",
       "      <th>long</th>\n",
       "      <th>sqft_living15</th>\n",
       "      <th>sqft_lot15</th>\n",
       "    </tr>\n",
       "  </thead>\n",
       "  <tbody>\n",
       "    <tr>\n",
       "      <th>0</th>\n",
       "      <td>False</td>\n",
       "      <td>False</td>\n",
       "      <td>False</td>\n",
       "      <td>False</td>\n",
       "      <td>False</td>\n",
       "      <td>False</td>\n",
       "      <td>False</td>\n",
       "      <td>False</td>\n",
       "      <td>False</td>\n",
       "      <td>False</td>\n",
       "      <td>...</td>\n",
       "      <td>False</td>\n",
       "      <td>False</td>\n",
       "      <td>False</td>\n",
       "      <td>False</td>\n",
       "      <td>False</td>\n",
       "      <td>False</td>\n",
       "      <td>False</td>\n",
       "      <td>False</td>\n",
       "      <td>False</td>\n",
       "      <td>False</td>\n",
       "    </tr>\n",
       "    <tr>\n",
       "      <th>1</th>\n",
       "      <td>False</td>\n",
       "      <td>False</td>\n",
       "      <td>False</td>\n",
       "      <td>False</td>\n",
       "      <td>False</td>\n",
       "      <td>False</td>\n",
       "      <td>False</td>\n",
       "      <td>False</td>\n",
       "      <td>False</td>\n",
       "      <td>False</td>\n",
       "      <td>...</td>\n",
       "      <td>False</td>\n",
       "      <td>False</td>\n",
       "      <td>False</td>\n",
       "      <td>False</td>\n",
       "      <td>False</td>\n",
       "      <td>False</td>\n",
       "      <td>False</td>\n",
       "      <td>False</td>\n",
       "      <td>False</td>\n",
       "      <td>False</td>\n",
       "    </tr>\n",
       "    <tr>\n",
       "      <th>2</th>\n",
       "      <td>False</td>\n",
       "      <td>False</td>\n",
       "      <td>False</td>\n",
       "      <td>False</td>\n",
       "      <td>False</td>\n",
       "      <td>False</td>\n",
       "      <td>False</td>\n",
       "      <td>False</td>\n",
       "      <td>False</td>\n",
       "      <td>False</td>\n",
       "      <td>...</td>\n",
       "      <td>False</td>\n",
       "      <td>False</td>\n",
       "      <td>False</td>\n",
       "      <td>False</td>\n",
       "      <td>False</td>\n",
       "      <td>False</td>\n",
       "      <td>False</td>\n",
       "      <td>False</td>\n",
       "      <td>False</td>\n",
       "      <td>False</td>\n",
       "    </tr>\n",
       "    <tr>\n",
       "      <th>3</th>\n",
       "      <td>False</td>\n",
       "      <td>False</td>\n",
       "      <td>False</td>\n",
       "      <td>False</td>\n",
       "      <td>False</td>\n",
       "      <td>False</td>\n",
       "      <td>False</td>\n",
       "      <td>False</td>\n",
       "      <td>False</td>\n",
       "      <td>False</td>\n",
       "      <td>...</td>\n",
       "      <td>False</td>\n",
       "      <td>False</td>\n",
       "      <td>False</td>\n",
       "      <td>False</td>\n",
       "      <td>False</td>\n",
       "      <td>False</td>\n",
       "      <td>False</td>\n",
       "      <td>False</td>\n",
       "      <td>False</td>\n",
       "      <td>False</td>\n",
       "    </tr>\n",
       "    <tr>\n",
       "      <th>4</th>\n",
       "      <td>False</td>\n",
       "      <td>False</td>\n",
       "      <td>False</td>\n",
       "      <td>False</td>\n",
       "      <td>False</td>\n",
       "      <td>False</td>\n",
       "      <td>False</td>\n",
       "      <td>False</td>\n",
       "      <td>False</td>\n",
       "      <td>False</td>\n",
       "      <td>...</td>\n",
       "      <td>False</td>\n",
       "      <td>False</td>\n",
       "      <td>False</td>\n",
       "      <td>False</td>\n",
       "      <td>False</td>\n",
       "      <td>False</td>\n",
       "      <td>False</td>\n",
       "      <td>False</td>\n",
       "      <td>False</td>\n",
       "      <td>False</td>\n",
       "    </tr>\n",
       "    <tr>\n",
       "      <th>...</th>\n",
       "      <td>...</td>\n",
       "      <td>...</td>\n",
       "      <td>...</td>\n",
       "      <td>...</td>\n",
       "      <td>...</td>\n",
       "      <td>...</td>\n",
       "      <td>...</td>\n",
       "      <td>...</td>\n",
       "      <td>...</td>\n",
       "      <td>...</td>\n",
       "      <td>...</td>\n",
       "      <td>...</td>\n",
       "      <td>...</td>\n",
       "      <td>...</td>\n",
       "      <td>...</td>\n",
       "      <td>...</td>\n",
       "      <td>...</td>\n",
       "      <td>...</td>\n",
       "      <td>...</td>\n",
       "      <td>...</td>\n",
       "      <td>...</td>\n",
       "    </tr>\n",
       "    <tr>\n",
       "      <th>21608</th>\n",
       "      <td>False</td>\n",
       "      <td>False</td>\n",
       "      <td>False</td>\n",
       "      <td>False</td>\n",
       "      <td>False</td>\n",
       "      <td>False</td>\n",
       "      <td>False</td>\n",
       "      <td>False</td>\n",
       "      <td>False</td>\n",
       "      <td>False</td>\n",
       "      <td>...</td>\n",
       "      <td>False</td>\n",
       "      <td>False</td>\n",
       "      <td>False</td>\n",
       "      <td>False</td>\n",
       "      <td>False</td>\n",
       "      <td>False</td>\n",
       "      <td>False</td>\n",
       "      <td>False</td>\n",
       "      <td>False</td>\n",
       "      <td>False</td>\n",
       "    </tr>\n",
       "    <tr>\n",
       "      <th>21609</th>\n",
       "      <td>False</td>\n",
       "      <td>False</td>\n",
       "      <td>False</td>\n",
       "      <td>False</td>\n",
       "      <td>False</td>\n",
       "      <td>False</td>\n",
       "      <td>False</td>\n",
       "      <td>False</td>\n",
       "      <td>False</td>\n",
       "      <td>False</td>\n",
       "      <td>...</td>\n",
       "      <td>False</td>\n",
       "      <td>False</td>\n",
       "      <td>False</td>\n",
       "      <td>False</td>\n",
       "      <td>False</td>\n",
       "      <td>False</td>\n",
       "      <td>False</td>\n",
       "      <td>False</td>\n",
       "      <td>False</td>\n",
       "      <td>False</td>\n",
       "    </tr>\n",
       "    <tr>\n",
       "      <th>21610</th>\n",
       "      <td>False</td>\n",
       "      <td>False</td>\n",
       "      <td>False</td>\n",
       "      <td>False</td>\n",
       "      <td>False</td>\n",
       "      <td>False</td>\n",
       "      <td>False</td>\n",
       "      <td>False</td>\n",
       "      <td>False</td>\n",
       "      <td>False</td>\n",
       "      <td>...</td>\n",
       "      <td>False</td>\n",
       "      <td>False</td>\n",
       "      <td>False</td>\n",
       "      <td>False</td>\n",
       "      <td>False</td>\n",
       "      <td>False</td>\n",
       "      <td>False</td>\n",
       "      <td>False</td>\n",
       "      <td>False</td>\n",
       "      <td>False</td>\n",
       "    </tr>\n",
       "    <tr>\n",
       "      <th>21611</th>\n",
       "      <td>False</td>\n",
       "      <td>False</td>\n",
       "      <td>False</td>\n",
       "      <td>False</td>\n",
       "      <td>False</td>\n",
       "      <td>False</td>\n",
       "      <td>False</td>\n",
       "      <td>False</td>\n",
       "      <td>False</td>\n",
       "      <td>False</td>\n",
       "      <td>...</td>\n",
       "      <td>False</td>\n",
       "      <td>False</td>\n",
       "      <td>False</td>\n",
       "      <td>False</td>\n",
       "      <td>False</td>\n",
       "      <td>False</td>\n",
       "      <td>False</td>\n",
       "      <td>False</td>\n",
       "      <td>False</td>\n",
       "      <td>False</td>\n",
       "    </tr>\n",
       "    <tr>\n",
       "      <th>21612</th>\n",
       "      <td>False</td>\n",
       "      <td>False</td>\n",
       "      <td>False</td>\n",
       "      <td>False</td>\n",
       "      <td>False</td>\n",
       "      <td>False</td>\n",
       "      <td>False</td>\n",
       "      <td>False</td>\n",
       "      <td>False</td>\n",
       "      <td>False</td>\n",
       "      <td>...</td>\n",
       "      <td>False</td>\n",
       "      <td>False</td>\n",
       "      <td>False</td>\n",
       "      <td>False</td>\n",
       "      <td>False</td>\n",
       "      <td>False</td>\n",
       "      <td>False</td>\n",
       "      <td>False</td>\n",
       "      <td>False</td>\n",
       "      <td>False</td>\n",
       "    </tr>\n",
       "  </tbody>\n",
       "</table>\n",
       "<p>21613 rows × 21 columns</p>\n",
       "</div>"
      ],
      "text/plain": [
       "          id   date  price  bedrooms  bathrooms  sqft_living  sqft_lot  \\\n",
       "0      False  False  False     False      False        False     False   \n",
       "1      False  False  False     False      False        False     False   \n",
       "2      False  False  False     False      False        False     False   \n",
       "3      False  False  False     False      False        False     False   \n",
       "4      False  False  False     False      False        False     False   \n",
       "...      ...    ...    ...       ...        ...          ...       ...   \n",
       "21608  False  False  False     False      False        False     False   \n",
       "21609  False  False  False     False      False        False     False   \n",
       "21610  False  False  False     False      False        False     False   \n",
       "21611  False  False  False     False      False        False     False   \n",
       "21612  False  False  False     False      False        False     False   \n",
       "\n",
       "       floors  waterfront   view  ...  grade  sqft_above  sqft_basement  \\\n",
       "0       False       False  False  ...  False       False          False   \n",
       "1       False       False  False  ...  False       False          False   \n",
       "2       False       False  False  ...  False       False          False   \n",
       "3       False       False  False  ...  False       False          False   \n",
       "4       False       False  False  ...  False       False          False   \n",
       "...       ...         ...    ...  ...    ...         ...            ...   \n",
       "21608   False       False  False  ...  False       False          False   \n",
       "21609   False       False  False  ...  False       False          False   \n",
       "21610   False       False  False  ...  False       False          False   \n",
       "21611   False       False  False  ...  False       False          False   \n",
       "21612   False       False  False  ...  False       False          False   \n",
       "\n",
       "       yr_built  yr_renovated  zipcode    lat   long  sqft_living15  \\\n",
       "0         False         False    False  False  False          False   \n",
       "1         False         False    False  False  False          False   \n",
       "2         False         False    False  False  False          False   \n",
       "3         False         False    False  False  False          False   \n",
       "4         False         False    False  False  False          False   \n",
       "...         ...           ...      ...    ...    ...            ...   \n",
       "21608     False         False    False  False  False          False   \n",
       "21609     False         False    False  False  False          False   \n",
       "21610     False         False    False  False  False          False   \n",
       "21611     False         False    False  False  False          False   \n",
       "21612     False         False    False  False  False          False   \n",
       "\n",
       "       sqft_lot15  \n",
       "0           False  \n",
       "1           False  \n",
       "2           False  \n",
       "3           False  \n",
       "4           False  \n",
       "...           ...  \n",
       "21608       False  \n",
       "21609       False  \n",
       "21610       False  \n",
       "21611       False  \n",
       "21612       False  \n",
       "\n",
       "[21613 rows x 21 columns]"
      ]
     },
     "execution_count": 4,
     "metadata": {},
     "output_type": "execute_result"
    }
   ],
   "source": [
    "missing_data = df.isnull()\n",
    "missing_data"
   ]
  },
  {
   "cell_type": "code",
   "execution_count": 5,
   "id": "c96d2426",
   "metadata": {
    "_kg_hide-output": true,
    "execution": {
     "iopub.execute_input": "2024-07-05T16:26:23.054281Z",
     "iopub.status.busy": "2024-07-05T16:26:23.053909Z",
     "iopub.status.idle": "2024-07-05T16:26:23.083423Z",
     "shell.execute_reply": "2024-07-05T16:26:23.082313Z"
    },
    "papermill": {
     "duration": 0.059452,
     "end_time": "2024-07-05T16:26:23.085799",
     "exception": false,
     "start_time": "2024-07-05T16:26:23.026347",
     "status": "completed"
    },
    "scrolled": true,
    "tags": []
   },
   "outputs": [
    {
     "name": "stdout",
     "output_type": "stream",
     "text": [
      "id\n",
      "id\n",
      "False    21613\n",
      "Name: count, dtype: int64\n",
      "\n",
      "date\n",
      "date\n",
      "False    21613\n",
      "Name: count, dtype: int64\n",
      "\n",
      "price\n",
      "price\n",
      "False    21613\n",
      "Name: count, dtype: int64\n",
      "\n",
      "bedrooms\n",
      "bedrooms\n",
      "False    21613\n",
      "Name: count, dtype: int64\n",
      "\n",
      "bathrooms\n",
      "bathrooms\n",
      "False    21613\n",
      "Name: count, dtype: int64\n",
      "\n",
      "sqft_living\n",
      "sqft_living\n",
      "False    21613\n",
      "Name: count, dtype: int64\n",
      "\n",
      "sqft_lot\n",
      "sqft_lot\n",
      "False    21613\n",
      "Name: count, dtype: int64\n",
      "\n",
      "floors\n",
      "floors\n",
      "False    21613\n",
      "Name: count, dtype: int64\n",
      "\n",
      "waterfront\n",
      "waterfront\n",
      "False    21613\n",
      "Name: count, dtype: int64\n",
      "\n",
      "view\n",
      "view\n",
      "False    21613\n",
      "Name: count, dtype: int64\n",
      "\n",
      "condition\n",
      "condition\n",
      "False    21613\n",
      "Name: count, dtype: int64\n",
      "\n",
      "grade\n",
      "grade\n",
      "False    21613\n",
      "Name: count, dtype: int64\n",
      "\n",
      "sqft_above\n",
      "sqft_above\n",
      "False    21613\n",
      "Name: count, dtype: int64\n",
      "\n",
      "sqft_basement\n",
      "sqft_basement\n",
      "False    21613\n",
      "Name: count, dtype: int64\n",
      "\n",
      "yr_built\n",
      "yr_built\n",
      "False    21613\n",
      "Name: count, dtype: int64\n",
      "\n",
      "yr_renovated\n",
      "yr_renovated\n",
      "False    21613\n",
      "Name: count, dtype: int64\n",
      "\n",
      "zipcode\n",
      "zipcode\n",
      "False    21613\n",
      "Name: count, dtype: int64\n",
      "\n",
      "lat\n",
      "lat\n",
      "False    21613\n",
      "Name: count, dtype: int64\n",
      "\n",
      "long\n",
      "long\n",
      "False    21613\n",
      "Name: count, dtype: int64\n",
      "\n",
      "sqft_living15\n",
      "sqft_living15\n",
      "False    21613\n",
      "Name: count, dtype: int64\n",
      "\n",
      "sqft_lot15\n",
      "sqft_lot15\n",
      "False    21613\n",
      "Name: count, dtype: int64\n",
      "\n"
     ]
    }
   ],
   "source": [
    "for column in missing_data.columns.values.tolist():\n",
    "    print(column)\n",
    "    print(missing_data[column].value_counts())\n",
    "    print(\"\")"
   ]
  },
  {
   "cell_type": "markdown",
   "id": "185a0db8",
   "metadata": {
    "papermill": {
     "duration": 0.02624,
     "end_time": "2024-07-05T16:26:23.138412",
     "exception": false,
     "start_time": "2024-07-05T16:26:23.112172",
     "status": "completed"
    },
    "tags": []
   },
   "source": [
    "As you can see, there is no missing data in the dataset."
   ]
  },
  {
   "cell_type": "code",
   "execution_count": 6,
   "id": "2b0eb8b2",
   "metadata": {
    "_kg_hide-output": true,
    "execution": {
     "iopub.execute_input": "2024-07-05T16:26:23.193036Z",
     "iopub.status.busy": "2024-07-05T16:26:23.192392Z",
     "iopub.status.idle": "2024-07-05T16:26:23.201002Z",
     "shell.execute_reply": "2024-07-05T16:26:23.199977Z"
    },
    "papermill": {
     "duration": 0.038399,
     "end_time": "2024-07-05T16:26:23.203193",
     "exception": false,
     "start_time": "2024-07-05T16:26:23.164794",
     "status": "completed"
    },
    "scrolled": true,
    "tags": []
   },
   "outputs": [
    {
     "data": {
      "text/plain": [
       "id                 int64\n",
       "date              object\n",
       "price            float64\n",
       "bedrooms           int64\n",
       "bathrooms        float64\n",
       "sqft_living        int64\n",
       "sqft_lot           int64\n",
       "floors           float64\n",
       "waterfront         int64\n",
       "view               int64\n",
       "condition          int64\n",
       "grade              int64\n",
       "sqft_above         int64\n",
       "sqft_basement      int64\n",
       "yr_built           int64\n",
       "yr_renovated       int64\n",
       "zipcode            int64\n",
       "lat              float64\n",
       "long             float64\n",
       "sqft_living15      int64\n",
       "sqft_lot15         int64\n",
       "dtype: object"
      ]
     },
     "execution_count": 6,
     "metadata": {},
     "output_type": "execute_result"
    }
   ],
   "source": [
    "df.dtypes"
   ]
  },
  {
   "cell_type": "markdown",
   "id": "866773ed",
   "metadata": {
    "papermill": {
     "duration": 0.026729,
     "end_time": "2024-07-05T16:26:23.257823",
     "exception": false,
     "start_time": "2024-07-05T16:26:23.231094",
     "status": "completed"
    },
    "tags": []
   },
   "source": [
    "Based on the data types provided, a few adjustments might be necessary:\n",
    "\n",
    "* date: Should be converted to a datetime type.\n",
    "* zipcode: Could be treated as a categorical variable rather than a numerical one, depending on the context of your analysis."
   ]
  },
  {
   "cell_type": "code",
   "execution_count": 7,
   "id": "455ac13e",
   "metadata": {
    "_kg_hide-output": true,
    "execution": {
     "iopub.execute_input": "2024-07-05T16:26:23.313989Z",
     "iopub.status.busy": "2024-07-05T16:26:23.312774Z",
     "iopub.status.idle": "2024-07-05T16:26:23.328105Z",
     "shell.execute_reply": "2024-07-05T16:26:23.327084Z"
    },
    "papermill": {
     "duration": 0.045815,
     "end_time": "2024-07-05T16:26:23.330582",
     "exception": false,
     "start_time": "2024-07-05T16:26:23.284767",
     "status": "completed"
    },
    "scrolled": true,
    "tags": []
   },
   "outputs": [],
   "source": [
    "# Converting 'date' to datetime\n",
    "\n",
    "df['date'] = pd.to_datetime(df['date'])\n",
    "\n"
   ]
  },
  {
   "cell_type": "code",
   "execution_count": 8,
   "id": "44533f3c",
   "metadata": {
    "execution": {
     "iopub.execute_input": "2024-07-05T16:26:23.388353Z",
     "iopub.status.busy": "2024-07-05T16:26:23.387249Z",
     "iopub.status.idle": "2024-07-05T16:26:23.397231Z",
     "shell.execute_reply": "2024-07-05T16:26:23.396232Z"
    },
    "papermill": {
     "duration": 0.042523,
     "end_time": "2024-07-05T16:26:23.399671",
     "exception": false,
     "start_time": "2024-07-05T16:26:23.357148",
     "status": "completed"
    },
    "tags": []
   },
   "outputs": [],
   "source": [
    "# Replacing zeros with NaN in the sqft_basement column\n",
    "\n",
    "df['sqft_basement'] = df['sqft_basement'].replace(0, np.nan)\n",
    "\n",
    "# filling  NaN values \n",
    "\n",
    "df['sqft_basement'] = df['sqft_basement'].fillna(df['sqft_basement'].median())"
   ]
  },
  {
   "cell_type": "code",
   "execution_count": 9,
   "id": "8bc0b568",
   "metadata": {
    "execution": {
     "iopub.execute_input": "2024-07-05T16:26:23.454583Z",
     "iopub.status.busy": "2024-07-05T16:26:23.454197Z",
     "iopub.status.idle": "2024-07-05T16:26:23.462338Z",
     "shell.execute_reply": "2024-07-05T16:26:23.461483Z"
    },
    "papermill": {
     "duration": 0.038347,
     "end_time": "2024-07-05T16:26:23.464844",
     "exception": false,
     "start_time": "2024-07-05T16:26:23.426497",
     "status": "completed"
    },
    "tags": []
   },
   "outputs": [],
   "source": [
    "# Replacing zeros with NaN in the yr_renovated column \n",
    "\n",
    "df['yr_renovated '] = df['yr_renovated'].replace(0, np.nan)\n",
    "\n",
    "# filling NaN values\n",
    "\n",
    "df['yr_renovated'] = df['yr_renovated'].fillna(df['yr_renovated'].median())"
   ]
  },
  {
   "cell_type": "code",
   "execution_count": 10,
   "id": "1b7b70d4",
   "metadata": {
    "_kg_hide-input": true,
    "execution": {
     "iopub.execute_input": "2024-07-05T16:26:23.520522Z",
     "iopub.status.busy": "2024-07-05T16:26:23.520157Z",
     "iopub.status.idle": "2024-07-05T16:26:23.546906Z",
     "shell.execute_reply": "2024-07-05T16:26:23.545835Z"
    },
    "papermill": {
     "duration": 0.057232,
     "end_time": "2024-07-05T16:26:23.549444",
     "exception": false,
     "start_time": "2024-07-05T16:26:23.492212",
     "status": "completed"
    },
    "scrolled": true,
    "tags": []
   },
   "outputs": [
    {
     "data": {
      "text/html": [
       "<div>\n",
       "<style scoped>\n",
       "    .dataframe tbody tr th:only-of-type {\n",
       "        vertical-align: middle;\n",
       "    }\n",
       "\n",
       "    .dataframe tbody tr th {\n",
       "        vertical-align: top;\n",
       "    }\n",
       "\n",
       "    .dataframe thead th {\n",
       "        text-align: right;\n",
       "    }\n",
       "</style>\n",
       "<table border=\"1\" class=\"dataframe\">\n",
       "  <thead>\n",
       "    <tr style=\"text-align: right;\">\n",
       "      <th></th>\n",
       "      <th>id</th>\n",
       "      <th>date</th>\n",
       "      <th>price</th>\n",
       "      <th>bedrooms</th>\n",
       "      <th>bathrooms</th>\n",
       "      <th>sqft_living</th>\n",
       "      <th>sqft_lot</th>\n",
       "      <th>floors</th>\n",
       "      <th>waterfront</th>\n",
       "      <th>view</th>\n",
       "      <th>...</th>\n",
       "      <th>sqft_above</th>\n",
       "      <th>sqft_basement</th>\n",
       "      <th>yr_built</th>\n",
       "      <th>yr_renovated</th>\n",
       "      <th>zipcode</th>\n",
       "      <th>lat</th>\n",
       "      <th>long</th>\n",
       "      <th>sqft_living15</th>\n",
       "      <th>sqft_lot15</th>\n",
       "      <th>yr_renovated</th>\n",
       "    </tr>\n",
       "  </thead>\n",
       "  <tbody>\n",
       "    <tr>\n",
       "      <th>0</th>\n",
       "      <td>7129300520</td>\n",
       "      <td>2014-10-13</td>\n",
       "      <td>221900.0</td>\n",
       "      <td>3</td>\n",
       "      <td>1.00</td>\n",
       "      <td>1180</td>\n",
       "      <td>5650</td>\n",
       "      <td>1.0</td>\n",
       "      <td>0</td>\n",
       "      <td>0</td>\n",
       "      <td>...</td>\n",
       "      <td>1180</td>\n",
       "      <td>700.0</td>\n",
       "      <td>1955</td>\n",
       "      <td>0</td>\n",
       "      <td>98178</td>\n",
       "      <td>47.5112</td>\n",
       "      <td>-122.257</td>\n",
       "      <td>1340</td>\n",
       "      <td>5650</td>\n",
       "      <td>NaN</td>\n",
       "    </tr>\n",
       "    <tr>\n",
       "      <th>1</th>\n",
       "      <td>6414100192</td>\n",
       "      <td>2014-12-09</td>\n",
       "      <td>538000.0</td>\n",
       "      <td>3</td>\n",
       "      <td>2.25</td>\n",
       "      <td>2570</td>\n",
       "      <td>7242</td>\n",
       "      <td>2.0</td>\n",
       "      <td>0</td>\n",
       "      <td>0</td>\n",
       "      <td>...</td>\n",
       "      <td>2170</td>\n",
       "      <td>400.0</td>\n",
       "      <td>1951</td>\n",
       "      <td>1991</td>\n",
       "      <td>98125</td>\n",
       "      <td>47.7210</td>\n",
       "      <td>-122.319</td>\n",
       "      <td>1690</td>\n",
       "      <td>7639</td>\n",
       "      <td>1991.0</td>\n",
       "    </tr>\n",
       "    <tr>\n",
       "      <th>2</th>\n",
       "      <td>5631500400</td>\n",
       "      <td>2015-02-25</td>\n",
       "      <td>180000.0</td>\n",
       "      <td>2</td>\n",
       "      <td>1.00</td>\n",
       "      <td>770</td>\n",
       "      <td>10000</td>\n",
       "      <td>1.0</td>\n",
       "      <td>0</td>\n",
       "      <td>0</td>\n",
       "      <td>...</td>\n",
       "      <td>770</td>\n",
       "      <td>700.0</td>\n",
       "      <td>1933</td>\n",
       "      <td>0</td>\n",
       "      <td>98028</td>\n",
       "      <td>47.7379</td>\n",
       "      <td>-122.233</td>\n",
       "      <td>2720</td>\n",
       "      <td>8062</td>\n",
       "      <td>NaN</td>\n",
       "    </tr>\n",
       "    <tr>\n",
       "      <th>3</th>\n",
       "      <td>2487200875</td>\n",
       "      <td>2014-12-09</td>\n",
       "      <td>604000.0</td>\n",
       "      <td>4</td>\n",
       "      <td>3.00</td>\n",
       "      <td>1960</td>\n",
       "      <td>5000</td>\n",
       "      <td>1.0</td>\n",
       "      <td>0</td>\n",
       "      <td>0</td>\n",
       "      <td>...</td>\n",
       "      <td>1050</td>\n",
       "      <td>910.0</td>\n",
       "      <td>1965</td>\n",
       "      <td>0</td>\n",
       "      <td>98136</td>\n",
       "      <td>47.5208</td>\n",
       "      <td>-122.393</td>\n",
       "      <td>1360</td>\n",
       "      <td>5000</td>\n",
       "      <td>NaN</td>\n",
       "    </tr>\n",
       "    <tr>\n",
       "      <th>4</th>\n",
       "      <td>1954400510</td>\n",
       "      <td>2015-02-18</td>\n",
       "      <td>510000.0</td>\n",
       "      <td>3</td>\n",
       "      <td>2.00</td>\n",
       "      <td>1680</td>\n",
       "      <td>8080</td>\n",
       "      <td>1.0</td>\n",
       "      <td>0</td>\n",
       "      <td>0</td>\n",
       "      <td>...</td>\n",
       "      <td>1680</td>\n",
       "      <td>700.0</td>\n",
       "      <td>1987</td>\n",
       "      <td>0</td>\n",
       "      <td>98074</td>\n",
       "      <td>47.6168</td>\n",
       "      <td>-122.045</td>\n",
       "      <td>1800</td>\n",
       "      <td>7503</td>\n",
       "      <td>NaN</td>\n",
       "    </tr>\n",
       "    <tr>\n",
       "      <th>5</th>\n",
       "      <td>7237550310</td>\n",
       "      <td>2014-05-12</td>\n",
       "      <td>1225000.0</td>\n",
       "      <td>4</td>\n",
       "      <td>4.50</td>\n",
       "      <td>5420</td>\n",
       "      <td>101930</td>\n",
       "      <td>1.0</td>\n",
       "      <td>0</td>\n",
       "      <td>0</td>\n",
       "      <td>...</td>\n",
       "      <td>3890</td>\n",
       "      <td>1530.0</td>\n",
       "      <td>2001</td>\n",
       "      <td>0</td>\n",
       "      <td>98053</td>\n",
       "      <td>47.6561</td>\n",
       "      <td>-122.005</td>\n",
       "      <td>4760</td>\n",
       "      <td>101930</td>\n",
       "      <td>NaN</td>\n",
       "    </tr>\n",
       "    <tr>\n",
       "      <th>6</th>\n",
       "      <td>1321400060</td>\n",
       "      <td>2014-06-27</td>\n",
       "      <td>257500.0</td>\n",
       "      <td>3</td>\n",
       "      <td>2.25</td>\n",
       "      <td>1715</td>\n",
       "      <td>6819</td>\n",
       "      <td>2.0</td>\n",
       "      <td>0</td>\n",
       "      <td>0</td>\n",
       "      <td>...</td>\n",
       "      <td>1715</td>\n",
       "      <td>700.0</td>\n",
       "      <td>1995</td>\n",
       "      <td>0</td>\n",
       "      <td>98003</td>\n",
       "      <td>47.3097</td>\n",
       "      <td>-122.327</td>\n",
       "      <td>2238</td>\n",
       "      <td>6819</td>\n",
       "      <td>NaN</td>\n",
       "    </tr>\n",
       "    <tr>\n",
       "      <th>7</th>\n",
       "      <td>2008000270</td>\n",
       "      <td>2015-01-15</td>\n",
       "      <td>291850.0</td>\n",
       "      <td>3</td>\n",
       "      <td>1.50</td>\n",
       "      <td>1060</td>\n",
       "      <td>9711</td>\n",
       "      <td>1.0</td>\n",
       "      <td>0</td>\n",
       "      <td>0</td>\n",
       "      <td>...</td>\n",
       "      <td>1060</td>\n",
       "      <td>700.0</td>\n",
       "      <td>1963</td>\n",
       "      <td>0</td>\n",
       "      <td>98198</td>\n",
       "      <td>47.4095</td>\n",
       "      <td>-122.315</td>\n",
       "      <td>1650</td>\n",
       "      <td>9711</td>\n",
       "      <td>NaN</td>\n",
       "    </tr>\n",
       "    <tr>\n",
       "      <th>8</th>\n",
       "      <td>2414600126</td>\n",
       "      <td>2015-04-15</td>\n",
       "      <td>229500.0</td>\n",
       "      <td>3</td>\n",
       "      <td>1.00</td>\n",
       "      <td>1780</td>\n",
       "      <td>7470</td>\n",
       "      <td>1.0</td>\n",
       "      <td>0</td>\n",
       "      <td>0</td>\n",
       "      <td>...</td>\n",
       "      <td>1050</td>\n",
       "      <td>730.0</td>\n",
       "      <td>1960</td>\n",
       "      <td>0</td>\n",
       "      <td>98146</td>\n",
       "      <td>47.5123</td>\n",
       "      <td>-122.337</td>\n",
       "      <td>1780</td>\n",
       "      <td>8113</td>\n",
       "      <td>NaN</td>\n",
       "    </tr>\n",
       "    <tr>\n",
       "      <th>9</th>\n",
       "      <td>3793500160</td>\n",
       "      <td>2015-03-12</td>\n",
       "      <td>323000.0</td>\n",
       "      <td>3</td>\n",
       "      <td>2.50</td>\n",
       "      <td>1890</td>\n",
       "      <td>6560</td>\n",
       "      <td>2.0</td>\n",
       "      <td>0</td>\n",
       "      <td>0</td>\n",
       "      <td>...</td>\n",
       "      <td>1890</td>\n",
       "      <td>700.0</td>\n",
       "      <td>2003</td>\n",
       "      <td>0</td>\n",
       "      <td>98038</td>\n",
       "      <td>47.3684</td>\n",
       "      <td>-122.031</td>\n",
       "      <td>2390</td>\n",
       "      <td>7570</td>\n",
       "      <td>NaN</td>\n",
       "    </tr>\n",
       "  </tbody>\n",
       "</table>\n",
       "<p>10 rows × 22 columns</p>\n",
       "</div>"
      ],
      "text/plain": [
       "           id       date      price  bedrooms  bathrooms  sqft_living  \\\n",
       "0  7129300520 2014-10-13   221900.0         3       1.00         1180   \n",
       "1  6414100192 2014-12-09   538000.0         3       2.25         2570   \n",
       "2  5631500400 2015-02-25   180000.0         2       1.00          770   \n",
       "3  2487200875 2014-12-09   604000.0         4       3.00         1960   \n",
       "4  1954400510 2015-02-18   510000.0         3       2.00         1680   \n",
       "5  7237550310 2014-05-12  1225000.0         4       4.50         5420   \n",
       "6  1321400060 2014-06-27   257500.0         3       2.25         1715   \n",
       "7  2008000270 2015-01-15   291850.0         3       1.50         1060   \n",
       "8  2414600126 2015-04-15   229500.0         3       1.00         1780   \n",
       "9  3793500160 2015-03-12   323000.0         3       2.50         1890   \n",
       "\n",
       "   sqft_lot  floors  waterfront  view  ...  sqft_above  sqft_basement  \\\n",
       "0      5650     1.0           0     0  ...        1180          700.0   \n",
       "1      7242     2.0           0     0  ...        2170          400.0   \n",
       "2     10000     1.0           0     0  ...         770          700.0   \n",
       "3      5000     1.0           0     0  ...        1050          910.0   \n",
       "4      8080     1.0           0     0  ...        1680          700.0   \n",
       "5    101930     1.0           0     0  ...        3890         1530.0   \n",
       "6      6819     2.0           0     0  ...        1715          700.0   \n",
       "7      9711     1.0           0     0  ...        1060          700.0   \n",
       "8      7470     1.0           0     0  ...        1050          730.0   \n",
       "9      6560     2.0           0     0  ...        1890          700.0   \n",
       "\n",
       "   yr_built  yr_renovated  zipcode      lat     long  sqft_living15  \\\n",
       "0      1955             0    98178  47.5112 -122.257           1340   \n",
       "1      1951          1991    98125  47.7210 -122.319           1690   \n",
       "2      1933             0    98028  47.7379 -122.233           2720   \n",
       "3      1965             0    98136  47.5208 -122.393           1360   \n",
       "4      1987             0    98074  47.6168 -122.045           1800   \n",
       "5      2001             0    98053  47.6561 -122.005           4760   \n",
       "6      1995             0    98003  47.3097 -122.327           2238   \n",
       "7      1963             0    98198  47.4095 -122.315           1650   \n",
       "8      1960             0    98146  47.5123 -122.337           1780   \n",
       "9      2003             0    98038  47.3684 -122.031           2390   \n",
       "\n",
       "   sqft_lot15  yr_renovated   \n",
       "0        5650            NaN  \n",
       "1        7639         1991.0  \n",
       "2        8062            NaN  \n",
       "3        5000            NaN  \n",
       "4        7503            NaN  \n",
       "5      101930            NaN  \n",
       "6        6819            NaN  \n",
       "7        9711            NaN  \n",
       "8        8113            NaN  \n",
       "9        7570            NaN  \n",
       "\n",
       "[10 rows x 22 columns]"
      ]
     },
     "execution_count": 10,
     "metadata": {},
     "output_type": "execute_result"
    }
   ],
   "source": [
    "df.head(10)"
   ]
  },
  {
   "cell_type": "markdown",
   "id": "8f04b1d8",
   "metadata": {
    "papermill": {
     "duration": 0.026878,
     "end_time": "2024-07-05T16:26:23.603481",
     "exception": false,
     "start_time": "2024-07-05T16:26:23.576603",
     "status": "completed"
    },
    "tags": []
   },
   "source": [
    "# Exploratory Data Analysis"
   ]
  },
  {
   "cell_type": "markdown",
   "id": "b07bd1cd",
   "metadata": {
    "papermill": {
     "duration": 0.026468,
     "end_time": "2024-07-05T16:26:23.656857",
     "exception": false,
     "start_time": "2024-07-05T16:26:23.630389",
     "status": "completed"
    },
    "tags": []
   },
   "source": [
    "<h2>Feature Engineering:<h2>"
   ]
  },
  {
   "cell_type": "code",
   "execution_count": 11,
   "id": "9f6982cc",
   "metadata": {
    "execution": {
     "iopub.execute_input": "2024-07-05T16:26:23.712507Z",
     "iopub.status.busy": "2024-07-05T16:26:23.712146Z",
     "iopub.status.idle": "2024-07-05T16:26:23.755582Z",
     "shell.execute_reply": "2024-07-05T16:26:23.754704Z"
    },
    "papermill": {
     "duration": 0.074171,
     "end_time": "2024-07-05T16:26:23.758058",
     "exception": false,
     "start_time": "2024-07-05T16:26:23.683887",
     "status": "completed"
    },
    "tags": []
   },
   "outputs": [],
   "source": [
    "# One-hot encode categorical variables\n",
    "df = pd.get_dummies(df)\n",
    "\n",
    "\n",
    "scaler = StandardScaler()\n",
    "numerical_features = df.select_dtypes(include=['float64', 'int64']).columns\n",
    "df[numerical_features] = scaler.fit_transform(df[numerical_features])"
   ]
  },
  {
   "cell_type": "markdown",
   "id": "8d5de3ad",
   "metadata": {
    "papermill": {
     "duration": 0.026575,
     "end_time": "2024-07-05T16:26:23.812297",
     "exception": false,
     "start_time": "2024-07-05T16:26:23.785722",
     "status": "completed"
    },
    "tags": []
   },
   "source": [
    "<h2>Continuous Numerical Variables:<h2>"
   ]
  },
  {
   "cell_type": "markdown",
   "id": "552a71cf",
   "metadata": {
    "papermill": {
     "duration": 0.026629,
     "end_time": "2024-07-05T16:26:23.865819",
     "exception": false,
     "start_time": "2024-07-05T16:26:23.839190",
     "status": "completed"
    },
    "tags": []
   },
   "source": [
    "Continuous numerical variables are variables that may contain any value within some range. They can be of type \"int64\" or \"float64\". A great way to visualize these variables is by using scatterplots with fitted lines,line plots, histograms, violin plots, density plots, area plots , heat maps, contour plots, hexbin plots, pair plots, bubble plots.\n",
    "\n",
    "In order to start understanding the (linear) relationship between an individual variable and the price,I used \"regplot\" which plots the scatterplot plus the fitted regression line for the data. This will be useful later on for visualizing the fit of the simple linear regression model as well.\n",
    "\n",
    "Below are some of the continuous variables I found:\n",
    "* sqft_living\n",
    "* sqft_lot\n",
    "* sqft_above\n",
    "* sqft_basement\n",
    "* yr_built\n",
    "* yr_renovated\n",
    "* lat\n",
    "* long"
   ]
  },
  {
   "cell_type": "code",
   "execution_count": 12,
   "id": "6ffcddc3",
   "metadata": {
    "_kg_hide-output": true,
    "execution": {
     "iopub.execute_input": "2024-07-05T16:26:23.922084Z",
     "iopub.status.busy": "2024-07-05T16:26:23.921511Z",
     "iopub.status.idle": "2024-07-05T16:26:23.946341Z",
     "shell.execute_reply": "2024-07-05T16:26:23.945279Z"
    },
    "papermill": {
     "duration": 0.055483,
     "end_time": "2024-07-05T16:26:23.948691",
     "exception": false,
     "start_time": "2024-07-05T16:26:23.893208",
     "status": "completed"
    },
    "scrolled": true,
    "tags": []
   },
   "outputs": [
    {
     "name": "stdout",
     "output_type": "stream",
     "text": [
      "price            1.000000\n",
      "sqft_living      0.702035\n",
      "sqft_above       0.605567\n",
      "sqft_living15    0.585379\n",
      "sqft_basement    0.320784\n",
      "lat              0.307003\n",
      "yr_renovated     0.126434\n",
      "sqft_lot         0.089661\n",
      "sqft_lot15       0.082447\n",
      "yr_built         0.054012\n",
      "long             0.021626\n",
      "Name: price, dtype: float64\n"
     ]
    }
   ],
   "source": [
    "# List of columns to consider\n",
    "columns_to_consider = [\"price\", \"sqft_living\", \"sqft_lot\", \"sqft_above\", \"sqft_basement\", \"yr_built\", \"yr_renovated\", \"lat\", \"long\", \"sqft_living15\", \"sqft_lot15\"]\n",
    "\n",
    "# Select only the columns of interest and ensure they are numeric\n",
    "df_selected = df[columns_to_consider].apply(pd.to_numeric, errors='coerce')\n",
    "\n",
    "# Calculate the correlation matrix\n",
    "corr_matrix = df_selected.corr()\n",
    "\n",
    "# Extract the correlations with respect to 'price'\n",
    "price_correlation = corr_matrix['price'].sort_values(ascending=False)\n",
    "\n",
    "print(price_correlation)"
   ]
  },
  {
   "cell_type": "markdown",
   "id": "7a3ffb2c",
   "metadata": {
    "papermill": {
     "duration": 0.02645,
     "end_time": "2024-07-05T16:26:24.002227",
     "exception": false,
     "start_time": "2024-07-05T16:26:23.975777",
     "status": "completed"
    },
    "tags": []
   },
   "source": [
    "As you can see above, only sqft_living and sqft_above have a strong positive linear correlation to price. Below are the visualizations using a regression plot:"
   ]
  },
  {
   "cell_type": "markdown",
   "id": "3fd657ab",
   "metadata": {
    "papermill": {
     "duration": 0.026475,
     "end_time": "2024-07-05T16:26:24.055695",
     "exception": false,
     "start_time": "2024-07-05T16:26:24.029220",
     "status": "completed"
    },
    "tags": []
   },
   "source": [
    "* Implementing the regresssion plot for \"sqft_living\" with respect to prices"
   ]
  },
  {
   "cell_type": "code",
   "execution_count": 13,
   "id": "cdcd705d",
   "metadata": {
    "execution": {
     "iopub.execute_input": "2024-07-05T16:26:24.112266Z",
     "iopub.status.busy": "2024-07-05T16:26:24.111518Z",
     "iopub.status.idle": "2024-07-05T16:26:25.560122Z",
     "shell.execute_reply": "2024-07-05T16:26:25.559121Z"
    },
    "papermill": {
     "duration": 1.479963,
     "end_time": "2024-07-05T16:26:25.562661",
     "exception": false,
     "start_time": "2024-07-05T16:26:24.082698",
     "status": "completed"
    },
    "tags": []
   },
   "outputs": [
    {
     "data": {
      "text/plain": [
       "(0.0, 20.548936497984883)"
      ]
     },
     "execution_count": 13,
     "metadata": {},
     "output_type": "execute_result"
    },
    {
     "data": {
      "image/png": "[encoded data removed]",
      "text/plain": [
       "<Figure size 640x480 with 1 Axes>"
      ]
     },
     "metadata": {},
     "output_type": "display_data"
    }
   ],
   "source": [
    "sns.regplot(x = \"sqft_living\", y = \"price\", data = df, line_kws = {\"color\" : \"red\"})\n",
    "plt.ylim(0)"
   ]
  },
  {
   "cell_type": "markdown",
   "id": "7f9da0eb",
   "metadata": {
    "papermill": {
     "duration": 0.027862,
     "end_time": "2024-07-05T16:26:25.619142",
     "exception": false,
     "start_time": "2024-07-05T16:26:25.591280",
     "status": "completed"
    },
    "tags": []
   },
   "source": [
    "The square footage of the home appears to be a good predictor of price, as the scatter plot points are closely aligned with the regression line, indicating a positive linear correlation.\"\n",
    "\n",
    "I can verify my findings below:"
   ]
  },
  {
   "cell_type": "code",
   "execution_count": 14,
   "id": "698feab3",
   "metadata": {
    "_kg_hide-output": true,
    "execution": {
     "iopub.execute_input": "2024-07-05T16:26:25.676993Z",
     "iopub.status.busy": "2024-07-05T16:26:25.676598Z",
     "iopub.status.idle": "2024-07-05T16:26:25.688928Z",
     "shell.execute_reply": "2024-07-05T16:26:25.687747Z"
    },
    "papermill": {
     "duration": 0.044025,
     "end_time": "2024-07-05T16:26:25.691308",
     "exception": false,
     "start_time": "2024-07-05T16:26:25.647283",
     "status": "completed"
    },
    "scrolled": true,
    "tags": []
   },
   "outputs": [
    {
     "data": {
      "text/html": [
       "<div>\n",
       "<style scoped>\n",
       "    .dataframe tbody tr th:only-of-type {\n",
       "        vertical-align: middle;\n",
       "    }\n",
       "\n",
       "    .dataframe tbody tr th {\n",
       "        vertical-align: top;\n",
       "    }\n",
       "\n",
       "    .dataframe thead th {\n",
       "        text-align: right;\n",
       "    }\n",
       "</style>\n",
       "<table border=\"1\" class=\"dataframe\">\n",
       "  <thead>\n",
       "    <tr style=\"text-align: right;\">\n",
       "      <th></th>\n",
       "      <th>sqft_living</th>\n",
       "      <th>price</th>\n",
       "    </tr>\n",
       "  </thead>\n",
       "  <tbody>\n",
       "    <tr>\n",
       "      <th>sqft_living</th>\n",
       "      <td>1.000000</td>\n",
       "      <td>0.702035</td>\n",
       "    </tr>\n",
       "    <tr>\n",
       "      <th>price</th>\n",
       "      <td>0.702035</td>\n",
       "      <td>1.000000</td>\n",
       "    </tr>\n",
       "  </tbody>\n",
       "</table>\n",
       "</div>"
      ],
      "text/plain": [
       "             sqft_living     price\n",
       "sqft_living     1.000000  0.702035\n",
       "price           0.702035  1.000000"
      ]
     },
     "execution_count": 14,
     "metadata": {},
     "output_type": "execute_result"
    }
   ],
   "source": [
    "df[[\"sqft_living\", \"price\"]].corr()"
   ]
  },
  {
   "cell_type": "markdown",
   "id": "529dfe44",
   "metadata": {
    "papermill": {
     "duration": 0.027697,
     "end_time": "2024-07-05T16:26:25.747389",
     "exception": false,
     "start_time": "2024-07-05T16:26:25.719692",
     "status": "completed"
    },
    "tags": []
   },
   "source": [
    "* Implementing the regresssion plot for \"sqft_above\" with respect to prices"
   ]
  },
  {
   "cell_type": "code",
   "execution_count": 15,
   "id": "c9d13b45",
   "metadata": {
    "execution": {
     "iopub.execute_input": "2024-07-05T16:26:25.806367Z",
     "iopub.status.busy": "2024-07-05T16:26:25.805420Z",
     "iopub.status.idle": "2024-07-05T16:26:27.229058Z",
     "shell.execute_reply": "2024-07-05T16:26:27.227960Z"
    },
    "papermill": {
     "duration": 1.456398,
     "end_time": "2024-07-05T16:26:27.231741",
     "exception": false,
     "start_time": "2024-07-05T16:26:25.775343",
     "status": "completed"
    },
    "tags": []
   },
   "outputs": [
    {
     "data": {
      "text/plain": [
       "(0.0, 20.541480978450217)"
      ]
     },
     "execution_count": 15,
     "metadata": {},
     "output_type": "execute_result"
    },
    {
     "data": {
      "image/png": "[encoded data removed]",
      "text/plain": [
       "<Figure size 640x480 with 1 Axes>"
      ]
     },
     "metadata": {},
     "output_type": "display_data"
    }
   ],
   "source": [
    "sns.regplot(x = \"sqft_above\", y = \"price\", data = df, line_kws = {\"color\" : \"yellow\"})\n",
    "plt.ylim(0)"
   ]
  },
  {
   "cell_type": "markdown",
   "id": "262c25a1",
   "metadata": {
    "papermill": {
     "duration": 0.028635,
     "end_time": "2024-07-05T16:26:27.289378",
     "exception": false,
     "start_time": "2024-07-05T16:26:27.260743",
     "status": "completed"
    },
    "tags": []
   },
   "source": [
    "The square footage of the house apart from the basement appears to be a good predictor of price, as the scatter plot points are closely aligned with the regression line, indicating a positive linear correlation.\"\n",
    "\n",
    "I can verify my findings below:"
   ]
  },
  {
   "cell_type": "code",
   "execution_count": 16,
   "id": "bd387eee",
   "metadata": {
    "_kg_hide-output": true,
    "execution": {
     "iopub.execute_input": "2024-07-05T16:26:27.348619Z",
     "iopub.status.busy": "2024-07-05T16:26:27.348232Z",
     "iopub.status.idle": "2024-07-05T16:26:27.360226Z",
     "shell.execute_reply": "2024-07-05T16:26:27.359031Z"
    },
    "papermill": {
     "duration": 0.044248,
     "end_time": "2024-07-05T16:26:27.362517",
     "exception": false,
     "start_time": "2024-07-05T16:26:27.318269",
     "status": "completed"
    },
    "scrolled": true,
    "tags": []
   },
   "outputs": [
    {
     "data": {
      "text/html": [
       "<div>\n",
       "<style scoped>\n",
       "    .dataframe tbody tr th:only-of-type {\n",
       "        vertical-align: middle;\n",
       "    }\n",
       "\n",
       "    .dataframe tbody tr th {\n",
       "        vertical-align: top;\n",
       "    }\n",
       "\n",
       "    .dataframe thead th {\n",
       "        text-align: right;\n",
       "    }\n",
       "</style>\n",
       "<table border=\"1\" class=\"dataframe\">\n",
       "  <thead>\n",
       "    <tr style=\"text-align: right;\">\n",
       "      <th></th>\n",
       "      <th>sqft_above</th>\n",
       "      <th>price</th>\n",
       "    </tr>\n",
       "  </thead>\n",
       "  <tbody>\n",
       "    <tr>\n",
       "      <th>sqft_above</th>\n",
       "      <td>1.000000</td>\n",
       "      <td>0.605567</td>\n",
       "    </tr>\n",
       "    <tr>\n",
       "      <th>price</th>\n",
       "      <td>0.605567</td>\n",
       "      <td>1.000000</td>\n",
       "    </tr>\n",
       "  </tbody>\n",
       "</table>\n",
       "</div>"
      ],
      "text/plain": [
       "            sqft_above     price\n",
       "sqft_above    1.000000  0.605567\n",
       "price         0.605567  1.000000"
      ]
     },
     "execution_count": 16,
     "metadata": {},
     "output_type": "execute_result"
    }
   ],
   "source": [
    "df[[\"sqft_above\", \"price\"]].corr()"
   ]
  },
  {
   "cell_type": "markdown",
   "id": "380184ee",
   "metadata": {
    "papermill": {
     "duration": 0.028406,
     "end_time": "2024-07-05T16:26:27.421891",
     "exception": false,
     "start_time": "2024-07-05T16:26:27.393485",
     "status": "completed"
    },
    "tags": []
   },
   "source": [
    "<h2>Categorical Variables<h2>"
   ]
  },
  {
   "cell_type": "markdown",
   "id": "e8eca577",
   "metadata": {
    "papermill": {
     "duration": 0.029375,
     "end_time": "2024-07-05T16:26:27.480213",
     "exception": false,
     "start_time": "2024-07-05T16:26:27.450838",
     "status": "completed"
    },
    "tags": []
   },
   "source": [
    "These are variables that describe a 'characteristic' of a data unit, and are selected from a small group of categories. The categorical variables can have the type \"object\" or \"int64\". A good way to visualize categorical variables is by using boxplots.\n",
    "\n",
    "Below are some of the categorical variables I found:\n",
    "\n",
    "* bedrooms\n",
    "* bathrooms\n",
    "* floors\n",
    "* waterfront\n",
    "* view\n",
    "* grade"
   ]
  },
  {
   "cell_type": "code",
   "execution_count": 17,
   "id": "26c09800",
   "metadata": {
    "_kg_hide-output": true,
    "execution": {
     "iopub.execute_input": "2024-07-05T16:26:27.540337Z",
     "iopub.status.busy": "2024-07-05T16:26:27.539970Z",
     "iopub.status.idle": "2024-07-05T16:26:27.559627Z",
     "shell.execute_reply": "2024-07-05T16:26:27.558603Z"
    },
    "papermill": {
     "duration": 0.052314,
     "end_time": "2024-07-05T16:26:27.562029",
     "exception": false,
     "start_time": "2024-07-05T16:26:27.509715",
     "status": "completed"
    },
    "scrolled": true,
    "tags": []
   },
   "outputs": [
    {
     "data": {
      "text/html": [
       "<div>\n",
       "<style scoped>\n",
       "    .dataframe tbody tr th:only-of-type {\n",
       "        vertical-align: middle;\n",
       "    }\n",
       "\n",
       "    .dataframe tbody tr th {\n",
       "        vertical-align: top;\n",
       "    }\n",
       "\n",
       "    .dataframe thead th {\n",
       "        text-align: right;\n",
       "    }\n",
       "</style>\n",
       "<table border=\"1\" class=\"dataframe\">\n",
       "  <thead>\n",
       "    <tr style=\"text-align: right;\">\n",
       "      <th></th>\n",
       "      <th>price</th>\n",
       "      <th>bedrooms</th>\n",
       "      <th>bathrooms</th>\n",
       "      <th>floors</th>\n",
       "      <th>waterfront</th>\n",
       "      <th>view</th>\n",
       "      <th>grade</th>\n",
       "    </tr>\n",
       "  </thead>\n",
       "  <tbody>\n",
       "    <tr>\n",
       "      <th>price</th>\n",
       "      <td>1.000000</td>\n",
       "      <td>0.308350</td>\n",
       "      <td>0.525138</td>\n",
       "      <td>0.256794</td>\n",
       "      <td>0.266369</td>\n",
       "      <td>0.397293</td>\n",
       "      <td>0.667434</td>\n",
       "    </tr>\n",
       "    <tr>\n",
       "      <th>bedrooms</th>\n",
       "      <td>0.308350</td>\n",
       "      <td>1.000000</td>\n",
       "      <td>0.515884</td>\n",
       "      <td>0.175429</td>\n",
       "      <td>-0.006582</td>\n",
       "      <td>0.079532</td>\n",
       "      <td>0.356967</td>\n",
       "    </tr>\n",
       "    <tr>\n",
       "      <th>bathrooms</th>\n",
       "      <td>0.525138</td>\n",
       "      <td>0.515884</td>\n",
       "      <td>1.000000</td>\n",
       "      <td>0.500653</td>\n",
       "      <td>0.063744</td>\n",
       "      <td>0.187737</td>\n",
       "      <td>0.664983</td>\n",
       "    </tr>\n",
       "    <tr>\n",
       "      <th>floors</th>\n",
       "      <td>0.256794</td>\n",
       "      <td>0.175429</td>\n",
       "      <td>0.500653</td>\n",
       "      <td>1.000000</td>\n",
       "      <td>0.023698</td>\n",
       "      <td>0.029444</td>\n",
       "      <td>0.458183</td>\n",
       "    </tr>\n",
       "    <tr>\n",
       "      <th>waterfront</th>\n",
       "      <td>0.266369</td>\n",
       "      <td>-0.006582</td>\n",
       "      <td>0.063744</td>\n",
       "      <td>0.023698</td>\n",
       "      <td>1.000000</td>\n",
       "      <td>0.401857</td>\n",
       "      <td>0.082775</td>\n",
       "    </tr>\n",
       "    <tr>\n",
       "      <th>view</th>\n",
       "      <td>0.397293</td>\n",
       "      <td>0.079532</td>\n",
       "      <td>0.187737</td>\n",
       "      <td>0.029444</td>\n",
       "      <td>0.401857</td>\n",
       "      <td>1.000000</td>\n",
       "      <td>0.251321</td>\n",
       "    </tr>\n",
       "    <tr>\n",
       "      <th>grade</th>\n",
       "      <td>0.667434</td>\n",
       "      <td>0.356967</td>\n",
       "      <td>0.664983</td>\n",
       "      <td>0.458183</td>\n",
       "      <td>0.082775</td>\n",
       "      <td>0.251321</td>\n",
       "      <td>1.000000</td>\n",
       "    </tr>\n",
       "  </tbody>\n",
       "</table>\n",
       "</div>"
      ],
      "text/plain": [
       "               price  bedrooms  bathrooms    floors  waterfront      view  \\\n",
       "price       1.000000  0.308350   0.525138  0.256794    0.266369  0.397293   \n",
       "bedrooms    0.308350  1.000000   0.515884  0.175429   -0.006582  0.079532   \n",
       "bathrooms   0.525138  0.515884   1.000000  0.500653    0.063744  0.187737   \n",
       "floors      0.256794  0.175429   0.500653  1.000000    0.023698  0.029444   \n",
       "waterfront  0.266369 -0.006582   0.063744  0.023698    1.000000  0.401857   \n",
       "view        0.397293  0.079532   0.187737  0.029444    0.401857  1.000000   \n",
       "grade       0.667434  0.356967   0.664983  0.458183    0.082775  0.251321   \n",
       "\n",
       "               grade  \n",
       "price       0.667434  \n",
       "bedrooms    0.356967  \n",
       "bathrooms   0.664983  \n",
       "floors      0.458183  \n",
       "waterfront  0.082775  \n",
       "view        0.251321  \n",
       "grade       1.000000  "
      ]
     },
     "execution_count": 17,
     "metadata": {},
     "output_type": "execute_result"
    }
   ],
   "source": [
    "\n",
    " df[[\"price\", \"bedrooms\", \"bathrooms\", \"floors\", \"waterfront\", \"view\", \"grade\"]].corr()\n",
    "\n"
   ]
  },
  {
   "cell_type": "markdown",
   "id": "22ae7f45",
   "metadata": {
    "papermill": {
     "duration": 0.02907,
     "end_time": "2024-07-05T16:26:27.620963",
     "exception": false,
     "start_time": "2024-07-05T16:26:27.591893",
     "status": "completed"
    },
    "tags": []
   },
   "source": [
    "As you can see from the findings above, only  \"bathrooms\" and \"grade\" have a moderate to strong positive linear correlation to price. I ilustrate my findings below using boxplots;"
   ]
  },
  {
   "cell_type": "markdown",
   "id": "fc7cf4ef",
   "metadata": {
    "papermill": {
     "duration": 0.028956,
     "end_time": "2024-07-05T16:26:27.679459",
     "exception": false,
     "start_time": "2024-07-05T16:26:27.650503",
     "status": "completed"
    },
    "tags": []
   },
   "source": [
    "* Implementing the box plot for \"bathrooms\" with respect to prices"
   ]
  },
  {
   "cell_type": "code",
   "execution_count": 18,
   "id": "6059a73a",
   "metadata": {
    "execution": {
     "iopub.execute_input": "2024-07-05T16:26:27.740772Z",
     "iopub.status.busy": "2024-07-05T16:26:27.739985Z",
     "iopub.status.idle": "2024-07-05T16:26:28.401150Z",
     "shell.execute_reply": "2024-07-05T16:26:28.400022Z"
    },
    "papermill": {
     "duration": 0.694672,
     "end_time": "2024-07-05T16:26:28.403695",
     "exception": false,
     "start_time": "2024-07-05T16:26:27.709023",
     "status": "completed"
    },
    "tags": []
   },
   "outputs": [
    {
     "data": {
      "text/plain": [
       "<Axes: xlabel='bathrooms', ylabel='price'>"
      ]
     },
     "execution_count": 18,
     "metadata": {},
     "output_type": "execute_result"
    },
    {
     "data": {
      "image/png": "[encoded data removed]",
      "text/plain": [
       "<Figure size 640x480 with 1 Axes>"
      ]
     },
     "metadata": {},
     "output_type": "display_data"
    }
   ],
   "source": [
    "sns.boxplot(x = \"bathrooms\", y =  \"price\", data = df)"
   ]
  },
  {
   "cell_type": "markdown",
   "id": "532269a0",
   "metadata": {
    "papermill": {
     "duration": 0.029914,
     "end_time": "2024-07-05T16:26:28.463893",
     "exception": false,
     "start_time": "2024-07-05T16:26:28.433979",
     "status": "completed"
    },
    "tags": []
   },
   "source": [
    "Here we see that the distribution of prices between various bathroom numbers in the home are distinct enough to take bathrooms as a potential good predictor of price.\n",
    "\n",
    "I verify my findings below:"
   ]
  },
  {
   "cell_type": "code",
   "execution_count": 19,
   "id": "ad353251",
   "metadata": {
    "_kg_hide-output": true,
    "execution": {
     "iopub.execute_input": "2024-07-05T16:26:28.526482Z",
     "iopub.status.busy": "2024-07-05T16:26:28.526103Z",
     "iopub.status.idle": "2024-07-05T16:26:28.538789Z",
     "shell.execute_reply": "2024-07-05T16:26:28.537518Z"
    },
    "papermill": {
     "duration": 0.046626,
     "end_time": "2024-07-05T16:26:28.541249",
     "exception": false,
     "start_time": "2024-07-05T16:26:28.494623",
     "status": "completed"
    },
    "scrolled": true,
    "tags": []
   },
   "outputs": [
    {
     "data": {
      "text/html": [
       "<div>\n",
       "<style scoped>\n",
       "    .dataframe tbody tr th:only-of-type {\n",
       "        vertical-align: middle;\n",
       "    }\n",
       "\n",
       "    .dataframe tbody tr th {\n",
       "        vertical-align: top;\n",
       "    }\n",
       "\n",
       "    .dataframe thead th {\n",
       "        text-align: right;\n",
       "    }\n",
       "</style>\n",
       "<table border=\"1\" class=\"dataframe\">\n",
       "  <thead>\n",
       "    <tr style=\"text-align: right;\">\n",
       "      <th></th>\n",
       "      <th>bathrooms</th>\n",
       "      <th>price</th>\n",
       "    </tr>\n",
       "  </thead>\n",
       "  <tbody>\n",
       "    <tr>\n",
       "      <th>bathrooms</th>\n",
       "      <td>1.000000</td>\n",
       "      <td>0.525138</td>\n",
       "    </tr>\n",
       "    <tr>\n",
       "      <th>price</th>\n",
       "      <td>0.525138</td>\n",
       "      <td>1.000000</td>\n",
       "    </tr>\n",
       "  </tbody>\n",
       "</table>\n",
       "</div>"
      ],
      "text/plain": [
       "           bathrooms     price\n",
       "bathrooms   1.000000  0.525138\n",
       "price       0.525138  1.000000"
      ]
     },
     "execution_count": 19,
     "metadata": {},
     "output_type": "execute_result"
    }
   ],
   "source": [
    "df[[\"bathrooms\", \"price\"]].corr()"
   ]
  },
  {
   "cell_type": "markdown",
   "id": "a2b618e8",
   "metadata": {
    "papermill": {
     "duration": 0.030454,
     "end_time": "2024-07-05T16:26:28.602411",
     "exception": false,
     "start_time": "2024-07-05T16:26:28.571957",
     "status": "completed"
    },
    "tags": []
   },
   "source": [
    "* Implementing the box plot for \"grade\" with respect to prices"
   ]
  },
  {
   "cell_type": "code",
   "execution_count": 20,
   "id": "a8310ef6",
   "metadata": {
    "execution": {
     "iopub.execute_input": "2024-07-05T16:26:28.664768Z",
     "iopub.status.busy": "2024-07-05T16:26:28.664381Z",
     "iopub.status.idle": "2024-07-05T16:26:29.021625Z",
     "shell.execute_reply": "2024-07-05T16:26:29.020459Z"
    },
    "papermill": {
     "duration": 0.39111,
     "end_time": "2024-07-05T16:26:29.023982",
     "exception": false,
     "start_time": "2024-07-05T16:26:28.632872",
     "status": "completed"
    },
    "tags": []
   },
   "outputs": [
    {
     "data": {
      "text/plain": [
       "<Axes: xlabel='grade', ylabel='price'>"
      ]
     },
     "execution_count": 20,
     "metadata": {},
     "output_type": "execute_result"
    },
    {
     "data": {
      "image/png": "[encoded data removed]",
      "text/plain": [
       "<Figure size 640x480 with 1 Axes>"
      ]
     },
     "metadata": {},
     "output_type": "display_data"
    }
   ],
   "source": [
    "sns.boxplot(x = \"grade\", y =  \"price\", data = df)"
   ]
  },
  {
   "cell_type": "markdown",
   "id": "88db6bc9",
   "metadata": {
    "papermill": {
     "duration": 0.031064,
     "end_time": "2024-07-05T16:26:29.086489",
     "exception": false,
     "start_time": "2024-07-05T16:26:29.055425",
     "status": "completed"
    },
    "tags": []
   },
   "source": [
    "Here we see that the distribution of prices between the various gardes given to each respective houses are distinct enough to take grade as a potential good predictor of price.\n",
    "\n",
    "I verify my findings below:"
   ]
  },
  {
   "cell_type": "code",
   "execution_count": 21,
   "id": "722a1fb6",
   "metadata": {
    "_kg_hide-output": true,
    "execution": {
     "iopub.execute_input": "2024-07-05T16:26:29.152211Z",
     "iopub.status.busy": "2024-07-05T16:26:29.151805Z",
     "iopub.status.idle": "2024-07-05T16:26:29.164767Z",
     "shell.execute_reply": "2024-07-05T16:26:29.163738Z"
    },
    "papermill": {
     "duration": 0.0486,
     "end_time": "2024-07-05T16:26:29.167195",
     "exception": false,
     "start_time": "2024-07-05T16:26:29.118595",
     "status": "completed"
    },
    "scrolled": true,
    "tags": []
   },
   "outputs": [
    {
     "data": {
      "text/html": [
       "<div>\n",
       "<style scoped>\n",
       "    .dataframe tbody tr th:only-of-type {\n",
       "        vertical-align: middle;\n",
       "    }\n",
       "\n",
       "    .dataframe tbody tr th {\n",
       "        vertical-align: top;\n",
       "    }\n",
       "\n",
       "    .dataframe thead th {\n",
       "        text-align: right;\n",
       "    }\n",
       "</style>\n",
       "<table border=\"1\" class=\"dataframe\">\n",
       "  <thead>\n",
       "    <tr style=\"text-align: right;\">\n",
       "      <th></th>\n",
       "      <th>grade</th>\n",
       "      <th>price</th>\n",
       "    </tr>\n",
       "  </thead>\n",
       "  <tbody>\n",
       "    <tr>\n",
       "      <th>grade</th>\n",
       "      <td>1.000000</td>\n",
       "      <td>0.667434</td>\n",
       "    </tr>\n",
       "    <tr>\n",
       "      <th>price</th>\n",
       "      <td>0.667434</td>\n",
       "      <td>1.000000</td>\n",
       "    </tr>\n",
       "  </tbody>\n",
       "</table>\n",
       "</div>"
      ],
      "text/plain": [
       "          grade     price\n",
       "grade  1.000000  0.667434\n",
       "price  0.667434  1.000000"
      ]
     },
     "execution_count": 21,
     "metadata": {},
     "output_type": "execute_result"
    }
   ],
   "source": [
    "df[[\"grade\", \"price\"]].corr()"
   ]
  },
  {
   "cell_type": "markdown",
   "id": "e8896264",
   "metadata": {
    "papermill": {
     "duration": 0.030904,
     "end_time": "2024-07-05T16:26:29.229657",
     "exception": false,
     "start_time": "2024-07-05T16:26:29.198753",
     "status": "completed"
    },
    "tags": []
   },
   "source": [
    "<h2>EDA Conclusion:<h2>"
   ]
  },
  {
   "cell_type": "markdown",
   "id": "6fbfae41",
   "metadata": {
    "papermill": {
     "duration": 0.031159,
     "end_time": "2024-07-05T16:26:29.292356",
     "exception": false,
     "start_time": "2024-07-05T16:26:29.261197",
     "status": "completed"
    },
    "tags": []
   },
   "source": [
    "From my analysis, i now a better idea of which variables to consider doing my Model Development phase, and they are as follows:\n",
    "\n",
    "* sqft_living (Square footage of the home)\n",
    "\n",
    "* sqft_living15 (square footage of the home for the year 2015)\n",
    "\n",
    "* sqft_above (Square footage of house apart from basement)\n",
    "\n",
    "* bathrooms (Number of bathrooms)\n",
    "\n",
    "* grade (overall grade given to the housing unit, based on King County grading system)"
   ]
  },
  {
   "cell_type": "markdown",
   "id": "04e2c402",
   "metadata": {
    "papermill": {
     "duration": 0.030921,
     "end_time": "2024-07-05T16:26:29.354586",
     "exception": false,
     "start_time": "2024-07-05T16:26:29.323665",
     "status": "completed"
    },
    "tags": []
   },
   "source": [
    "# Model Development"
   ]
  },
  {
   "cell_type": "markdown",
   "id": "88d90cea",
   "metadata": {
    "papermill": {
     "duration": 0.032157,
     "end_time": "2024-07-05T16:26:29.417921",
     "exception": false,
     "start_time": "2024-07-05T16:26:29.385764",
     "status": "completed"
    },
    "tags": []
   },
   "source": [
    "<h2>Model 1<h2>"
   ]
  },
  {
   "cell_type": "markdown",
   "id": "fe89d9d9",
   "metadata": {
    "papermill": {
     "duration": 0.031064,
     "end_time": "2024-07-05T16:26:29.480183",
     "exception": false,
     "start_time": "2024-07-05T16:26:29.449119",
     "status": "completed"
    },
    "tags": []
   },
   "source": [
    "My first model will be Simple Linear Regression\n",
    "\n",
    "Simple Linear Regression is a method to help us understand the relationship between two variables:\n",
    "\n",
    "* The predictor/independent variable (X)\n",
    "* The response/dependent variable (that we want to predict)(Y)"
   ]
  },
  {
   "cell_type": "markdown",
   "id": "4b562cf4",
   "metadata": {
    "papermill": {
     "duration": 0.030927,
     "end_time": "2024-07-05T16:26:29.542264",
     "exception": false,
     "start_time": "2024-07-05T16:26:29.511337",
     "status": "completed"
    },
    "tags": []
   },
   "source": [
    "I fit a linear regression model that may be used to predict the price by using the sqft_living attribute of the dataset."
   ]
  },
  {
   "cell_type": "code",
   "execution_count": 22,
   "id": "cb3b323c",
   "metadata": {
    "execution": {
     "iopub.execute_input": "2024-07-05T16:26:29.608005Z",
     "iopub.status.busy": "2024-07-05T16:26:29.607621Z",
     "iopub.status.idle": "2024-07-05T16:26:29.612212Z",
     "shell.execute_reply": "2024-07-05T16:26:29.611140Z"
    },
    "papermill": {
     "duration": 0.039814,
     "end_time": "2024-07-05T16:26:29.614462",
     "exception": false,
     "start_time": "2024-07-05T16:26:29.574648",
     "status": "completed"
    },
    "tags": []
   },
   "outputs": [],
   "source": [
    "lm = LinearRegression()"
   ]
  },
  {
   "cell_type": "code",
   "execution_count": 23,
   "id": "9f96f066",
   "metadata": {
    "execution": {
     "iopub.execute_input": "2024-07-05T16:26:29.679629Z",
     "iopub.status.busy": "2024-07-05T16:26:29.679211Z",
     "iopub.status.idle": "2024-07-05T16:26:29.685616Z",
     "shell.execute_reply": "2024-07-05T16:26:29.684527Z"
    },
    "papermill": {
     "duration": 0.041884,
     "end_time": "2024-07-05T16:26:29.687902",
     "exception": false,
     "start_time": "2024-07-05T16:26:29.646018",
     "status": "completed"
    },
    "tags": []
   },
   "outputs": [],
   "source": [
    "x = df[['sqft_living']]\n",
    "y = df['price']"
   ]
  },
  {
   "cell_type": "code",
   "execution_count": 24,
   "id": "042cf616",
   "metadata": {
    "execution": {
     "iopub.execute_input": "2024-07-05T16:26:29.753164Z",
     "iopub.status.busy": "2024-07-05T16:26:29.752658Z",
     "iopub.status.idle": "2024-07-05T16:26:29.777378Z",
     "shell.execute_reply": "2024-07-05T16:26:29.776299Z"
    },
    "papermill": {
     "duration": 0.060104,
     "end_time": "2024-07-05T16:26:29.779576",
     "exception": false,
     "start_time": "2024-07-05T16:26:29.719472",
     "status": "completed"
    },
    "tags": []
   },
   "outputs": [
    {
     "data": {
      "text/html": [
       "<style>#sk-container-id-1 {color: black;background-color: white;}#sk-container-id-1 pre{padding: 0;}#sk-container-id-1 div.sk-toggleable {background-color: white;}#sk-container-id-1 label.sk-toggleable__label {cursor: pointer;display: block;width: 100%;margin-bottom: 0;padding: 0.3em;box-sizing: border-box;text-align: center;}#sk-container-id-1 label.sk-toggleable__label-arrow:before {content: \"▸\";float: left;margin-right: 0.25em;color: #696969;}#sk-container-id-1 label.sk-toggleable__label-arrow:hover:before {color: black;}#sk-container-id-1 div.sk-estimator:hover label.sk-toggleable__label-arrow:before {color: black;}#sk-container-id-1 div.sk-toggleable__content {max-height: 0;max-width: 0;overflow: hidden;text-align: left;background-color: #f0f8ff;}#sk-container-id-1 div.sk-toggleable__content pre {margin: 0.2em;color: black;border-radius: 0.25em;background-color: #f0f8ff;}#sk-container-id-1 input.sk-toggleable__control:checked~div.sk-toggleable__content {max-height: 200px;max-width: 100%;overflow: auto;}#sk-container-id-1 input.sk-toggleable__control:checked~label.sk-toggleable__label-arrow:before {content: \"▾\";}#sk-container-id-1 div.sk-estimator input.sk-toggleable__control:checked~label.sk-toggleable__label {background-color: #d4ebff;}#sk-container-id-1 div.sk-label input.sk-toggleable__control:checked~label.sk-toggleable__label {background-color: #d4ebff;}#sk-container-id-1 input.sk-hidden--visually {border: 0;clip: rect(1px 1px 1px 1px);clip: rect(1px, 1px, 1px, 1px);height: 1px;margin: -1px;overflow: hidden;padding: 0;position: absolute;width: 1px;}#sk-container-id-1 div.sk-estimator {font-family: monospace;background-color: #f0f8ff;border: 1px dotted black;border-radius: 0.25em;box-sizing: border-box;margin-bottom: 0.5em;}#sk-container-id-1 div.sk-estimator:hover {background-color: #d4ebff;}#sk-container-id-1 div.sk-parallel-item::after {content: \"\";width: 100%;border-bottom: 1px solid gray;flex-grow: 1;}#sk-container-id-1 div.sk-label:hover label.sk-toggleable__label {background-color: #d4ebff;}#sk-container-id-1 div.sk-serial::before {content: \"\";position: absolute;border-left: 1px solid gray;box-sizing: border-box;top: 0;bottom: 0;left: 50%;z-index: 0;}#sk-container-id-1 div.sk-serial {display: flex;flex-direction: column;align-items: center;background-color: white;padding-right: 0.2em;padding-left: 0.2em;position: relative;}#sk-container-id-1 div.sk-item {position: relative;z-index: 1;}#sk-container-id-1 div.sk-parallel {display: flex;align-items: stretch;justify-content: center;background-color: white;position: relative;}#sk-container-id-1 div.sk-item::before, #sk-container-id-1 div.sk-parallel-item::before {content: \"\";position: absolute;border-left: 1px solid gray;box-sizing: border-box;top: 0;bottom: 0;left: 50%;z-index: -1;}#sk-container-id-1 div.sk-parallel-item {display: flex;flex-direction: column;z-index: 1;position: relative;background-color: white;}#sk-container-id-1 div.sk-parallel-item:first-child::after {align-self: flex-end;width: 50%;}#sk-container-id-1 div.sk-parallel-item:last-child::after {align-self: flex-start;width: 50%;}#sk-container-id-1 div.sk-parallel-item:only-child::after {width: 0;}#sk-container-id-1 div.sk-dashed-wrapped {border: 1px dashed gray;margin: 0 0.4em 0.5em 0.4em;box-sizing: border-box;padding-bottom: 0.4em;background-color: white;}#sk-container-id-1 div.sk-label label {font-family: monospace;font-weight: bold;display: inline-block;line-height: 1.2em;}#sk-container-id-1 div.sk-label-container {text-align: center;}#sk-container-id-1 div.sk-container {/* jupyter's `normalize.less` sets `[hidden] { display: none; }` but bootstrap.min.css set `[hidden] { display: none !important; }` so we also need the `!important` here to be able to override the default hidden behavior on the sphinx rendered scikit-learn.org. See: https://github.com/scikit-learn/scikit-learn/issues/21755 */display: inline-block !important;position: relative;}#sk-container-id-1 div.sk-text-repr-fallback {display: none;}</style><div id=\"sk-container-id-1\" class=\"sk-top-container\"><div class=\"sk-text-repr-fallback\"><pre>LinearRegression()</pre><b>In a Jupyter environment, please rerun this cell to show the HTML representation or trust the notebook. <br />On GitHub, the HTML representation is unable to render, please try loading this page with nbviewer.org.</b></div><div class=\"sk-container\" hidden><div class=\"sk-item\"><div class=\"sk-estimator sk-toggleable\"><input class=\"sk-toggleable__control sk-hidden--visually\" id=\"sk-estimator-id-1\" type=\"checkbox\" checked><label for=\"sk-estimator-id-1\" class=\"sk-toggleable__label sk-toggleable__label-arrow\">LinearRegression</label><div class=\"sk-toggleable__content\"><pre>LinearRegression()</pre></div></div></div></div></div>"
      ],
      "text/plain": [
       "LinearRegression()"
      ]
     },
     "execution_count": 24,
     "metadata": {},
     "output_type": "execute_result"
    }
   ],
   "source": [
    "lm.fit(x,y)"
   ]
  },
  {
   "cell_type": "code",
   "execution_count": 25,
   "id": "de17bc60",
   "metadata": {
    "_kg_hide-output": true,
    "execution": {
     "iopub.execute_input": "2024-07-05T16:26:29.847992Z",
     "iopub.status.busy": "2024-07-05T16:26:29.847612Z",
     "iopub.status.idle": "2024-07-05T16:26:29.856480Z",
     "shell.execute_reply": "2024-07-05T16:26:29.855376Z"
    },
    "papermill": {
     "duration": 0.044371,
     "end_time": "2024-07-05T16:26:29.858727",
     "exception": false,
     "start_time": "2024-07-05T16:26:29.814356",
     "status": "completed"
    },
    "scrolled": true,
    "tags": []
   },
   "outputs": [
    {
     "data": {
      "text/plain": [
       "array([-0.68787853,  0.37463001, -1.00128033, -0.09165072, -0.30568121])"
      ]
     },
     "execution_count": 25,
     "metadata": {},
     "output_type": "execute_result"
    }
   ],
   "source": [
    "# obatining a prediction\n",
    "Yhat = lm.predict(x)\n",
    "Yhat[0:5]"
   ]
  },
  {
   "cell_type": "code",
   "execution_count": 26,
   "id": "bb373ee9",
   "metadata": {
    "execution": {
     "iopub.execute_input": "2024-07-05T16:26:29.924601Z",
     "iopub.status.busy": "2024-07-05T16:26:29.924226Z",
     "iopub.status.idle": "2024-07-05T16:26:29.932767Z",
     "shell.execute_reply": "2024-07-05T16:26:29.931582Z"
    },
    "papermill": {
     "duration": 0.043802,
     "end_time": "2024-07-05T16:26:29.934890",
     "exception": false,
     "start_time": "2024-07-05T16:26:29.891088",
     "status": "completed"
    },
    "tags": []
   },
   "outputs": [
    {
     "name": "stdout",
     "output_type": "stream",
     "text": [
      "The R^2 value is: 0.4928532179037931\n"
     ]
    }
   ],
   "source": [
    "print(\"The R^2 value is:\", lm.score(x,y))"
   ]
  },
  {
   "cell_type": "markdown",
   "id": "7f066267",
   "metadata": {
    "papermill": {
     "duration": 0.032046,
     "end_time": "2024-07-05T16:26:29.998829",
     "exception": false,
     "start_time": "2024-07-05T16:26:29.966783",
     "status": "completed"
    },
    "tags": []
   },
   "source": [
    "We can say that ~49.285% of the variation of the price is explained by this simple linear model \"sqft_living\"."
   ]
  },
  {
   "cell_type": "markdown",
   "id": "76f44eff",
   "metadata": {
    "papermill": {
     "duration": 0.032288,
     "end_time": "2024-07-05T16:26:30.063985",
     "exception": false,
     "start_time": "2024-07-05T16:26:30.031697",
     "status": "completed"
    },
    "tags": []
   },
   "source": [
    "**calculating the MSE for simple linear regression:**"
   ]
  },
  {
   "cell_type": "code",
   "execution_count": 27,
   "id": "2bf57566",
   "metadata": {
    "execution": {
     "iopub.execute_input": "2024-07-05T16:26:30.131142Z",
     "iopub.status.busy": "2024-07-05T16:26:30.130771Z",
     "iopub.status.idle": "2024-07-05T16:26:30.137316Z",
     "shell.execute_reply": "2024-07-05T16:26:30.136289Z"
    },
    "papermill": {
     "duration": 0.042564,
     "end_time": "2024-07-05T16:26:30.139813",
     "exception": false,
     "start_time": "2024-07-05T16:26:30.097249",
     "status": "completed"
    },
    "tags": []
   },
   "outputs": [
    {
     "name": "stdout",
     "output_type": "stream",
     "text": [
      "The mean square error of the price and predicted value is: 0.5071467820962069\n"
     ]
    }
   ],
   "source": [
    "mse = mean_squared_error(df['price'], Yhat)\n",
    "print('The mean square error of the price and predicted value is:',mse)"
   ]
  },
  {
   "cell_type": "markdown",
   "id": "cf099347",
   "metadata": {
    "papermill": {
     "duration": 0.031365,
     "end_time": "2024-07-05T16:26:30.202958",
     "exception": false,
     "start_time": "2024-07-05T16:26:30.171593",
     "status": "completed"
    },
    "tags": []
   },
   "source": [
    "**Visualizing my linear model between sqft_living and price:**\n"
   ]
  },
  {
   "cell_type": "code",
   "execution_count": 28,
   "id": "52c9b6b1",
   "metadata": {
    "execution": {
     "iopub.execute_input": "2024-07-05T16:26:30.267602Z",
     "iopub.status.busy": "2024-07-05T16:26:30.267217Z",
     "iopub.status.idle": "2024-07-05T16:26:30.655650Z",
     "shell.execute_reply": "2024-07-05T16:26:30.654590Z"
    },
    "papermill": {
     "duration": 0.423321,
     "end_time": "2024-07-05T16:26:30.657956",
     "exception": false,
     "start_time": "2024-07-05T16:26:30.234635",
     "status": "completed"
    },
    "tags": []
   },
   "outputs": [
    {
     "data": {
      "text/plain": [
       "<Axes: xlabel='sqft_living', ylabel='price'>"
      ]
     },
     "execution_count": 28,
     "metadata": {},
     "output_type": "execute_result"
    },
    {
     "data": {
      "image/png": "[encoded data removed]",
      "text/plain": [
       "<Figure size 640x480 with 1 Axes>"
      ]
     },
     "metadata": {},
     "output_type": "display_data"
    }
   ],
   "source": [
    "sns.residplot(x = df['sqft_living'], y = df['price'])"
   ]
  },
  {
   "cell_type": "markdown",
   "id": "7c3edeaf",
   "metadata": {
    "papermill": {
     "duration": 0.032453,
     "end_time": "2024-07-05T16:26:30.723735",
     "exception": false,
     "start_time": "2024-07-05T16:26:30.691282",
     "status": "completed"
    },
    "tags": []
   },
   "source": [
    "Here i see that that the points are not randomly spread out, making me come to the conclusion that a linear model is not appropriate for the data."
   ]
  },
  {
   "cell_type": "markdown",
   "id": "3cabeca2",
   "metadata": {
    "papermill": {
     "duration": 0.032569,
     "end_time": "2024-07-05T16:26:30.789600",
     "exception": false,
     "start_time": "2024-07-05T16:26:30.757031",
     "status": "completed"
    },
    "tags": []
   },
   "source": [
    "<h2>Model 2:<h2>"
   ]
  },
  {
   "cell_type": "markdown",
   "id": "03831ee8",
   "metadata": {
    "papermill": {
     "duration": 0.032362,
     "end_time": "2024-07-05T16:26:30.855477",
     "exception": false,
     "start_time": "2024-07-05T16:26:30.823115",
     "status": "completed"
    },
    "tags": []
   },
   "source": [
    "My second model will be Multiple Linear Regression\n",
    "\n",
    "What if I want to predict the price of a house using more than one variable?\n",
    "\n",
    "If I want to use more variables in my model to predict the house prices, I can use Multiple Linear Regression. Multiple Linear Regression is very similar to Simple Linear Regression, but this method is used to explain the relationship between one continuous response (dependent) variable and two or more predictor (independent) variables."
   ]
  },
  {
   "cell_type": "code",
   "execution_count": 29,
   "id": "d52af4df",
   "metadata": {
    "execution": {
     "iopub.execute_input": "2024-07-05T16:26:30.923396Z",
     "iopub.status.busy": "2024-07-05T16:26:30.922989Z",
     "iopub.status.idle": "2024-07-05T16:26:30.930845Z",
     "shell.execute_reply": "2024-07-05T16:26:30.929787Z"
    },
    "papermill": {
     "duration": 0.044981,
     "end_time": "2024-07-05T16:26:30.933123",
     "exception": false,
     "start_time": "2024-07-05T16:26:30.888142",
     "status": "completed"
    },
    "tags": []
   },
   "outputs": [],
   "source": [
    "z =df[[\"sqft_living\", \"sqft_above\", \"sqft_living15\", \"bathrooms\", \"grade\", \"bedrooms\", \"view\", \"sqft_lot\", \"floors\", \"condition\", \"yr_built\", \"lat\", \"sqft_lot15\"]]"
   ]
  },
  {
   "cell_type": "code",
   "execution_count": 30,
   "id": "f5e1d316",
   "metadata": {
    "execution": {
     "iopub.execute_input": "2024-07-05T16:26:31.000478Z",
     "iopub.status.busy": "2024-07-05T16:26:31.000096Z",
     "iopub.status.idle": "2024-07-05T16:26:31.004845Z",
     "shell.execute_reply": "2024-07-05T16:26:31.003647Z"
    },
    "papermill": {
     "duration": 0.041033,
     "end_time": "2024-07-05T16:26:31.007072",
     "exception": false,
     "start_time": "2024-07-05T16:26:30.966039",
     "status": "completed"
    },
    "tags": []
   },
   "outputs": [],
   "source": [
    "lm = LinearRegression()"
   ]
  },
  {
   "cell_type": "code",
   "execution_count": 31,
   "id": "5093fe9a",
   "metadata": {
    "execution": {
     "iopub.execute_input": "2024-07-05T16:26:31.074078Z",
     "iopub.status.busy": "2024-07-05T16:26:31.073651Z",
     "iopub.status.idle": "2024-07-05T16:26:31.110146Z",
     "shell.execute_reply": "2024-07-05T16:26:31.108685Z"
    },
    "papermill": {
     "duration": 0.073462,
     "end_time": "2024-07-05T16:26:31.113181",
     "exception": false,
     "start_time": "2024-07-05T16:26:31.039719",
     "status": "completed"
    },
    "tags": []
   },
   "outputs": [
    {
     "data": {
      "text/html": [
       "<style>#sk-container-id-2 {color: black;background-color: white;}#sk-container-id-2 pre{padding: 0;}#sk-container-id-2 div.sk-toggleable {background-color: white;}#sk-container-id-2 label.sk-toggleable__label {cursor: pointer;display: block;width: 100%;margin-bottom: 0;padding: 0.3em;box-sizing: border-box;text-align: center;}#sk-container-id-2 label.sk-toggleable__label-arrow:before {content: \"▸\";float: left;margin-right: 0.25em;color: #696969;}#sk-container-id-2 label.sk-toggleable__label-arrow:hover:before {color: black;}#sk-container-id-2 div.sk-estimator:hover label.sk-toggleable__label-arrow:before {color: black;}#sk-container-id-2 div.sk-toggleable__content {max-height: 0;max-width: 0;overflow: hidden;text-align: left;background-color: #f0f8ff;}#sk-container-id-2 div.sk-toggleable__content pre {margin: 0.2em;color: black;border-radius: 0.25em;background-color: #f0f8ff;}#sk-container-id-2 input.sk-toggleable__control:checked~div.sk-toggleable__content {max-height: 200px;max-width: 100%;overflow: auto;}#sk-container-id-2 input.sk-toggleable__control:checked~label.sk-toggleable__label-arrow:before {content: \"▾\";}#sk-container-id-2 div.sk-estimator input.sk-toggleable__control:checked~label.sk-toggleable__label {background-color: #d4ebff;}#sk-container-id-2 div.sk-label input.sk-toggleable__control:checked~label.sk-toggleable__label {background-color: #d4ebff;}#sk-container-id-2 input.sk-hidden--visually {border: 0;clip: rect(1px 1px 1px 1px);clip: rect(1px, 1px, 1px, 1px);height: 1px;margin: -1px;overflow: hidden;padding: 0;position: absolute;width: 1px;}#sk-container-id-2 div.sk-estimator {font-family: monospace;background-color: #f0f8ff;border: 1px dotted black;border-radius: 0.25em;box-sizing: border-box;margin-bottom: 0.5em;}#sk-container-id-2 div.sk-estimator:hover {background-color: #d4ebff;}#sk-container-id-2 div.sk-parallel-item::after {content: \"\";width: 100%;border-bottom: 1px solid gray;flex-grow: 1;}#sk-container-id-2 div.sk-label:hover label.sk-toggleable__label {background-color: #d4ebff;}#sk-container-id-2 div.sk-serial::before {content: \"\";position: absolute;border-left: 1px solid gray;box-sizing: border-box;top: 0;bottom: 0;left: 50%;z-index: 0;}#sk-container-id-2 div.sk-serial {display: flex;flex-direction: column;align-items: center;background-color: white;padding-right: 0.2em;padding-left: 0.2em;position: relative;}#sk-container-id-2 div.sk-item {position: relative;z-index: 1;}#sk-container-id-2 div.sk-parallel {display: flex;align-items: stretch;justify-content: center;background-color: white;position: relative;}#sk-container-id-2 div.sk-item::before, #sk-container-id-2 div.sk-parallel-item::before {content: \"\";position: absolute;border-left: 1px solid gray;box-sizing: border-box;top: 0;bottom: 0;left: 50%;z-index: -1;}#sk-container-id-2 div.sk-parallel-item {display: flex;flex-direction: column;z-index: 1;position: relative;background-color: white;}#sk-container-id-2 div.sk-parallel-item:first-child::after {align-self: flex-end;width: 50%;}#sk-container-id-2 div.sk-parallel-item:last-child::after {align-self: flex-start;width: 50%;}#sk-container-id-2 div.sk-parallel-item:only-child::after {width: 0;}#sk-container-id-2 div.sk-dashed-wrapped {border: 1px dashed gray;margin: 0 0.4em 0.5em 0.4em;box-sizing: border-box;padding-bottom: 0.4em;background-color: white;}#sk-container-id-2 div.sk-label label {font-family: monospace;font-weight: bold;display: inline-block;line-height: 1.2em;}#sk-container-id-2 div.sk-label-container {text-align: center;}#sk-container-id-2 div.sk-container {/* jupyter's `normalize.less` sets `[hidden] { display: none; }` but bootstrap.min.css set `[hidden] { display: none !important; }` so we also need the `!important` here to be able to override the default hidden behavior on the sphinx rendered scikit-learn.org. See: https://github.com/scikit-learn/scikit-learn/issues/21755 */display: inline-block !important;position: relative;}#sk-container-id-2 div.sk-text-repr-fallback {display: none;}</style><div id=\"sk-container-id-2\" class=\"sk-top-container\"><div class=\"sk-text-repr-fallback\"><pre>LinearRegression()</pre><b>In a Jupyter environment, please rerun this cell to show the HTML representation or trust the notebook. <br />On GitHub, the HTML representation is unable to render, please try loading this page with nbviewer.org.</b></div><div class=\"sk-container\" hidden><div class=\"sk-item\"><div class=\"sk-estimator sk-toggleable\"><input class=\"sk-toggleable__control sk-hidden--visually\" id=\"sk-estimator-id-2\" type=\"checkbox\" checked><label for=\"sk-estimator-id-2\" class=\"sk-toggleable__label sk-toggleable__label-arrow\">LinearRegression</label><div class=\"sk-toggleable__content\"><pre>LinearRegression()</pre></div></div></div></div></div>"
      ],
      "text/plain": [
       "LinearRegression()"
      ]
     },
     "execution_count": 31,
     "metadata": {},
     "output_type": "execute_result"
    }
   ],
   "source": [
    "lm.fit(z, df['price'])"
   ]
  },
  {
   "cell_type": "code",
   "execution_count": 32,
   "id": "e2be9fd0",
   "metadata": {
    "_kg_hide-output": true,
    "execution": {
     "iopub.execute_input": "2024-07-05T16:26:31.224068Z",
     "iopub.status.busy": "2024-07-05T16:26:31.223089Z",
     "iopub.status.idle": "2024-07-05T16:26:31.235281Z",
     "shell.execute_reply": "2024-07-05T16:26:31.234191Z"
    },
    "papermill": {
     "duration": 0.072513,
     "end_time": "2024-07-05T16:26:31.240173",
     "exception": false,
     "start_time": "2024-07-05T16:26:31.167660",
     "status": "completed"
    },
    "scrolled": true,
    "tags": []
   },
   "outputs": [
    {
     "data": {
      "text/plain": [
       "array([-0.76146122,  0.42771954, -0.56258213, -0.21469297, -0.18853104])"
      ]
     },
     "execution_count": 32,
     "metadata": {},
     "output_type": "execute_result"
    }
   ],
   "source": [
    "Yhat2 = lm.predict(z)\n",
    "Yhat2[0:5]"
   ]
  },
  {
   "cell_type": "code",
   "execution_count": 33,
   "id": "e43c6377",
   "metadata": {
    "execution": {
     "iopub.execute_input": "2024-07-05T16:26:31.352154Z",
     "iopub.status.busy": "2024-07-05T16:26:31.351767Z",
     "iopub.status.idle": "2024-07-05T16:26:31.362316Z",
     "shell.execute_reply": "2024-07-05T16:26:31.361277Z"
    },
    "papermill": {
     "duration": 0.069516,
     "end_time": "2024-07-05T16:26:31.364945",
     "exception": false,
     "start_time": "2024-07-05T16:26:31.295429",
     "status": "completed"
    },
    "tags": []
   },
   "outputs": [
    {
     "name": "stdout",
     "output_type": "stream",
     "text": [
      "The R^2 value is: 0.6772667882767119\n"
     ]
    }
   ],
   "source": [
    "print('The R^2 value is:', lm.score(z,df['price']))"
   ]
  },
  {
   "cell_type": "markdown",
   "id": "d74fbd40",
   "metadata": {
    "papermill": {
     "duration": 0.054442,
     "end_time": "2024-07-05T16:26:31.480197",
     "exception": false,
     "start_time": "2024-07-05T16:26:31.425755",
     "status": "completed"
    },
    "tags": []
   },
   "source": [
    "We can say that ~67.726 % of the variation of price is explained by this multiple linear regression \"multi_fit\""
   ]
  },
  {
   "cell_type": "markdown",
   "id": "ae551e3a",
   "metadata": {
    "papermill": {
     "duration": 0.032944,
     "end_time": "2024-07-05T16:26:31.546531",
     "exception": false,
     "start_time": "2024-07-05T16:26:31.513587",
     "status": "completed"
    },
    "tags": []
   },
   "source": [
    "**calculating the MSE for multiple linear regression:**"
   ]
  },
  {
   "cell_type": "code",
   "execution_count": 34,
   "id": "c7c70369",
   "metadata": {
    "execution": {
     "iopub.execute_input": "2024-07-05T16:26:31.615175Z",
     "iopub.status.busy": "2024-07-05T16:26:31.614766Z",
     "iopub.status.idle": "2024-07-05T16:26:31.625452Z",
     "shell.execute_reply": "2024-07-05T16:26:31.624285Z"
    },
    "papermill": {
     "duration": 0.048177,
     "end_time": "2024-07-05T16:26:31.628284",
     "exception": false,
     "start_time": "2024-07-05T16:26:31.580107",
     "status": "completed"
    },
    "tags": []
   },
   "outputs": [
    {
     "name": "stdout",
     "output_type": "stream",
     "text": [
      "The mean square error of charge predicted value using multifit is: 0.32273321172328806\n"
     ]
    }
   ],
   "source": [
    "# calculating the MSE for the MLR\n",
    "\n",
    "Y_predict_multifit = lm.predict(z)\n",
    "print('The mean square error of charge predicted value using multifit is:',\\\n",
    "     mean_squared_error(df['price'],Y_predict_multifit))"
   ]
  },
  {
   "cell_type": "markdown",
   "id": "8d3abded",
   "metadata": {
    "papermill": {
     "duration": 0.055448,
     "end_time": "2024-07-05T16:26:31.739391",
     "exception": false,
     "start_time": "2024-07-05T16:26:31.683943",
     "status": "completed"
    },
    "tags": []
   },
   "source": [
    "**Visualizing my  multiple linear model between Actual values and predicted values:**"
   ]
  },
  {
   "cell_type": "code",
   "execution_count": 35,
   "id": "14c200cf",
   "metadata": {
    "execution": {
     "iopub.execute_input": "2024-07-05T16:26:31.809376Z",
     "iopub.status.busy": "2024-07-05T16:26:31.808985Z",
     "iopub.status.idle": "2024-07-05T16:26:32.390065Z",
     "shell.execute_reply": "2024-07-05T16:26:32.388904Z"
    },
    "papermill": {
     "duration": 0.618495,
     "end_time": "2024-07-05T16:26:32.392705",
     "exception": false,
     "start_time": "2024-07-05T16:26:31.774210",
     "status": "completed"
    },
    "tags": []
   },
   "outputs": [
    {
     "data": {
      "image/png": "[encoded data removed]",
      "text/plain": [
       "<Figure size 640x480 with 1 Axes>"
      ]
     },
     "metadata": {},
     "output_type": "display_data"
    }
   ],
   "source": [
    "ax1 = sns.distplot(df['price'], hist=False, color=\"r\", label=\"Actual Value\")\n",
    "sns.distplot(Yhat2, hist=False, color=\"b\", label=\"Fitted Values\" , ax=ax1)\n",
    "\n",
    "\n",
    "plt.title('Actual vs Fitted Values for price')\n",
    "plt.xlabel('price (in dollars)')\n",
    "plt.ylabel('Density')\n",
    "plt.legend(['Actual value', 'predicted value'])\n",
    "\n",
    "plt.show()\n",
    "plt.close()"
   ]
  },
  {
   "cell_type": "markdown",
   "id": "2e8db68e",
   "metadata": {
    "papermill": {
     "duration": 0.033528,
     "end_time": "2024-07-05T16:26:32.462189",
     "exception": false,
     "start_time": "2024-07-05T16:26:32.428661",
     "status": "completed"
    },
    "tags": []
   },
   "source": [
    "The fitted values exhibit a reasonable approximation to the actual values, as indicated by the partial overlap between their distributions. However, the presence of discrepancies suggests that the model could benefit from further refinement"
   ]
  },
  {
   "cell_type": "markdown",
   "id": "0e66a4de",
   "metadata": {
    "papermill": {
     "duration": 0.033338,
     "end_time": "2024-07-05T16:26:32.529298",
     "exception": false,
     "start_time": "2024-07-05T16:26:32.495960",
     "status": "completed"
    },
    "tags": []
   },
   "source": [
    "<h2>Model 3<h2>"
   ]
  },
  {
   "cell_type": "markdown",
   "id": "f0dfa7c6",
   "metadata": {
    "papermill": {
     "duration": 0.035112,
     "end_time": "2024-07-05T16:26:32.598255",
     "exception": false,
     "start_time": "2024-07-05T16:26:32.563143",
     "status": "completed"
    },
    "tags": []
   },
   "source": [
    "My third model will be a Polynomial Regression"
   ]
  },
  {
   "cell_type": "code",
   "execution_count": 36,
   "id": "df27940e",
   "metadata": {
    "execution": {
     "iopub.execute_input": "2024-07-05T16:26:32.667472Z",
     "iopub.status.busy": "2024-07-05T16:26:32.667101Z",
     "iopub.status.idle": "2024-07-05T16:26:32.672390Z",
     "shell.execute_reply": "2024-07-05T16:26:32.671336Z"
    },
    "papermill": {
     "duration": 0.042378,
     "end_time": "2024-07-05T16:26:32.674471",
     "exception": false,
     "start_time": "2024-07-05T16:26:32.632093",
     "status": "completed"
    },
    "tags": []
   },
   "outputs": [],
   "source": [
    "Input=[('scale',StandardScaler()),('polynomial', PolynomialFeatures(include_bias=False)),('model',LinearRegression())]"
   ]
  },
  {
   "cell_type": "code",
   "execution_count": 37,
   "id": "37522edc",
   "metadata": {
    "execution": {
     "iopub.execute_input": "2024-07-05T16:26:32.744357Z",
     "iopub.status.busy": "2024-07-05T16:26:32.743973Z",
     "iopub.status.idle": "2024-07-05T16:26:32.754827Z",
     "shell.execute_reply": "2024-07-05T16:26:32.753871Z"
    },
    "papermill": {
     "duration": 0.048614,
     "end_time": "2024-07-05T16:26:32.756978",
     "exception": false,
     "start_time": "2024-07-05T16:26:32.708364",
     "status": "completed"
    },
    "tags": []
   },
   "outputs": [
    {
     "data": {
      "text/html": [
       "<style>#sk-container-id-3 {color: black;background-color: white;}#sk-container-id-3 pre{padding: 0;}#sk-container-id-3 div.sk-toggleable {background-color: white;}#sk-container-id-3 label.sk-toggleable__label {cursor: pointer;display: block;width: 100%;margin-bottom: 0;padding: 0.3em;box-sizing: border-box;text-align: center;}#sk-container-id-3 label.sk-toggleable__label-arrow:before {content: \"▸\";float: left;margin-right: 0.25em;color: #696969;}#sk-container-id-3 label.sk-toggleable__label-arrow:hover:before {color: black;}#sk-container-id-3 div.sk-estimator:hover label.sk-toggleable__label-arrow:before {color: black;}#sk-container-id-3 div.sk-toggleable__content {max-height: 0;max-width: 0;overflow: hidden;text-align: left;background-color: #f0f8ff;}#sk-container-id-3 div.sk-toggleable__content pre {margin: 0.2em;color: black;border-radius: 0.25em;background-color: #f0f8ff;}#sk-container-id-3 input.sk-toggleable__control:checked~div.sk-toggleable__content {max-height: 200px;max-width: 100%;overflow: auto;}#sk-container-id-3 input.sk-toggleable__control:checked~label.sk-toggleable__label-arrow:before {content: \"▾\";}#sk-container-id-3 div.sk-estimator input.sk-toggleable__control:checked~label.sk-toggleable__label {background-color: #d4ebff;}#sk-container-id-3 div.sk-label input.sk-toggleable__control:checked~label.sk-toggleable__label {background-color: #d4ebff;}#sk-container-id-3 input.sk-hidden--visually {border: 0;clip: rect(1px 1px 1px 1px);clip: rect(1px, 1px, 1px, 1px);height: 1px;margin: -1px;overflow: hidden;padding: 0;position: absolute;width: 1px;}#sk-container-id-3 div.sk-estimator {font-family: monospace;background-color: #f0f8ff;border: 1px dotted black;border-radius: 0.25em;box-sizing: border-box;margin-bottom: 0.5em;}#sk-container-id-3 div.sk-estimator:hover {background-color: #d4ebff;}#sk-container-id-3 div.sk-parallel-item::after {content: \"\";width: 100%;border-bottom: 1px solid gray;flex-grow: 1;}#sk-container-id-3 div.sk-label:hover label.sk-toggleable__label {background-color: #d4ebff;}#sk-container-id-3 div.sk-serial::before {content: \"\";position: absolute;border-left: 1px solid gray;box-sizing: border-box;top: 0;bottom: 0;left: 50%;z-index: 0;}#sk-container-id-3 div.sk-serial {display: flex;flex-direction: column;align-items: center;background-color: white;padding-right: 0.2em;padding-left: 0.2em;position: relative;}#sk-container-id-3 div.sk-item {position: relative;z-index: 1;}#sk-container-id-3 div.sk-parallel {display: flex;align-items: stretch;justify-content: center;background-color: white;position: relative;}#sk-container-id-3 div.sk-item::before, #sk-container-id-3 div.sk-parallel-item::before {content: \"\";position: absolute;border-left: 1px solid gray;box-sizing: border-box;top: 0;bottom: 0;left: 50%;z-index: -1;}#sk-container-id-3 div.sk-parallel-item {display: flex;flex-direction: column;z-index: 1;position: relative;background-color: white;}#sk-container-id-3 div.sk-parallel-item:first-child::after {align-self: flex-end;width: 50%;}#sk-container-id-3 div.sk-parallel-item:last-child::after {align-self: flex-start;width: 50%;}#sk-container-id-3 div.sk-parallel-item:only-child::after {width: 0;}#sk-container-id-3 div.sk-dashed-wrapped {border: 1px dashed gray;margin: 0 0.4em 0.5em 0.4em;box-sizing: border-box;padding-bottom: 0.4em;background-color: white;}#sk-container-id-3 div.sk-label label {font-family: monospace;font-weight: bold;display: inline-block;line-height: 1.2em;}#sk-container-id-3 div.sk-label-container {text-align: center;}#sk-container-id-3 div.sk-container {/* jupyter's `normalize.less` sets `[hidden] { display: none; }` but bootstrap.min.css set `[hidden] { display: none !important; }` so we also need the `!important` here to be able to override the default hidden behavior on the sphinx rendered scikit-learn.org. See: https://github.com/scikit-learn/scikit-learn/issues/21755 */display: inline-block !important;position: relative;}#sk-container-id-3 div.sk-text-repr-fallback {display: none;}</style><div id=\"sk-container-id-3\" class=\"sk-top-container\"><div class=\"sk-text-repr-fallback\"><pre>Pipeline(steps=[(&#x27;scale&#x27;, StandardScaler()),\n",
       "                (&#x27;polynomial&#x27;, PolynomialFeatures(include_bias=False)),\n",
       "                (&#x27;model&#x27;, LinearRegression())])</pre><b>In a Jupyter environment, please rerun this cell to show the HTML representation or trust the notebook. <br />On GitHub, the HTML representation is unable to render, please try loading this page with nbviewer.org.</b></div><div class=\"sk-container\" hidden><div class=\"sk-item sk-dashed-wrapped\"><div class=\"sk-label-container\"><div class=\"sk-label sk-toggleable\"><input class=\"sk-toggleable__control sk-hidden--visually\" id=\"sk-estimator-id-3\" type=\"checkbox\" ><label for=\"sk-estimator-id-3\" class=\"sk-toggleable__label sk-toggleable__label-arrow\">Pipeline</label><div class=\"sk-toggleable__content\"><pre>Pipeline(steps=[(&#x27;scale&#x27;, StandardScaler()),\n",
       "                (&#x27;polynomial&#x27;, PolynomialFeatures(include_bias=False)),\n",
       "                (&#x27;model&#x27;, LinearRegression())])</pre></div></div></div><div class=\"sk-serial\"><div class=\"sk-item\"><div class=\"sk-estimator sk-toggleable\"><input class=\"sk-toggleable__control sk-hidden--visually\" id=\"sk-estimator-id-4\" type=\"checkbox\" ><label for=\"sk-estimator-id-4\" class=\"sk-toggleable__label sk-toggleable__label-arrow\">StandardScaler</label><div class=\"sk-toggleable__content\"><pre>StandardScaler()</pre></div></div></div><div class=\"sk-item\"><div class=\"sk-estimator sk-toggleable\"><input class=\"sk-toggleable__control sk-hidden--visually\" id=\"sk-estimator-id-5\" type=\"checkbox\" ><label for=\"sk-estimator-id-5\" class=\"sk-toggleable__label sk-toggleable__label-arrow\">PolynomialFeatures</label><div class=\"sk-toggleable__content\"><pre>PolynomialFeatures(include_bias=False)</pre></div></div></div><div class=\"sk-item\"><div class=\"sk-estimator sk-toggleable\"><input class=\"sk-toggleable__control sk-hidden--visually\" id=\"sk-estimator-id-6\" type=\"checkbox\" ><label for=\"sk-estimator-id-6\" class=\"sk-toggleable__label sk-toggleable__label-arrow\">LinearRegression</label><div class=\"sk-toggleable__content\"><pre>LinearRegression()</pre></div></div></div></div></div></div></div>"
      ],
      "text/plain": [
       "Pipeline(steps=[('scale', StandardScaler()),\n",
       "                ('polynomial', PolynomialFeatures(include_bias=False)),\n",
       "                ('model', LinearRegression())])"
      ]
     },
     "execution_count": 37,
     "metadata": {},
     "output_type": "execute_result"
    }
   ],
   "source": [
    "Pipe = Pipeline(Input)\n",
    "Pipe"
   ]
  },
  {
   "cell_type": "code",
   "execution_count": 38,
   "id": "0f586ebe",
   "metadata": {
    "execution": {
     "iopub.execute_input": "2024-07-05T16:26:32.828130Z",
     "iopub.status.busy": "2024-07-05T16:26:32.827030Z",
     "iopub.status.idle": "2024-07-05T16:26:33.021591Z",
     "shell.execute_reply": "2024-07-05T16:26:33.020470Z"
    },
    "papermill": {
     "duration": 0.233996,
     "end_time": "2024-07-05T16:26:33.024877",
     "exception": false,
     "start_time": "2024-07-05T16:26:32.790881",
     "status": "completed"
    },
    "tags": []
   },
   "outputs": [
    {
     "data": {
      "text/html": [
       "<style>#sk-container-id-4 {color: black;background-color: white;}#sk-container-id-4 pre{padding: 0;}#sk-container-id-4 div.sk-toggleable {background-color: white;}#sk-container-id-4 label.sk-toggleable__label {cursor: pointer;display: block;width: 100%;margin-bottom: 0;padding: 0.3em;box-sizing: border-box;text-align: center;}#sk-container-id-4 label.sk-toggleable__label-arrow:before {content: \"▸\";float: left;margin-right: 0.25em;color: #696969;}#sk-container-id-4 label.sk-toggleable__label-arrow:hover:before {color: black;}#sk-container-id-4 div.sk-estimator:hover label.sk-toggleable__label-arrow:before {color: black;}#sk-container-id-4 div.sk-toggleable__content {max-height: 0;max-width: 0;overflow: hidden;text-align: left;background-color: #f0f8ff;}#sk-container-id-4 div.sk-toggleable__content pre {margin: 0.2em;color: black;border-radius: 0.25em;background-color: #f0f8ff;}#sk-container-id-4 input.sk-toggleable__control:checked~div.sk-toggleable__content {max-height: 200px;max-width: 100%;overflow: auto;}#sk-container-id-4 input.sk-toggleable__control:checked~label.sk-toggleable__label-arrow:before {content: \"▾\";}#sk-container-id-4 div.sk-estimator input.sk-toggleable__control:checked~label.sk-toggleable__label {background-color: #d4ebff;}#sk-container-id-4 div.sk-label input.sk-toggleable__control:checked~label.sk-toggleable__label {background-color: #d4ebff;}#sk-container-id-4 input.sk-hidden--visually {border: 0;clip: rect(1px 1px 1px 1px);clip: rect(1px, 1px, 1px, 1px);height: 1px;margin: -1px;overflow: hidden;padding: 0;position: absolute;width: 1px;}#sk-container-id-4 div.sk-estimator {font-family: monospace;background-color: #f0f8ff;border: 1px dotted black;border-radius: 0.25em;box-sizing: border-box;margin-bottom: 0.5em;}#sk-container-id-4 div.sk-estimator:hover {background-color: #d4ebff;}#sk-container-id-4 div.sk-parallel-item::after {content: \"\";width: 100%;border-bottom: 1px solid gray;flex-grow: 1;}#sk-container-id-4 div.sk-label:hover label.sk-toggleable__label {background-color: #d4ebff;}#sk-container-id-4 div.sk-serial::before {content: \"\";position: absolute;border-left: 1px solid gray;box-sizing: border-box;top: 0;bottom: 0;left: 50%;z-index: 0;}#sk-container-id-4 div.sk-serial {display: flex;flex-direction: column;align-items: center;background-color: white;padding-right: 0.2em;padding-left: 0.2em;position: relative;}#sk-container-id-4 div.sk-item {position: relative;z-index: 1;}#sk-container-id-4 div.sk-parallel {display: flex;align-items: stretch;justify-content: center;background-color: white;position: relative;}#sk-container-id-4 div.sk-item::before, #sk-container-id-4 div.sk-parallel-item::before {content: \"\";position: absolute;border-left: 1px solid gray;box-sizing: border-box;top: 0;bottom: 0;left: 50%;z-index: -1;}#sk-container-id-4 div.sk-parallel-item {display: flex;flex-direction: column;z-index: 1;position: relative;background-color: white;}#sk-container-id-4 div.sk-parallel-item:first-child::after {align-self: flex-end;width: 50%;}#sk-container-id-4 div.sk-parallel-item:last-child::after {align-self: flex-start;width: 50%;}#sk-container-id-4 div.sk-parallel-item:only-child::after {width: 0;}#sk-container-id-4 div.sk-dashed-wrapped {border: 1px dashed gray;margin: 0 0.4em 0.5em 0.4em;box-sizing: border-box;padding-bottom: 0.4em;background-color: white;}#sk-container-id-4 div.sk-label label {font-family: monospace;font-weight: bold;display: inline-block;line-height: 1.2em;}#sk-container-id-4 div.sk-label-container {text-align: center;}#sk-container-id-4 div.sk-container {/* jupyter's `normalize.less` sets `[hidden] { display: none; }` but bootstrap.min.css set `[hidden] { display: none !important; }` so we also need the `!important` here to be able to override the default hidden behavior on the sphinx rendered scikit-learn.org. See: https://github.com/scikit-learn/scikit-learn/issues/21755 */display: inline-block !important;position: relative;}#sk-container-id-4 div.sk-text-repr-fallback {display: none;}</style><div id=\"sk-container-id-4\" class=\"sk-top-container\"><div class=\"sk-text-repr-fallback\"><pre>Pipeline(steps=[(&#x27;scale&#x27;, StandardScaler()),\n",
       "                (&#x27;polynomial&#x27;, PolynomialFeatures(include_bias=False)),\n",
       "                (&#x27;model&#x27;, LinearRegression())])</pre><b>In a Jupyter environment, please rerun this cell to show the HTML representation or trust the notebook. <br />On GitHub, the HTML representation is unable to render, please try loading this page with nbviewer.org.</b></div><div class=\"sk-container\" hidden><div class=\"sk-item sk-dashed-wrapped\"><div class=\"sk-label-container\"><div class=\"sk-label sk-toggleable\"><input class=\"sk-toggleable__control sk-hidden--visually\" id=\"sk-estimator-id-7\" type=\"checkbox\" ><label for=\"sk-estimator-id-7\" class=\"sk-toggleable__label sk-toggleable__label-arrow\">Pipeline</label><div class=\"sk-toggleable__content\"><pre>Pipeline(steps=[(&#x27;scale&#x27;, StandardScaler()),\n",
       "                (&#x27;polynomial&#x27;, PolynomialFeatures(include_bias=False)),\n",
       "                (&#x27;model&#x27;, LinearRegression())])</pre></div></div></div><div class=\"sk-serial\"><div class=\"sk-item\"><div class=\"sk-estimator sk-toggleable\"><input class=\"sk-toggleable__control sk-hidden--visually\" id=\"sk-estimator-id-8\" type=\"checkbox\" ><label for=\"sk-estimator-id-8\" class=\"sk-toggleable__label sk-toggleable__label-arrow\">StandardScaler</label><div class=\"sk-toggleable__content\"><pre>StandardScaler()</pre></div></div></div><div class=\"sk-item\"><div class=\"sk-estimator sk-toggleable\"><input class=\"sk-toggleable__control sk-hidden--visually\" id=\"sk-estimator-id-9\" type=\"checkbox\" ><label for=\"sk-estimator-id-9\" class=\"sk-toggleable__label sk-toggleable__label-arrow\">PolynomialFeatures</label><div class=\"sk-toggleable__content\"><pre>PolynomialFeatures(include_bias=False)</pre></div></div></div><div class=\"sk-item\"><div class=\"sk-estimator sk-toggleable\"><input class=\"sk-toggleable__control sk-hidden--visually\" id=\"sk-estimator-id-10\" type=\"checkbox\" ><label for=\"sk-estimator-id-10\" class=\"sk-toggleable__label sk-toggleable__label-arrow\">LinearRegression</label><div class=\"sk-toggleable__content\"><pre>LinearRegression()</pre></div></div></div></div></div></div></div>"
      ],
      "text/plain": [
       "Pipeline(steps=[('scale', StandardScaler()),\n",
       "                ('polynomial', PolynomialFeatures(include_bias=False)),\n",
       "                ('model', LinearRegression())])"
      ]
     },
     "execution_count": 38,
     "metadata": {},
     "output_type": "execute_result"
    }
   ],
   "source": [
    "z = z.astype(float)\n",
    "Pipe.fit(z,y)\n"
   ]
  },
  {
   "cell_type": "code",
   "execution_count": 39,
   "id": "4425d3f6",
   "metadata": {
    "_kg_hide-output": true,
    "execution": {
     "iopub.execute_input": "2024-07-05T16:26:33.139567Z",
     "iopub.status.busy": "2024-07-05T16:26:33.139165Z",
     "iopub.status.idle": "2024-07-05T16:26:33.181974Z",
     "shell.execute_reply": "2024-07-05T16:26:33.180809Z"
    },
    "papermill": {
     "duration": 0.100453,
     "end_time": "2024-07-05T16:26:33.185287",
     "exception": false,
     "start_time": "2024-07-05T16:26:33.084834",
     "status": "completed"
    },
    "scrolled": true,
    "tags": []
   },
   "outputs": [
    {
     "data": {
      "text/plain": [
       "array([-0.60091288,  0.05369781, -0.13998846, -0.41890906, -0.14308377])"
      ]
     },
     "execution_count": 39,
     "metadata": {},
     "output_type": "execute_result"
    }
   ],
   "source": [
    "yPipe = Pipe.predict(z)\n",
    "yPipe[0:5]"
   ]
  },
  {
   "cell_type": "code",
   "execution_count": 40,
   "id": "109c5da2",
   "metadata": {
    "execution": {
     "iopub.execute_input": "2024-07-05T16:26:33.301606Z",
     "iopub.status.busy": "2024-07-05T16:26:33.301200Z",
     "iopub.status.idle": "2024-07-05T16:26:33.308158Z",
     "shell.execute_reply": "2024-07-05T16:26:33.306861Z"
    },
    "papermill": {
     "duration": 0.065217,
     "end_time": "2024-07-05T16:26:33.310246",
     "exception": false,
     "start_time": "2024-07-05T16:26:33.245029",
     "status": "completed"
    },
    "tags": []
   },
   "outputs": [
    {
     "name": "stdout",
     "output_type": "stream",
     "text": [
      "0.7804159234898016\n"
     ]
    }
   ],
   "source": [
    "print(r2_score(y, yPipe))"
   ]
  },
  {
   "cell_type": "markdown",
   "id": "fe169680",
   "metadata": {
    "papermill": {
     "duration": 0.034465,
     "end_time": "2024-07-05T16:26:33.379312",
     "exception": false,
     "start_time": "2024-07-05T16:26:33.344847",
     "status": "completed"
    },
    "tags": []
   },
   "source": [
    "We can say that ~78.041 % of the variation of price is explained by this polynomial fit"
   ]
  },
  {
   "cell_type": "markdown",
   "id": "19ae85eb",
   "metadata": {
    "papermill": {
     "duration": 0.034124,
     "end_time": "2024-07-05T16:26:33.448887",
     "exception": false,
     "start_time": "2024-07-05T16:26:33.414763",
     "status": "completed"
    },
    "tags": []
   },
   "source": [
    "**calculating the MSE for polynomial fit:**"
   ]
  },
  {
   "cell_type": "code",
   "execution_count": 41,
   "id": "573a3e9d",
   "metadata": {
    "execution": {
     "iopub.execute_input": "2024-07-05T16:26:33.519260Z",
     "iopub.status.busy": "2024-07-05T16:26:33.518861Z",
     "iopub.status.idle": "2024-07-05T16:26:33.527135Z",
     "shell.execute_reply": "2024-07-05T16:26:33.526079Z"
    },
    "papermill": {
     "duration": 0.04606,
     "end_time": "2024-07-05T16:26:33.529209",
     "exception": false,
     "start_time": "2024-07-05T16:26:33.483149",
     "status": "completed"
    },
    "tags": []
   },
   "outputs": [
    {
     "data": {
      "text/plain": [
       "0.21958407651019843"
      ]
     },
     "execution_count": 41,
     "metadata": {},
     "output_type": "execute_result"
    }
   ],
   "source": [
    "mean_squared_error(df['price'],yPipe)"
   ]
  },
  {
   "cell_type": "markdown",
   "id": "b334ee12",
   "metadata": {
    "papermill": {
     "duration": 0.034308,
     "end_time": "2024-07-05T16:26:33.598352",
     "exception": false,
     "start_time": "2024-07-05T16:26:33.564044",
     "status": "completed"
    },
    "tags": []
   },
   "source": [
    "# Model Evaluation and Refinement"
   ]
  },
  {
   "cell_type": "markdown",
   "id": "bf3a3b0f",
   "metadata": {
    "papermill": {
     "duration": 0.034088,
     "end_time": "2024-07-05T16:26:33.667034",
     "exception": false,
     "start_time": "2024-07-05T16:26:33.632946",
     "status": "completed"
    },
    "tags": []
   },
   "source": [
    "I split the data into training and testing sets:"
   ]
  },
  {
   "cell_type": "code",
   "execution_count": 42,
   "id": "26f19b4a",
   "metadata": {
    "execution": {
     "iopub.execute_input": "2024-07-05T16:26:33.737343Z",
     "iopub.status.busy": "2024-07-05T16:26:33.736953Z",
     "iopub.status.idle": "2024-07-05T16:26:33.753444Z",
     "shell.execute_reply": "2024-07-05T16:26:33.752253Z"
    },
    "papermill": {
     "duration": 0.054152,
     "end_time": "2024-07-05T16:26:33.755564",
     "exception": false,
     "start_time": "2024-07-05T16:26:33.701412",
     "status": "completed"
    },
    "tags": []
   },
   "outputs": [
    {
     "name": "stdout",
     "output_type": "stream",
     "text": [
      "number of test samples: 3242\n",
      "number of training samples: 18371\n"
     ]
    }
   ],
   "source": [
    "z =[\"sqft_living\", \"sqft_above\", \"sqft_living15\", \"bathrooms\", \"grade\", \"bedrooms\", \"view\", \"sqft_lot\", \"floors\", \"condition\", \"yr_built\", \"lat\", \"sqft_lot15\"]    \n",
    "X = df[z]\n",
    "Y = df['price']\n",
    "\n",
    "x_train, x_test, y_train, y_test = train_test_split(X, Y, test_size=0.15, random_state=1)\n",
    "\n",
    "\n",
    "print(\"number of test samples:\", x_test.shape[0])\n",
    "print(\"number of training samples:\",x_train.shape[0])"
   ]
  },
  {
   "cell_type": "code",
   "execution_count": 43,
   "id": "2716df84",
   "metadata": {
    "execution": {
     "iopub.execute_input": "2024-07-05T16:26:33.826581Z",
     "iopub.status.busy": "2024-07-05T16:26:33.825843Z",
     "iopub.status.idle": "2024-07-05T16:26:33.830528Z",
     "shell.execute_reply": "2024-07-05T16:26:33.829575Z"
    },
    "papermill": {
     "duration": 0.042631,
     "end_time": "2024-07-05T16:26:33.832830",
     "exception": false,
     "start_time": "2024-07-05T16:26:33.790199",
     "status": "completed"
    },
    "tags": []
   },
   "outputs": [],
   "source": [
    "lre = LinearRegression()"
   ]
  },
  {
   "cell_type": "code",
   "execution_count": 44,
   "id": "fb5e7762",
   "metadata": {
    "execution": {
     "iopub.execute_input": "2024-07-05T16:26:33.903960Z",
     "iopub.status.busy": "2024-07-05T16:26:33.903559Z",
     "iopub.status.idle": "2024-07-05T16:26:33.915330Z",
     "shell.execute_reply": "2024-07-05T16:26:33.914225Z"
    },
    "papermill": {
     "duration": 0.050333,
     "end_time": "2024-07-05T16:26:33.917661",
     "exception": false,
     "start_time": "2024-07-05T16:26:33.867328",
     "status": "completed"
    },
    "tags": []
   },
   "outputs": [
    {
     "data": {
      "text/html": [
       "<style>#sk-container-id-5 {color: black;background-color: white;}#sk-container-id-5 pre{padding: 0;}#sk-container-id-5 div.sk-toggleable {background-color: white;}#sk-container-id-5 label.sk-toggleable__label {cursor: pointer;display: block;width: 100%;margin-bottom: 0;padding: 0.3em;box-sizing: border-box;text-align: center;}#sk-container-id-5 label.sk-toggleable__label-arrow:before {content: \"▸\";float: left;margin-right: 0.25em;color: #696969;}#sk-container-id-5 label.sk-toggleable__label-arrow:hover:before {color: black;}#sk-container-id-5 div.sk-estimator:hover label.sk-toggleable__label-arrow:before {color: black;}#sk-container-id-5 div.sk-toggleable__content {max-height: 0;max-width: 0;overflow: hidden;text-align: left;background-color: #f0f8ff;}#sk-container-id-5 div.sk-toggleable__content pre {margin: 0.2em;color: black;border-radius: 0.25em;background-color: #f0f8ff;}#sk-container-id-5 input.sk-toggleable__control:checked~div.sk-toggleable__content {max-height: 200px;max-width: 100%;overflow: auto;}#sk-container-id-5 input.sk-toggleable__control:checked~label.sk-toggleable__label-arrow:before {content: \"▾\";}#sk-container-id-5 div.sk-estimator input.sk-toggleable__control:checked~label.sk-toggleable__label {background-color: #d4ebff;}#sk-container-id-5 div.sk-label input.sk-toggleable__control:checked~label.sk-toggleable__label {background-color: #d4ebff;}#sk-container-id-5 input.sk-hidden--visually {border: 0;clip: rect(1px 1px 1px 1px);clip: rect(1px, 1px, 1px, 1px);height: 1px;margin: -1px;overflow: hidden;padding: 0;position: absolute;width: 1px;}#sk-container-id-5 div.sk-estimator {font-family: monospace;background-color: #f0f8ff;border: 1px dotted black;border-radius: 0.25em;box-sizing: border-box;margin-bottom: 0.5em;}#sk-container-id-5 div.sk-estimator:hover {background-color: #d4ebff;}#sk-container-id-5 div.sk-parallel-item::after {content: \"\";width: 100%;border-bottom: 1px solid gray;flex-grow: 1;}#sk-container-id-5 div.sk-label:hover label.sk-toggleable__label {background-color: #d4ebff;}#sk-container-id-5 div.sk-serial::before {content: \"\";position: absolute;border-left: 1px solid gray;box-sizing: border-box;top: 0;bottom: 0;left: 50%;z-index: 0;}#sk-container-id-5 div.sk-serial {display: flex;flex-direction: column;align-items: center;background-color: white;padding-right: 0.2em;padding-left: 0.2em;position: relative;}#sk-container-id-5 div.sk-item {position: relative;z-index: 1;}#sk-container-id-5 div.sk-parallel {display: flex;align-items: stretch;justify-content: center;background-color: white;position: relative;}#sk-container-id-5 div.sk-item::before, #sk-container-id-5 div.sk-parallel-item::before {content: \"\";position: absolute;border-left: 1px solid gray;box-sizing: border-box;top: 0;bottom: 0;left: 50%;z-index: -1;}#sk-container-id-5 div.sk-parallel-item {display: flex;flex-direction: column;z-index: 1;position: relative;background-color: white;}#sk-container-id-5 div.sk-parallel-item:first-child::after {align-self: flex-end;width: 50%;}#sk-container-id-5 div.sk-parallel-item:last-child::after {align-self: flex-start;width: 50%;}#sk-container-id-5 div.sk-parallel-item:only-child::after {width: 0;}#sk-container-id-5 div.sk-dashed-wrapped {border: 1px dashed gray;margin: 0 0.4em 0.5em 0.4em;box-sizing: border-box;padding-bottom: 0.4em;background-color: white;}#sk-container-id-5 div.sk-label label {font-family: monospace;font-weight: bold;display: inline-block;line-height: 1.2em;}#sk-container-id-5 div.sk-label-container {text-align: center;}#sk-container-id-5 div.sk-container {/* jupyter's `normalize.less` sets `[hidden] { display: none; }` but bootstrap.min.css set `[hidden] { display: none !important; }` so we also need the `!important` here to be able to override the default hidden behavior on the sphinx rendered scikit-learn.org. See: https://github.com/scikit-learn/scikit-learn/issues/21755 */display: inline-block !important;position: relative;}#sk-container-id-5 div.sk-text-repr-fallback {display: none;}</style><div id=\"sk-container-id-5\" class=\"sk-top-container\"><div class=\"sk-text-repr-fallback\"><pre>LinearRegression()</pre><b>In a Jupyter environment, please rerun this cell to show the HTML representation or trust the notebook. <br />On GitHub, the HTML representation is unable to render, please try loading this page with nbviewer.org.</b></div><div class=\"sk-container\" hidden><div class=\"sk-item\"><div class=\"sk-estimator sk-toggleable\"><input class=\"sk-toggleable__control sk-hidden--visually\" id=\"sk-estimator-id-11\" type=\"checkbox\" checked><label for=\"sk-estimator-id-11\" class=\"sk-toggleable__label sk-toggleable__label-arrow\">LinearRegression</label><div class=\"sk-toggleable__content\"><pre>LinearRegression()</pre></div></div></div></div></div>"
      ],
      "text/plain": [
       "LinearRegression()"
      ]
     },
     "execution_count": 44,
     "metadata": {},
     "output_type": "execute_result"
    }
   ],
   "source": [
    "lre.fit(x_train[['sqft_living']],y_train)"
   ]
  },
  {
   "cell_type": "markdown",
   "id": "2413399d",
   "metadata": {
    "papermill": {
     "duration": 0.035481,
     "end_time": "2024-07-05T16:26:33.989896",
     "exception": false,
     "start_time": "2024-07-05T16:26:33.954415",
     "status": "completed"
    },
    "tags": []
   },
   "source": [
    "**calculating the R^2 on the test data**"
   ]
  },
  {
   "cell_type": "code",
   "execution_count": 45,
   "id": "014b639f",
   "metadata": {
    "execution": {
     "iopub.execute_input": "2024-07-05T16:26:34.061931Z",
     "iopub.status.busy": "2024-07-05T16:26:34.061506Z",
     "iopub.status.idle": "2024-07-05T16:26:34.072714Z",
     "shell.execute_reply": "2024-07-05T16:26:34.071678Z"
    },
    "papermill": {
     "duration": 0.049966,
     "end_time": "2024-07-05T16:26:34.074743",
     "exception": false,
     "start_time": "2024-07-05T16:26:34.024777",
     "status": "completed"
    },
    "tags": []
   },
   "outputs": [
    {
     "data": {
      "text/plain": [
       "0.4910058627910613"
      ]
     },
     "execution_count": 45,
     "metadata": {},
     "output_type": "execute_result"
    }
   ],
   "source": [
    "lre.score(x_test[['sqft_living']], y_test)"
   ]
  },
  {
   "cell_type": "markdown",
   "id": "713e07a4",
   "metadata": {
    "papermill": {
     "duration": 0.035024,
     "end_time": "2024-07-05T16:26:34.144779",
     "exception": false,
     "start_time": "2024-07-05T16:26:34.109755",
     "status": "completed"
    },
    "tags": []
   },
   "source": [
    "**calculating the R^2 of the training data**"
   ]
  },
  {
   "cell_type": "code",
   "execution_count": 46,
   "id": "fcdc9a60",
   "metadata": {
    "execution": {
     "iopub.execute_input": "2024-07-05T16:26:34.216680Z",
     "iopub.status.busy": "2024-07-05T16:26:34.215958Z",
     "iopub.status.idle": "2024-07-05T16:26:34.225963Z",
     "shell.execute_reply": "2024-07-05T16:26:34.224975Z"
    },
    "papermill": {
     "duration": 0.048414,
     "end_time": "2024-07-05T16:26:34.228218",
     "exception": false,
     "start_time": "2024-07-05T16:26:34.179804",
     "status": "completed"
    },
    "tags": []
   },
   "outputs": [
    {
     "data": {
      "text/plain": [
       "0.49319214625811036"
      ]
     },
     "execution_count": 46,
     "metadata": {},
     "output_type": "execute_result"
    }
   ],
   "source": [
    "lre.score(x_train[['sqft_living']],y_train)"
   ]
  },
  {
   "cell_type": "markdown",
   "id": "d81ffd8d",
   "metadata": {
    "papermill": {
     "duration": 0.034445,
     "end_time": "2024-07-05T16:26:34.297784",
     "exception": false,
     "start_time": "2024-07-05T16:26:34.263339",
     "status": "completed"
    },
    "tags": []
   },
   "source": [
    "creating functions to be used \n"
   ]
  },
  {
   "cell_type": "code",
   "execution_count": 47,
   "id": "8f4eff53",
   "metadata": {
    "execution": {
     "iopub.execute_input": "2024-07-05T16:26:34.369094Z",
     "iopub.status.busy": "2024-07-05T16:26:34.368680Z",
     "iopub.status.idle": "2024-07-05T16:26:34.375287Z",
     "shell.execute_reply": "2024-07-05T16:26:34.374246Z"
    },
    "papermill": {
     "duration": 0.044713,
     "end_time": "2024-07-05T16:26:34.377617",
     "exception": false,
     "start_time": "2024-07-05T16:26:34.332904",
     "status": "completed"
    },
    "tags": []
   },
   "outputs": [],
   "source": [
    "def DistributionPlot(RedFunction, BlueFunction, RedName, BlueName, Title):\n",
    "    width = 12\n",
    "    height = 10\n",
    "    plt.figure(figsize = (width, height))\n",
    "    axl = sns.kdeplot(RedFunction, color = \"r\", label = RedName)\n",
    "    ax2 = sns.kdeplot(BlueFunction, color = \"b\", label = BlueName, ax = axl)\n",
    "    plt.title(Title)\n",
    "    plt.xlabel('price(in dollars)')\n",
    "    plt.ylabel('proportions of houses')\n",
    "    plt.show()\n",
    "    plt.close()"
   ]
  },
  {
   "cell_type": "code",
   "execution_count": 48,
   "id": "95ca61d2",
   "metadata": {
    "execution": {
     "iopub.execute_input": "2024-07-05T16:26:34.451166Z",
     "iopub.status.busy": "2024-07-05T16:26:34.450410Z",
     "iopub.status.idle": "2024-07-05T16:26:34.458846Z",
     "shell.execute_reply": "2024-07-05T16:26:34.457752Z"
    },
    "papermill": {
     "duration": 0.048266,
     "end_time": "2024-07-05T16:26:34.461031",
     "exception": false,
     "start_time": "2024-07-05T16:26:34.412765",
     "status": "completed"
    },
    "tags": []
   },
   "outputs": [],
   "source": [
    "def PollyPlot(x_train, x_test, y_train, y_test, lr, poly_transform):\n",
    "    width = 12\n",
    "    height = 10\n",
    "    plt.figure(figsize=(width, height))\n",
    "    \n",
    "    # Define the range for the plot\n",
    "    xmax = max([x_train.max(), x_test.max()])\n",
    "    xmin = min([x_train.min(), x_test.min()])\n",
    "    x = np.arange(xmin, xmax, 0.1).reshape(-1, 1)\n",
    "    \n",
    "    # Plot training and test data\n",
    "    plt.plot(x_train, y_train, 'ro', label='Training Data')\n",
    "    plt.plot(x_test, y_test, 'go', label='Test Data')\n",
    "    # Plot the predicted function\n",
    "    plt.plot(x, lr.predict(poly_transform.transform(x)), label='Predicted Function')\n",
    "    \n",
    "    plt.ylim([y_train.min() - 10000, y_train.max() + 10000])\n",
    "    plt.ylabel('Price')\n",
    "    plt.legend()\n",
    "    plt.show()\n"
   ]
  },
  {
   "cell_type": "markdown",
   "id": "8e0cafe7",
   "metadata": {
    "papermill": {
     "duration": 0.035265,
     "end_time": "2024-07-05T16:26:34.531499",
     "exception": false,
     "start_time": "2024-07-05T16:26:34.496234",
     "status": "completed"
    },
    "tags": []
   },
   "source": [
    "# Cross-validation_score"
   ]
  },
  {
   "cell_type": "code",
   "execution_count": 49,
   "id": "080f2705",
   "metadata": {
    "_kg_hide-output": true,
    "execution": {
     "iopub.execute_input": "2024-07-05T16:26:34.604319Z",
     "iopub.status.busy": "2024-07-05T16:26:34.603948Z",
     "iopub.status.idle": "2024-07-05T16:26:34.634444Z",
     "shell.execute_reply": "2024-07-05T16:26:34.633385Z"
    },
    "papermill": {
     "duration": 0.070085,
     "end_time": "2024-07-05T16:26:34.637051",
     "exception": false,
     "start_time": "2024-07-05T16:26:34.566966",
     "status": "completed"
    },
    "scrolled": true,
    "tags": []
   },
   "outputs": [
    {
     "data": {
      "text/plain": [
       "array([0.48405393, 0.49342812, 0.4945384 , 0.49661067])"
      ]
     },
     "execution_count": 49,
     "metadata": {},
     "output_type": "execute_result"
    }
   ],
   "source": [
    "Rcross  = cross_val_score(lre, X[['sqft_living']],Y, cv = 4)\n",
    "Rcross"
   ]
  },
  {
   "cell_type": "code",
   "execution_count": 50,
   "id": "2d2604bb",
   "metadata": {
    "execution": {
     "iopub.execute_input": "2024-07-05T16:26:34.710763Z",
     "iopub.status.busy": "2024-07-05T16:26:34.710362Z",
     "iopub.status.idle": "2024-07-05T16:26:34.716138Z",
     "shell.execute_reply": "2024-07-05T16:26:34.715095Z"
    },
    "papermill": {
     "duration": 0.045402,
     "end_time": "2024-07-05T16:26:34.718687",
     "exception": false,
     "start_time": "2024-07-05T16:26:34.673285",
     "status": "completed"
    },
    "tags": []
   },
   "outputs": [
    {
     "name": "stdout",
     "output_type": "stream",
     "text": [
      "The mean of the folds are 0.4921577814175951 and the standard deviation is  0.0048161648143741605\n"
     ]
    }
   ],
   "source": [
    "print(\"The mean of the folds are\", Rcross.mean(), \"and the standard deviation is \", Rcross.std())"
   ]
  },
  {
   "cell_type": "markdown",
   "id": "7a29503a",
   "metadata": {
    "papermill": {
     "duration": 0.035939,
     "end_time": "2024-07-05T16:26:34.791003",
     "exception": false,
     "start_time": "2024-07-05T16:26:34.755064",
     "status": "completed"
    },
    "tags": []
   },
   "source": [
    "# model selection"
   ]
  },
  {
   "cell_type": "code",
   "execution_count": 51,
   "id": "0b44c480",
   "metadata": {
    "execution": {
     "iopub.execute_input": "2024-07-05T16:26:34.865819Z",
     "iopub.status.busy": "2024-07-05T16:26:34.865009Z",
     "iopub.status.idle": "2024-07-05T16:26:34.869997Z",
     "shell.execute_reply": "2024-07-05T16:26:34.868990Z"
    },
    "papermill": {
     "duration": 0.045108,
     "end_time": "2024-07-05T16:26:34.872188",
     "exception": false,
     "start_time": "2024-07-05T16:26:34.827080",
     "status": "completed"
    },
    "tags": []
   },
   "outputs": [],
   "source": [
    "lr = LinearRegression()"
   ]
  },
  {
   "cell_type": "code",
   "execution_count": 52,
   "id": "fd2e7627",
   "metadata": {
    "execution": {
     "iopub.execute_input": "2024-07-05T16:26:34.945499Z",
     "iopub.status.busy": "2024-07-05T16:26:34.944578Z",
     "iopub.status.idle": "2024-07-05T16:26:34.965280Z",
     "shell.execute_reply": "2024-07-05T16:26:34.964192Z"
    },
    "papermill": {
     "duration": 0.059875,
     "end_time": "2024-07-05T16:26:34.967655",
     "exception": false,
     "start_time": "2024-07-05T16:26:34.907780",
     "status": "completed"
    },
    "tags": []
   },
   "outputs": [
    {
     "data": {
      "text/html": [
       "<style>#sk-container-id-6 {color: black;background-color: white;}#sk-container-id-6 pre{padding: 0;}#sk-container-id-6 div.sk-toggleable {background-color: white;}#sk-container-id-6 label.sk-toggleable__label {cursor: pointer;display: block;width: 100%;margin-bottom: 0;padding: 0.3em;box-sizing: border-box;text-align: center;}#sk-container-id-6 label.sk-toggleable__label-arrow:before {content: \"▸\";float: left;margin-right: 0.25em;color: #696969;}#sk-container-id-6 label.sk-toggleable__label-arrow:hover:before {color: black;}#sk-container-id-6 div.sk-estimator:hover label.sk-toggleable__label-arrow:before {color: black;}#sk-container-id-6 div.sk-toggleable__content {max-height: 0;max-width: 0;overflow: hidden;text-align: left;background-color: #f0f8ff;}#sk-container-id-6 div.sk-toggleable__content pre {margin: 0.2em;color: black;border-radius: 0.25em;background-color: #f0f8ff;}#sk-container-id-6 input.sk-toggleable__control:checked~div.sk-toggleable__content {max-height: 200px;max-width: 100%;overflow: auto;}#sk-container-id-6 input.sk-toggleable__control:checked~label.sk-toggleable__label-arrow:before {content: \"▾\";}#sk-container-id-6 div.sk-estimator input.sk-toggleable__control:checked~label.sk-toggleable__label {background-color: #d4ebff;}#sk-container-id-6 div.sk-label input.sk-toggleable__control:checked~label.sk-toggleable__label {background-color: #d4ebff;}#sk-container-id-6 input.sk-hidden--visually {border: 0;clip: rect(1px 1px 1px 1px);clip: rect(1px, 1px, 1px, 1px);height: 1px;margin: -1px;overflow: hidden;padding: 0;position: absolute;width: 1px;}#sk-container-id-6 div.sk-estimator {font-family: monospace;background-color: #f0f8ff;border: 1px dotted black;border-radius: 0.25em;box-sizing: border-box;margin-bottom: 0.5em;}#sk-container-id-6 div.sk-estimator:hover {background-color: #d4ebff;}#sk-container-id-6 div.sk-parallel-item::after {content: \"\";width: 100%;border-bottom: 1px solid gray;flex-grow: 1;}#sk-container-id-6 div.sk-label:hover label.sk-toggleable__label {background-color: #d4ebff;}#sk-container-id-6 div.sk-serial::before {content: \"\";position: absolute;border-left: 1px solid gray;box-sizing: border-box;top: 0;bottom: 0;left: 50%;z-index: 0;}#sk-container-id-6 div.sk-serial {display: flex;flex-direction: column;align-items: center;background-color: white;padding-right: 0.2em;padding-left: 0.2em;position: relative;}#sk-container-id-6 div.sk-item {position: relative;z-index: 1;}#sk-container-id-6 div.sk-parallel {display: flex;align-items: stretch;justify-content: center;background-color: white;position: relative;}#sk-container-id-6 div.sk-item::before, #sk-container-id-6 div.sk-parallel-item::before {content: \"\";position: absolute;border-left: 1px solid gray;box-sizing: border-box;top: 0;bottom: 0;left: 50%;z-index: -1;}#sk-container-id-6 div.sk-parallel-item {display: flex;flex-direction: column;z-index: 1;position: relative;background-color: white;}#sk-container-id-6 div.sk-parallel-item:first-child::after {align-self: flex-end;width: 50%;}#sk-container-id-6 div.sk-parallel-item:last-child::after {align-self: flex-start;width: 50%;}#sk-container-id-6 div.sk-parallel-item:only-child::after {width: 0;}#sk-container-id-6 div.sk-dashed-wrapped {border: 1px dashed gray;margin: 0 0.4em 0.5em 0.4em;box-sizing: border-box;padding-bottom: 0.4em;background-color: white;}#sk-container-id-6 div.sk-label label {font-family: monospace;font-weight: bold;display: inline-block;line-height: 1.2em;}#sk-container-id-6 div.sk-label-container {text-align: center;}#sk-container-id-6 div.sk-container {/* jupyter's `normalize.less` sets `[hidden] { display: none; }` but bootstrap.min.css set `[hidden] { display: none !important; }` so we also need the `!important` here to be able to override the default hidden behavior on the sphinx rendered scikit-learn.org. See: https://github.com/scikit-learn/scikit-learn/issues/21755 */display: inline-block !important;position: relative;}#sk-container-id-6 div.sk-text-repr-fallback {display: none;}</style><div id=\"sk-container-id-6\" class=\"sk-top-container\"><div class=\"sk-text-repr-fallback\"><pre>LinearRegression()</pre><b>In a Jupyter environment, please rerun this cell to show the HTML representation or trust the notebook. <br />On GitHub, the HTML representation is unable to render, please try loading this page with nbviewer.org.</b></div><div class=\"sk-container\" hidden><div class=\"sk-item\"><div class=\"sk-estimator sk-toggleable\"><input class=\"sk-toggleable__control sk-hidden--visually\" id=\"sk-estimator-id-12\" type=\"checkbox\" checked><label for=\"sk-estimator-id-12\" class=\"sk-toggleable__label sk-toggleable__label-arrow\">LinearRegression</label><div class=\"sk-toggleable__content\"><pre>LinearRegression()</pre></div></div></div></div></div>"
      ],
      "text/plain": [
       "LinearRegression()"
      ]
     },
     "execution_count": 52,
     "metadata": {},
     "output_type": "execute_result"
    }
   ],
   "source": [
    "lr.fit(x_train[[\"sqft_living\", \"sqft_above\", \"sqft_living15\", \"bathrooms\", \"grade\", \"bedrooms\", \"view\", \"sqft_lot\", \"floors\", \"condition\", \"yr_built\", \"lat\", \"sqft_lot15\"]],y_train)"
   ]
  },
  {
   "cell_type": "code",
   "execution_count": 53,
   "id": "f461070e",
   "metadata": {
    "execution": {
     "iopub.execute_input": "2024-07-05T16:26:35.042904Z",
     "iopub.status.busy": "2024-07-05T16:26:35.042446Z",
     "iopub.status.idle": "2024-07-05T16:26:35.059446Z",
     "shell.execute_reply": "2024-07-05T16:26:35.057705Z"
    },
    "papermill": {
     "duration": 0.05811,
     "end_time": "2024-07-05T16:26:35.062645",
     "exception": false,
     "start_time": "2024-07-05T16:26:35.004535",
     "status": "completed"
    },
    "tags": []
   },
   "outputs": [
    {
     "data": {
      "text/plain": [
       "array([-0.48562935, -0.32529526, -0.88311744,  0.53229186, -0.03204404])"
      ]
     },
     "execution_count": 53,
     "metadata": {},
     "output_type": "execute_result"
    }
   ],
   "source": [
    "yhat_train = lr.predict(x_train[[\"sqft_living\", \"sqft_above\", \"sqft_living15\", \"bathrooms\", \"grade\", \"bedrooms\", \"view\", \"sqft_lot\", \"floors\", \"condition\", \"yr_built\", \"lat\", \"sqft_lot15\"]])\n",
    "yhat_train[0:5]"
   ]
  },
  {
   "cell_type": "code",
   "execution_count": 54,
   "id": "8f3ccfe3",
   "metadata": {
    "execution": {
     "iopub.execute_input": "2024-07-05T16:26:35.181227Z",
     "iopub.status.busy": "2024-07-05T16:26:35.180455Z",
     "iopub.status.idle": "2024-07-05T16:26:35.193603Z",
     "shell.execute_reply": "2024-07-05T16:26:35.192448Z"
    },
    "papermill": {
     "duration": 0.072997,
     "end_time": "2024-07-05T16:26:35.196102",
     "exception": false,
     "start_time": "2024-07-05T16:26:35.123105",
     "status": "completed"
    },
    "tags": []
   },
   "outputs": [
    {
     "data": {
      "text/plain": [
       "array([ 0.30354444, -0.30623658,  0.53900671, ...,  0.29443992,\n",
       "        0.2190775 , -0.62977103])"
      ]
     },
     "execution_count": 54,
     "metadata": {},
     "output_type": "execute_result"
    }
   ],
   "source": [
    "yhat_test = lr.predict(x_test[[\"sqft_living\", \"sqft_above\", \"sqft_living15\", \"bathrooms\", \"grade\", \"bedrooms\", \"view\", \"sqft_lot\", \"floors\", \"condition\", \"yr_built\", \"lat\", \"sqft_lot15\"]])\n",
    "yhat_test"
   ]
  },
  {
   "cell_type": "markdown",
   "id": "d291d9c0",
   "metadata": {
    "papermill": {
     "duration": 0.057039,
     "end_time": "2024-07-05T16:26:35.313678",
     "exception": false,
     "start_time": "2024-07-05T16:26:35.256639",
     "status": "completed"
    },
    "tags": []
   },
   "source": [
    "**Examining the distribution pf the predicted values of the training data**"
   ]
  },
  {
   "cell_type": "code",
   "execution_count": 55,
   "id": "0f5d7820",
   "metadata": {
    "execution": {
     "iopub.execute_input": "2024-07-05T16:26:35.387382Z",
     "iopub.status.busy": "2024-07-05T16:26:35.387017Z",
     "iopub.status.idle": "2024-07-05T16:26:36.044173Z",
     "shell.execute_reply": "2024-07-05T16:26:36.043010Z"
    },
    "papermill": {
     "duration": 0.697336,
     "end_time": "2024-07-05T16:26:36.046804",
     "exception": false,
     "start_time": "2024-07-05T16:26:35.349468",
     "status": "completed"
    },
    "tags": []
   },
   "outputs": [
    {
     "data": {
      "image/png": "[encoded data removed]",
      "text/plain": [
       "<Figure size 1200x1000 with 1 Axes>"
      ]
     },
     "metadata": {},
     "output_type": "display_data"
    }
   ],
   "source": [
    "Title  = 'Distribution plot of predicted value using Training data vs Training data distribution'\n",
    "DistributionPlot(y_train, yhat_train, \"Actual values(Train)\", \"Predicted values(Train)\", Title)"
   ]
  },
  {
   "cell_type": "code",
   "execution_count": 56,
   "id": "458493b3",
   "metadata": {
    "execution": {
     "iopub.execute_input": "2024-07-05T16:26:36.126135Z",
     "iopub.status.busy": "2024-07-05T16:26:36.125723Z",
     "iopub.status.idle": "2024-07-05T16:26:36.538361Z",
     "shell.execute_reply": "2024-07-05T16:26:36.537262Z"
    },
    "papermill": {
     "duration": 0.454657,
     "end_time": "2024-07-05T16:26:36.540654",
     "exception": false,
     "start_time": "2024-07-05T16:26:36.085997",
     "status": "completed"
    },
    "tags": []
   },
   "outputs": [
    {
     "data": {
      "image/png": "[encoded data removed]",
      "text/plain": [
       "<Figure size 1200x1000 with 1 Axes>"
      ]
     },
     "metadata": {},
     "output_type": "display_data"
    }
   ],
   "source": [
    "Title = 'Distribution plot of predicted value using Test Data vs Distribution of Test Data'\n",
    "DistributionPlot(y_test, yhat_test, \"Actual values(Test)\", \"predicted values(Test)\", Title)"
   ]
  },
  {
   "cell_type": "markdown",
   "id": "625445bc",
   "metadata": {
    "papermill": {
     "duration": 0.037262,
     "end_time": "2024-07-05T16:26:36.615209",
     "exception": false,
     "start_time": "2024-07-05T16:26:36.577947",
     "status": "completed"
    },
    "tags": []
   },
   "source": [
    "**Now i decide to use 55% of my data for training, to determine the overfitting**\n"
   ]
  },
  {
   "cell_type": "code",
   "execution_count": 57,
   "id": "2b6c514c",
   "metadata": {
    "execution": {
     "iopub.execute_input": "2024-07-05T16:26:36.691338Z",
     "iopub.status.busy": "2024-07-05T16:26:36.690968Z",
     "iopub.status.idle": "2024-07-05T16:26:36.701981Z",
     "shell.execute_reply": "2024-07-05T16:26:36.700978Z"
    },
    "papermill": {
     "duration": 0.051924,
     "end_time": "2024-07-05T16:26:36.704284",
     "exception": false,
     "start_time": "2024-07-05T16:26:36.652360",
     "status": "completed"
    },
    "tags": []
   },
   "outputs": [],
   "source": [
    "x_train, x_test, y_train, y_test = train_test_split(X, Y, test_size = 0.45, random_state = 0)"
   ]
  },
  {
   "cell_type": "code",
   "execution_count": 58,
   "id": "5cdd778e",
   "metadata": {
    "execution": {
     "iopub.execute_input": "2024-07-05T16:26:36.781275Z",
     "iopub.status.busy": "2024-07-05T16:26:36.780190Z",
     "iopub.status.idle": "2024-07-05T16:26:36.795297Z",
     "shell.execute_reply": "2024-07-05T16:26:36.794286Z"
    },
    "papermill": {
     "duration": 0.055833,
     "end_time": "2024-07-05T16:26:36.797606",
     "exception": false,
     "start_time": "2024-07-05T16:26:36.741773",
     "status": "completed"
    },
    "tags": []
   },
   "outputs": [
    {
     "data": {
      "text/html": [
       "<style>#sk-container-id-7 {color: black;background-color: white;}#sk-container-id-7 pre{padding: 0;}#sk-container-id-7 div.sk-toggleable {background-color: white;}#sk-container-id-7 label.sk-toggleable__label {cursor: pointer;display: block;width: 100%;margin-bottom: 0;padding: 0.3em;box-sizing: border-box;text-align: center;}#sk-container-id-7 label.sk-toggleable__label-arrow:before {content: \"▸\";float: left;margin-right: 0.25em;color: #696969;}#sk-container-id-7 label.sk-toggleable__label-arrow:hover:before {color: black;}#sk-container-id-7 div.sk-estimator:hover label.sk-toggleable__label-arrow:before {color: black;}#sk-container-id-7 div.sk-toggleable__content {max-height: 0;max-width: 0;overflow: hidden;text-align: left;background-color: #f0f8ff;}#sk-container-id-7 div.sk-toggleable__content pre {margin: 0.2em;color: black;border-radius: 0.25em;background-color: #f0f8ff;}#sk-container-id-7 input.sk-toggleable__control:checked~div.sk-toggleable__content {max-height: 200px;max-width: 100%;overflow: auto;}#sk-container-id-7 input.sk-toggleable__control:checked~label.sk-toggleable__label-arrow:before {content: \"▾\";}#sk-container-id-7 div.sk-estimator input.sk-toggleable__control:checked~label.sk-toggleable__label {background-color: #d4ebff;}#sk-container-id-7 div.sk-label input.sk-toggleable__control:checked~label.sk-toggleable__label {background-color: #d4ebff;}#sk-container-id-7 input.sk-hidden--visually {border: 0;clip: rect(1px 1px 1px 1px);clip: rect(1px, 1px, 1px, 1px);height: 1px;margin: -1px;overflow: hidden;padding: 0;position: absolute;width: 1px;}#sk-container-id-7 div.sk-estimator {font-family: monospace;background-color: #f0f8ff;border: 1px dotted black;border-radius: 0.25em;box-sizing: border-box;margin-bottom: 0.5em;}#sk-container-id-7 div.sk-estimator:hover {background-color: #d4ebff;}#sk-container-id-7 div.sk-parallel-item::after {content: \"\";width: 100%;border-bottom: 1px solid gray;flex-grow: 1;}#sk-container-id-7 div.sk-label:hover label.sk-toggleable__label {background-color: #d4ebff;}#sk-container-id-7 div.sk-serial::before {content: \"\";position: absolute;border-left: 1px solid gray;box-sizing: border-box;top: 0;bottom: 0;left: 50%;z-index: 0;}#sk-container-id-7 div.sk-serial {display: flex;flex-direction: column;align-items: center;background-color: white;padding-right: 0.2em;padding-left: 0.2em;position: relative;}#sk-container-id-7 div.sk-item {position: relative;z-index: 1;}#sk-container-id-7 div.sk-parallel {display: flex;align-items: stretch;justify-content: center;background-color: white;position: relative;}#sk-container-id-7 div.sk-item::before, #sk-container-id-7 div.sk-parallel-item::before {content: \"\";position: absolute;border-left: 1px solid gray;box-sizing: border-box;top: 0;bottom: 0;left: 50%;z-index: -1;}#sk-container-id-7 div.sk-parallel-item {display: flex;flex-direction: column;z-index: 1;position: relative;background-color: white;}#sk-container-id-7 div.sk-parallel-item:first-child::after {align-self: flex-end;width: 50%;}#sk-container-id-7 div.sk-parallel-item:last-child::after {align-self: flex-start;width: 50%;}#sk-container-id-7 div.sk-parallel-item:only-child::after {width: 0;}#sk-container-id-7 div.sk-dashed-wrapped {border: 1px dashed gray;margin: 0 0.4em 0.5em 0.4em;box-sizing: border-box;padding-bottom: 0.4em;background-color: white;}#sk-container-id-7 div.sk-label label {font-family: monospace;font-weight: bold;display: inline-block;line-height: 1.2em;}#sk-container-id-7 div.sk-label-container {text-align: center;}#sk-container-id-7 div.sk-container {/* jupyter's `normalize.less` sets `[hidden] { display: none; }` but bootstrap.min.css set `[hidden] { display: none !important; }` so we also need the `!important` here to be able to override the default hidden behavior on the sphinx rendered scikit-learn.org. See: https://github.com/scikit-learn/scikit-learn/issues/21755 */display: inline-block !important;position: relative;}#sk-container-id-7 div.sk-text-repr-fallback {display: none;}</style><div id=\"sk-container-id-7\" class=\"sk-top-container\"><div class=\"sk-text-repr-fallback\"><pre>PolynomialFeatures(degree=5)</pre><b>In a Jupyter environment, please rerun this cell to show the HTML representation or trust the notebook. <br />On GitHub, the HTML representation is unable to render, please try loading this page with nbviewer.org.</b></div><div class=\"sk-container\" hidden><div class=\"sk-item\"><div class=\"sk-estimator sk-toggleable\"><input class=\"sk-toggleable__control sk-hidden--visually\" id=\"sk-estimator-id-13\" type=\"checkbox\" checked><label for=\"sk-estimator-id-13\" class=\"sk-toggleable__label sk-toggleable__label-arrow\">PolynomialFeatures</label><div class=\"sk-toggleable__content\"><pre>PolynomialFeatures(degree=5)</pre></div></div></div></div></div>"
      ],
      "text/plain": [
       "PolynomialFeatures(degree=5)"
      ]
     },
     "execution_count": 58,
     "metadata": {},
     "output_type": "execute_result"
    }
   ],
   "source": [
    "Pr = PolynomialFeatures(degree = 5)\n",
    "x_train_Pr = Pr.fit_transform(x_train[['sqft_living']])\n",
    "x_test_Pr = Pr.fit_transform(x_test[['sqft_living']])\n",
    "Pr"
   ]
  },
  {
   "cell_type": "code",
   "execution_count": 59,
   "id": "55dd44a8",
   "metadata": {
    "execution": {
     "iopub.execute_input": "2024-07-05T16:26:36.875582Z",
     "iopub.status.busy": "2024-07-05T16:26:36.874708Z",
     "iopub.status.idle": "2024-07-05T16:26:36.886651Z",
     "shell.execute_reply": "2024-07-05T16:26:36.885600Z"
    },
    "papermill": {
     "duration": 0.053251,
     "end_time": "2024-07-05T16:26:36.888970",
     "exception": false,
     "start_time": "2024-07-05T16:26:36.835719",
     "status": "completed"
    },
    "tags": []
   },
   "outputs": [
    {
     "data": {
      "text/html": [
       "<style>#sk-container-id-8 {color: black;background-color: white;}#sk-container-id-8 pre{padding: 0;}#sk-container-id-8 div.sk-toggleable {background-color: white;}#sk-container-id-8 label.sk-toggleable__label {cursor: pointer;display: block;width: 100%;margin-bottom: 0;padding: 0.3em;box-sizing: border-box;text-align: center;}#sk-container-id-8 label.sk-toggleable__label-arrow:before {content: \"▸\";float: left;margin-right: 0.25em;color: #696969;}#sk-container-id-8 label.sk-toggleable__label-arrow:hover:before {color: black;}#sk-container-id-8 div.sk-estimator:hover label.sk-toggleable__label-arrow:before {color: black;}#sk-container-id-8 div.sk-toggleable__content {max-height: 0;max-width: 0;overflow: hidden;text-align: left;background-color: #f0f8ff;}#sk-container-id-8 div.sk-toggleable__content pre {margin: 0.2em;color: black;border-radius: 0.25em;background-color: #f0f8ff;}#sk-container-id-8 input.sk-toggleable__control:checked~div.sk-toggleable__content {max-height: 200px;max-width: 100%;overflow: auto;}#sk-container-id-8 input.sk-toggleable__control:checked~label.sk-toggleable__label-arrow:before {content: \"▾\";}#sk-container-id-8 div.sk-estimator input.sk-toggleable__control:checked~label.sk-toggleable__label {background-color: #d4ebff;}#sk-container-id-8 div.sk-label input.sk-toggleable__control:checked~label.sk-toggleable__label {background-color: #d4ebff;}#sk-container-id-8 input.sk-hidden--visually {border: 0;clip: rect(1px 1px 1px 1px);clip: rect(1px, 1px, 1px, 1px);height: 1px;margin: -1px;overflow: hidden;padding: 0;position: absolute;width: 1px;}#sk-container-id-8 div.sk-estimator {font-family: monospace;background-color: #f0f8ff;border: 1px dotted black;border-radius: 0.25em;box-sizing: border-box;margin-bottom: 0.5em;}#sk-container-id-8 div.sk-estimator:hover {background-color: #d4ebff;}#sk-container-id-8 div.sk-parallel-item::after {content: \"\";width: 100%;border-bottom: 1px solid gray;flex-grow: 1;}#sk-container-id-8 div.sk-label:hover label.sk-toggleable__label {background-color: #d4ebff;}#sk-container-id-8 div.sk-serial::before {content: \"\";position: absolute;border-left: 1px solid gray;box-sizing: border-box;top: 0;bottom: 0;left: 50%;z-index: 0;}#sk-container-id-8 div.sk-serial {display: flex;flex-direction: column;align-items: center;background-color: white;padding-right: 0.2em;padding-left: 0.2em;position: relative;}#sk-container-id-8 div.sk-item {position: relative;z-index: 1;}#sk-container-id-8 div.sk-parallel {display: flex;align-items: stretch;justify-content: center;background-color: white;position: relative;}#sk-container-id-8 div.sk-item::before, #sk-container-id-8 div.sk-parallel-item::before {content: \"\";position: absolute;border-left: 1px solid gray;box-sizing: border-box;top: 0;bottom: 0;left: 50%;z-index: -1;}#sk-container-id-8 div.sk-parallel-item {display: flex;flex-direction: column;z-index: 1;position: relative;background-color: white;}#sk-container-id-8 div.sk-parallel-item:first-child::after {align-self: flex-end;width: 50%;}#sk-container-id-8 div.sk-parallel-item:last-child::after {align-self: flex-start;width: 50%;}#sk-container-id-8 div.sk-parallel-item:only-child::after {width: 0;}#sk-container-id-8 div.sk-dashed-wrapped {border: 1px dashed gray;margin: 0 0.4em 0.5em 0.4em;box-sizing: border-box;padding-bottom: 0.4em;background-color: white;}#sk-container-id-8 div.sk-label label {font-family: monospace;font-weight: bold;display: inline-block;line-height: 1.2em;}#sk-container-id-8 div.sk-label-container {text-align: center;}#sk-container-id-8 div.sk-container {/* jupyter's `normalize.less` sets `[hidden] { display: none; }` but bootstrap.min.css set `[hidden] { display: none !important; }` so we also need the `!important` here to be able to override the default hidden behavior on the sphinx rendered scikit-learn.org. See: https://github.com/scikit-learn/scikit-learn/issues/21755 */display: inline-block !important;position: relative;}#sk-container-id-8 div.sk-text-repr-fallback {display: none;}</style><div id=\"sk-container-id-8\" class=\"sk-top-container\"><div class=\"sk-text-repr-fallback\"><pre>LinearRegression()</pre><b>In a Jupyter environment, please rerun this cell to show the HTML representation or trust the notebook. <br />On GitHub, the HTML representation is unable to render, please try loading this page with nbviewer.org.</b></div><div class=\"sk-container\" hidden><div class=\"sk-item\"><div class=\"sk-estimator sk-toggleable\"><input class=\"sk-toggleable__control sk-hidden--visually\" id=\"sk-estimator-id-14\" type=\"checkbox\" checked><label for=\"sk-estimator-id-14\" class=\"sk-toggleable__label sk-toggleable__label-arrow\">LinearRegression</label><div class=\"sk-toggleable__content\"><pre>LinearRegression()</pre></div></div></div></div></div>"
      ],
      "text/plain": [
       "LinearRegression()"
      ]
     },
     "execution_count": 59,
     "metadata": {},
     "output_type": "execute_result"
    }
   ],
   "source": [
    "poly = LinearRegression()\n",
    "poly.fit(x_train_Pr, y_train)"
   ]
  },
  {
   "cell_type": "code",
   "execution_count": 60,
   "id": "0a0f56bf",
   "metadata": {
    "_kg_hide-output": true,
    "execution": {
     "iopub.execute_input": "2024-07-05T16:26:36.966275Z",
     "iopub.status.busy": "2024-07-05T16:26:36.965374Z",
     "iopub.status.idle": "2024-07-05T16:26:36.978953Z",
     "shell.execute_reply": "2024-07-05T16:26:36.977792Z"
    },
    "papermill": {
     "duration": 0.055407,
     "end_time": "2024-07-05T16:26:36.982094",
     "exception": false,
     "start_time": "2024-07-05T16:26:36.926687",
     "status": "completed"
    },
    "scrolled": true,
    "tags": []
   },
   "outputs": [
    {
     "data": {
      "text/plain": [
       "array([-0.43489967,  2.36735484, -0.43079159, -0.54647276,  0.70304987])"
      ]
     },
     "execution_count": 60,
     "metadata": {},
     "output_type": "execute_result"
    }
   ],
   "source": [
    "yhat = poly.predict(x_test_Pr)\n",
    "yhat[0:5]"
   ]
  },
  {
   "cell_type": "code",
   "execution_count": 61,
   "id": "b0273186",
   "metadata": {
    "_kg_hide-output": true,
    "execution": {
     "iopub.execute_input": "2024-07-05T16:26:37.103647Z",
     "iopub.status.busy": "2024-07-05T16:26:37.103239Z",
     "iopub.status.idle": "2024-07-05T16:26:37.110314Z",
     "shell.execute_reply": "2024-07-05T16:26:37.109333Z"
    },
    "papermill": {
     "duration": 0.067284,
     "end_time": "2024-07-05T16:26:37.112771",
     "exception": false,
     "start_time": "2024-07-05T16:26:37.045487",
     "status": "completed"
    },
    "scrolled": true,
    "tags": []
   },
   "outputs": [
    {
     "name": "stdout",
     "output_type": "stream",
     "text": [
      "predicted values: [-0.43489967  2.36735484 -0.43079159 -0.54647276]\n",
      "True values: 17384   -0.662151\n",
      "722      2.827183\n",
      "2680     0.059958\n",
      "18754    0.248998\n",
      "Name: price, dtype: float64\n"
     ]
    }
   ],
   "source": [
    "print(\"predicted values:\", yhat[0:4])\n",
    "print(\"True values:\",y_test[0:4])"
   ]
  },
  {
   "cell_type": "markdown",
   "id": "69351084",
   "metadata": {
    "papermill": {
     "duration": 0.03764,
     "end_time": "2024-07-05T16:26:37.188861",
     "exception": false,
     "start_time": "2024-07-05T16:26:37.151221",
     "status": "completed"
    },
    "tags": []
   },
   "source": [
    "**To identify the point of overfitting in the model on the parameter \"sqft_living\":**"
   ]
  },
  {
   "cell_type": "code",
   "execution_count": 62,
   "id": "e18a388e",
   "metadata": {
    "execution": {
     "iopub.execute_input": "2024-07-05T16:26:37.268168Z",
     "iopub.status.busy": "2024-07-05T16:26:37.267691Z",
     "iopub.status.idle": "2024-07-05T16:26:37.572316Z",
     "shell.execute_reply": "2024-07-05T16:26:37.571077Z"
    },
    "papermill": {
     "duration": 0.347439,
     "end_time": "2024-07-05T16:26:37.574894",
     "exception": false,
     "start_time": "2024-07-05T16:26:37.227455",
     "status": "completed"
    },
    "tags": []
   },
   "outputs": [
    {
     "data": {
      "image/png": "[encoded data removed]",
      "text/plain": [
       "<Figure size 640x480 with 1 Axes>"
      ]
     },
     "metadata": {},
     "output_type": "display_data"
    }
   ],
   "source": [
    "# List to store R^2 values for test data\n",
    "Rsqu_test = []\n",
    "\n",
    "# Polynomial degrees to test\n",
    "order = [1, 2, 3, 4]\n",
    "\n",
    "# Loop through different polynomial degrees\n",
    "for n in order:\n",
    "    Pr = PolynomialFeatures(degree=n)\n",
    "    x_train_pr = Pr.fit_transform(x_train[['sqft_living']])\n",
    "    x_test_pr = Pr.fit_transform(x_test[['sqft_living']])\n",
    "    \n",
    "    lr = LinearRegression()\n",
    "    lr.fit(x_train_pr, y_train)\n",
    "    Rsqu_test.append(lr.score(x_test_pr, y_test))\n",
    "\n",
    "# Plotting the results\n",
    "plt.plot(order, Rsqu_test, marker='o')\n",
    "plt.xlabel('Order')\n",
    "plt.ylabel('R^2')\n",
    "plt.title('R^2 using Test Data')\n",
    "plt.show()"
   ]
  },
  {
   "cell_type": "code",
   "execution_count": 63,
   "id": "1bf721dc",
   "metadata": {
    "execution": {
     "iopub.execute_input": "2024-07-05T16:26:37.656318Z",
     "iopub.status.busy": "2024-07-05T16:26:37.655433Z",
     "iopub.status.idle": "2024-07-05T16:26:37.662092Z",
     "shell.execute_reply": "2024-07-05T16:26:37.660995Z"
    },
    "papermill": {
     "duration": 0.049025,
     "end_time": "2024-07-05T16:26:37.664366",
     "exception": false,
     "start_time": "2024-07-05T16:26:37.615341",
     "status": "completed"
    },
    "tags": []
   },
   "outputs": [],
   "source": [
    "def f(order, test_data):\n",
    "    x_train, x_test, y_train, y_test = train_test_split(X,Y, test_size = test_data, random_state = 0)\n",
    "    Pr = PolynomialFeatures(degree = order)\n",
    "    x_train_pr = Pr.fit_transform(x_train[['sqft_living']])\n",
    "    x_test_pr = Pr.fit_transform(x_test[['sqft_living']])\n",
    "    poly = LinearRegression()\n",
    "    poly.fit(x_train_pr, y_train)\n",
    "    PollyPlot(x_train['sqft_living'], x_test['sqft_living'], y_train, y_test, poly, Pr)\n",
    "    "
   ]
  },
  {
   "cell_type": "markdown",
   "id": "a4b8a542",
   "metadata": {
    "papermill": {
     "duration": 0.038417,
     "end_time": "2024-07-05T16:26:37.742120",
     "exception": false,
     "start_time": "2024-07-05T16:26:37.703703",
     "status": "completed"
    },
    "tags": []
   },
   "source": [
    "# Model Refinement"
   ]
  },
  {
   "cell_type": "code",
   "execution_count": 64,
   "id": "ee819001",
   "metadata": {
    "execution": {
     "iopub.execute_input": "2024-07-05T16:26:37.821018Z",
     "iopub.status.busy": "2024-07-05T16:26:37.820610Z",
     "iopub.status.idle": "2024-07-05T16:26:37.825347Z",
     "shell.execute_reply": "2024-07-05T16:26:37.824335Z"
    },
    "papermill": {
     "duration": 0.046932,
     "end_time": "2024-07-05T16:26:37.827665",
     "exception": false,
     "start_time": "2024-07-05T16:26:37.780733",
     "status": "completed"
    },
    "tags": []
   },
   "outputs": [],
   "source": [
    "Pr = PolynomialFeatures(degree =2)"
   ]
  },
  {
   "cell_type": "code",
   "execution_count": 65,
   "id": "9e6595d6",
   "metadata": {
    "execution": {
     "iopub.execute_input": "2024-07-05T16:26:37.909443Z",
     "iopub.status.busy": "2024-07-05T16:26:37.908461Z",
     "iopub.status.idle": "2024-07-05T16:26:37.947212Z",
     "shell.execute_reply": "2024-07-05T16:26:37.946140Z"
    },
    "papermill": {
     "duration": 0.082258,
     "end_time": "2024-07-05T16:26:37.949750",
     "exception": false,
     "start_time": "2024-07-05T16:26:37.867492",
     "status": "completed"
    },
    "tags": []
   },
   "outputs": [],
   "source": [
    "X_train_pr = Pr.fit_transform(x_train[[\"sqft_living\", \"sqft_above\", \"sqft_living15\", \"bathrooms\", \"grade\", \"bedrooms\", \"view\", \"sqft_lot\", \"floors\", \"condition\", \"yr_built\", \"lat\", \"sqft_lot15\"]])\n",
    "X_test_pr = Pr.fit_transform(x_test[[\"sqft_living\", \"sqft_above\", \"sqft_living15\", \"bathrooms\", \"grade\", \"bedrooms\", \"view\", \"sqft_lot\", \"floors\", \"condition\", \"yr_built\", \"lat\", \"sqft_lot15\"]])"
   ]
  },
  {
   "cell_type": "markdown",
   "id": "f72ee2e4",
   "metadata": {
    "papermill": {
     "duration": 0.038763,
     "end_time": "2024-07-05T16:26:38.027413",
     "exception": false,
     "start_time": "2024-07-05T16:26:37.988650",
     "status": "completed"
    },
    "tags": []
   },
   "source": [
    "<h2>Feature Scaling:<h2>"
   ]
  },
  {
   "cell_type": "code",
   "execution_count": 66,
   "id": "dfa3b12b",
   "metadata": {
    "execution": {
     "iopub.execute_input": "2024-07-05T16:26:38.107212Z",
     "iopub.status.busy": "2024-07-05T16:26:38.106461Z",
     "iopub.status.idle": "2024-07-05T16:26:38.119788Z",
     "shell.execute_reply": "2024-07-05T16:26:38.118358Z"
    },
    "papermill": {
     "duration": 0.056117,
     "end_time": "2024-07-05T16:26:38.122631",
     "exception": false,
     "start_time": "2024-07-05T16:26:38.066514",
     "status": "completed"
    },
    "tags": []
   },
   "outputs": [],
   "source": [
    "scaler = StandardScaler()\n",
    "X_scaled = scaler.fit_transform(X)"
   ]
  },
  {
   "cell_type": "markdown",
   "id": "7c05dc5f",
   "metadata": {
    "papermill": {
     "duration": 0.038191,
     "end_time": "2024-07-05T16:26:38.199853",
     "exception": false,
     "start_time": "2024-07-05T16:26:38.161662",
     "status": "completed"
    },
    "tags": []
   },
   "source": [
    "<h2>Regularization Parameter:<h2>"
   ]
  },
  {
   "cell_type": "code",
   "execution_count": 67,
   "id": "6e8ad744",
   "metadata": {
    "execution": {
     "iopub.execute_input": "2024-07-05T16:26:38.278607Z",
     "iopub.status.busy": "2024-07-05T16:26:38.278209Z",
     "iopub.status.idle": "2024-07-05T16:26:38.293559Z",
     "shell.execute_reply": "2024-07-05T16:26:38.292444Z"
    },
    "papermill": {
     "duration": 0.058008,
     "end_time": "2024-07-05T16:26:38.296501",
     "exception": false,
     "start_time": "2024-07-05T16:26:38.238493",
     "status": "completed"
    },
    "tags": []
   },
   "outputs": [
    {
     "data": {
      "text/html": [
       "<style>#sk-container-id-9 {color: black;background-color: white;}#sk-container-id-9 pre{padding: 0;}#sk-container-id-9 div.sk-toggleable {background-color: white;}#sk-container-id-9 label.sk-toggleable__label {cursor: pointer;display: block;width: 100%;margin-bottom: 0;padding: 0.3em;box-sizing: border-box;text-align: center;}#sk-container-id-9 label.sk-toggleable__label-arrow:before {content: \"▸\";float: left;margin-right: 0.25em;color: #696969;}#sk-container-id-9 label.sk-toggleable__label-arrow:hover:before {color: black;}#sk-container-id-9 div.sk-estimator:hover label.sk-toggleable__label-arrow:before {color: black;}#sk-container-id-9 div.sk-toggleable__content {max-height: 0;max-width: 0;overflow: hidden;text-align: left;background-color: #f0f8ff;}#sk-container-id-9 div.sk-toggleable__content pre {margin: 0.2em;color: black;border-radius: 0.25em;background-color: #f0f8ff;}#sk-container-id-9 input.sk-toggleable__control:checked~div.sk-toggleable__content {max-height: 200px;max-width: 100%;overflow: auto;}#sk-container-id-9 input.sk-toggleable__control:checked~label.sk-toggleable__label-arrow:before {content: \"▾\";}#sk-container-id-9 div.sk-estimator input.sk-toggleable__control:checked~label.sk-toggleable__label {background-color: #d4ebff;}#sk-container-id-9 div.sk-label input.sk-toggleable__control:checked~label.sk-toggleable__label {background-color: #d4ebff;}#sk-container-id-9 input.sk-hidden--visually {border: 0;clip: rect(1px 1px 1px 1px);clip: rect(1px, 1px, 1px, 1px);height: 1px;margin: -1px;overflow: hidden;padding: 0;position: absolute;width: 1px;}#sk-container-id-9 div.sk-estimator {font-family: monospace;background-color: #f0f8ff;border: 1px dotted black;border-radius: 0.25em;box-sizing: border-box;margin-bottom: 0.5em;}#sk-container-id-9 div.sk-estimator:hover {background-color: #d4ebff;}#sk-container-id-9 div.sk-parallel-item::after {content: \"\";width: 100%;border-bottom: 1px solid gray;flex-grow: 1;}#sk-container-id-9 div.sk-label:hover label.sk-toggleable__label {background-color: #d4ebff;}#sk-container-id-9 div.sk-serial::before {content: \"\";position: absolute;border-left: 1px solid gray;box-sizing: border-box;top: 0;bottom: 0;left: 50%;z-index: 0;}#sk-container-id-9 div.sk-serial {display: flex;flex-direction: column;align-items: center;background-color: white;padding-right: 0.2em;padding-left: 0.2em;position: relative;}#sk-container-id-9 div.sk-item {position: relative;z-index: 1;}#sk-container-id-9 div.sk-parallel {display: flex;align-items: stretch;justify-content: center;background-color: white;position: relative;}#sk-container-id-9 div.sk-item::before, #sk-container-id-9 div.sk-parallel-item::before {content: \"\";position: absolute;border-left: 1px solid gray;box-sizing: border-box;top: 0;bottom: 0;left: 50%;z-index: -1;}#sk-container-id-9 div.sk-parallel-item {display: flex;flex-direction: column;z-index: 1;position: relative;background-color: white;}#sk-container-id-9 div.sk-parallel-item:first-child::after {align-self: flex-end;width: 50%;}#sk-container-id-9 div.sk-parallel-item:last-child::after {align-self: flex-start;width: 50%;}#sk-container-id-9 div.sk-parallel-item:only-child::after {width: 0;}#sk-container-id-9 div.sk-dashed-wrapped {border: 1px dashed gray;margin: 0 0.4em 0.5em 0.4em;box-sizing: border-box;padding-bottom: 0.4em;background-color: white;}#sk-container-id-9 div.sk-label label {font-family: monospace;font-weight: bold;display: inline-block;line-height: 1.2em;}#sk-container-id-9 div.sk-label-container {text-align: center;}#sk-container-id-9 div.sk-container {/* jupyter's `normalize.less` sets `[hidden] { display: none; }` but bootstrap.min.css set `[hidden] { display: none !important; }` so we also need the `!important` here to be able to override the default hidden behavior on the sphinx rendered scikit-learn.org. See: https://github.com/scikit-learn/scikit-learn/issues/21755 */display: inline-block !important;position: relative;}#sk-container-id-9 div.sk-text-repr-fallback {display: none;}</style><div id=\"sk-container-id-9\" class=\"sk-top-container\"><div class=\"sk-text-repr-fallback\"><pre>Ridge()</pre><b>In a Jupyter environment, please rerun this cell to show the HTML representation or trust the notebook. <br />On GitHub, the HTML representation is unable to render, please try loading this page with nbviewer.org.</b></div><div class=\"sk-container\" hidden><div class=\"sk-item\"><div class=\"sk-estimator sk-toggleable\"><input class=\"sk-toggleable__control sk-hidden--visually\" id=\"sk-estimator-id-15\" type=\"checkbox\" checked><label for=\"sk-estimator-id-15\" class=\"sk-toggleable__label sk-toggleable__label-arrow\">Ridge</label><div class=\"sk-toggleable__content\"><pre>Ridge()</pre></div></div></div></div></div>"
      ],
      "text/plain": [
       "Ridge()"
      ]
     },
     "execution_count": 67,
     "metadata": {},
     "output_type": "execute_result"
    }
   ],
   "source": [
    "alpha = 1.0  # You can experiment with different values\n",
    "model = Ridge(alpha=alpha)\n",
    "model.fit(X_scaled, y)"
   ]
  },
  {
   "cell_type": "markdown",
   "id": "d842d472",
   "metadata": {
    "papermill": {
     "duration": 0.056106,
     "end_time": "2024-07-05T16:26:38.419158",
     "exception": false,
     "start_time": "2024-07-05T16:26:38.363052",
     "status": "completed"
    },
    "tags": []
   },
   "source": [
    "<h3>Checking for Multicollinearity:<h2>"
   ]
  },
  {
   "cell_type": "code",
   "execution_count": 68,
   "id": "85d84173",
   "metadata": {
    "execution": {
     "iopub.execute_input": "2024-07-05T16:26:38.500162Z",
     "iopub.status.busy": "2024-07-05T16:26:38.499768Z",
     "iopub.status.idle": "2024-07-05T16:26:39.231802Z",
     "shell.execute_reply": "2024-07-05T16:26:39.230473Z"
    },
    "papermill": {
     "duration": 0.775908,
     "end_time": "2024-07-05T16:26:39.235763",
     "exception": false,
     "start_time": "2024-07-05T16:26:38.459855",
     "status": "completed"
    },
    "tags": []
   },
   "outputs": [
    {
     "data": {
      "image/png": "[encoded data removed]",
      "text/plain": [
       "<Figure size 640x480 with 2 Axes>"
      ]
     },
     "metadata": {},
     "output_type": "display_data"
    }
   ],
   "source": [
    "# Assuming X is a DataFrame\n",
    "corr_matrix = pd.DataFrame(X).corr()\n",
    "sns.heatmap(corr_matrix, annot=True, cmap='coolwarm')\n",
    "plt.show()"
   ]
  },
  {
   "cell_type": "code",
   "execution_count": 69,
   "id": "d01a6a20",
   "metadata": {
    "execution": {
     "iopub.execute_input": "2024-07-05T16:26:39.326008Z",
     "iopub.status.busy": "2024-07-05T16:26:39.324815Z",
     "iopub.status.idle": "2024-07-05T16:26:39.365429Z",
     "shell.execute_reply": "2024-07-05T16:26:39.364196Z"
    },
    "papermill": {
     "duration": 0.086073,
     "end_time": "2024-07-05T16:26:39.368353",
     "exception": false,
     "start_time": "2024-07-05T16:26:39.282280",
     "status": "completed"
    },
    "tags": []
   },
   "outputs": [
    {
     "data": {
      "text/html": [
       "<style>#sk-container-id-10 {color: black;background-color: white;}#sk-container-id-10 pre{padding: 0;}#sk-container-id-10 div.sk-toggleable {background-color: white;}#sk-container-id-10 label.sk-toggleable__label {cursor: pointer;display: block;width: 100%;margin-bottom: 0;padding: 0.3em;box-sizing: border-box;text-align: center;}#sk-container-id-10 label.sk-toggleable__label-arrow:before {content: \"▸\";float: left;margin-right: 0.25em;color: #696969;}#sk-container-id-10 label.sk-toggleable__label-arrow:hover:before {color: black;}#sk-container-id-10 div.sk-estimator:hover label.sk-toggleable__label-arrow:before {color: black;}#sk-container-id-10 div.sk-toggleable__content {max-height: 0;max-width: 0;overflow: hidden;text-align: left;background-color: #f0f8ff;}#sk-container-id-10 div.sk-toggleable__content pre {margin: 0.2em;color: black;border-radius: 0.25em;background-color: #f0f8ff;}#sk-container-id-10 input.sk-toggleable__control:checked~div.sk-toggleable__content {max-height: 200px;max-width: 100%;overflow: auto;}#sk-container-id-10 input.sk-toggleable__control:checked~label.sk-toggleable__label-arrow:before {content: \"▾\";}#sk-container-id-10 div.sk-estimator input.sk-toggleable__control:checked~label.sk-toggleable__label {background-color: #d4ebff;}#sk-container-id-10 div.sk-label input.sk-toggleable__control:checked~label.sk-toggleable__label {background-color: #d4ebff;}#sk-container-id-10 input.sk-hidden--visually {border: 0;clip: rect(1px 1px 1px 1px);clip: rect(1px, 1px, 1px, 1px);height: 1px;margin: -1px;overflow: hidden;padding: 0;position: absolute;width: 1px;}#sk-container-id-10 div.sk-estimator {font-family: monospace;background-color: #f0f8ff;border: 1px dotted black;border-radius: 0.25em;box-sizing: border-box;margin-bottom: 0.5em;}#sk-container-id-10 div.sk-estimator:hover {background-color: #d4ebff;}#sk-container-id-10 div.sk-parallel-item::after {content: \"\";width: 100%;border-bottom: 1px solid gray;flex-grow: 1;}#sk-container-id-10 div.sk-label:hover label.sk-toggleable__label {background-color: #d4ebff;}#sk-container-id-10 div.sk-serial::before {content: \"\";position: absolute;border-left: 1px solid gray;box-sizing: border-box;top: 0;bottom: 0;left: 50%;z-index: 0;}#sk-container-id-10 div.sk-serial {display: flex;flex-direction: column;align-items: center;background-color: white;padding-right: 0.2em;padding-left: 0.2em;position: relative;}#sk-container-id-10 div.sk-item {position: relative;z-index: 1;}#sk-container-id-10 div.sk-parallel {display: flex;align-items: stretch;justify-content: center;background-color: white;position: relative;}#sk-container-id-10 div.sk-item::before, #sk-container-id-10 div.sk-parallel-item::before {content: \"\";position: absolute;border-left: 1px solid gray;box-sizing: border-box;top: 0;bottom: 0;left: 50%;z-index: -1;}#sk-container-id-10 div.sk-parallel-item {display: flex;flex-direction: column;z-index: 1;position: relative;background-color: white;}#sk-container-id-10 div.sk-parallel-item:first-child::after {align-self: flex-end;width: 50%;}#sk-container-id-10 div.sk-parallel-item:last-child::after {align-self: flex-start;width: 50%;}#sk-container-id-10 div.sk-parallel-item:only-child::after {width: 0;}#sk-container-id-10 div.sk-dashed-wrapped {border: 1px dashed gray;margin: 0 0.4em 0.5em 0.4em;box-sizing: border-box;padding-bottom: 0.4em;background-color: white;}#sk-container-id-10 div.sk-label label {font-family: monospace;font-weight: bold;display: inline-block;line-height: 1.2em;}#sk-container-id-10 div.sk-label-container {text-align: center;}#sk-container-id-10 div.sk-container {/* jupyter's `normalize.less` sets `[hidden] { display: none; }` but bootstrap.min.css set `[hidden] { display: none !important; }` so we also need the `!important` here to be able to override the default hidden behavior on the sphinx rendered scikit-learn.org. See: https://github.com/scikit-learn/scikit-learn/issues/21755 */display: inline-block !important;position: relative;}#sk-container-id-10 div.sk-text-repr-fallback {display: none;}</style><div id=\"sk-container-id-10\" class=\"sk-top-container\"><div class=\"sk-text-repr-fallback\"><pre>Ridge(alpha=0.1)</pre><b>In a Jupyter environment, please rerun this cell to show the HTML representation or trust the notebook. <br />On GitHub, the HTML representation is unable to render, please try loading this page with nbviewer.org.</b></div><div class=\"sk-container\" hidden><div class=\"sk-item\"><div class=\"sk-estimator sk-toggleable\"><input class=\"sk-toggleable__control sk-hidden--visually\" id=\"sk-estimator-id-16\" type=\"checkbox\" checked><label for=\"sk-estimator-id-16\" class=\"sk-toggleable__label sk-toggleable__label-arrow\">Ridge</label><div class=\"sk-toggleable__content\"><pre>Ridge(alpha=0.1)</pre></div></div></div></div></div>"
      ],
      "text/plain": [
       "Ridge(alpha=0.1)"
      ]
     },
     "execution_count": 69,
     "metadata": {},
     "output_type": "execute_result"
    }
   ],
   "source": [
    "RigeModel = Ridge(alpha = 0.1)\n",
    "RigeModel.fit(X_train_pr, y_train)\n"
   ]
  },
  {
   "cell_type": "code",
   "execution_count": 70,
   "id": "682e3f77",
   "metadata": {
    "execution": {
     "iopub.execute_input": "2024-07-05T16:26:39.530414Z",
     "iopub.status.busy": "2024-07-05T16:26:39.529421Z",
     "iopub.status.idle": "2024-07-05T16:26:39.537662Z",
     "shell.execute_reply": "2024-07-05T16:26:39.536689Z"
    },
    "papermill": {
     "duration": 0.05915,
     "end_time": "2024-07-05T16:26:39.540302",
     "exception": false,
     "start_time": "2024-07-05T16:26:39.481152",
     "status": "completed"
    },
    "tags": []
   },
   "outputs": [],
   "source": [
    "yhat = RigeModel.predict(X_test_pr)"
   ]
  },
  {
   "cell_type": "code",
   "execution_count": 71,
   "id": "6346ea7f",
   "metadata": {
    "_kg_hide-output": true,
    "execution": {
     "iopub.execute_input": "2024-07-05T16:26:39.674411Z",
     "iopub.status.busy": "2024-07-05T16:26:39.674022Z",
     "iopub.status.idle": "2024-07-05T16:26:39.679860Z",
     "shell.execute_reply": "2024-07-05T16:26:39.678803Z"
    },
    "papermill": {
     "duration": 0.067229,
     "end_time": "2024-07-05T16:26:39.682262",
     "exception": false,
     "start_time": "2024-07-05T16:26:39.615033",
     "status": "completed"
    },
    "scrolled": true,
    "tags": []
   },
   "outputs": [
    {
     "name": "stdout",
     "output_type": "stream",
     "text": [
      "predicted: [-0.42724476  3.25495199 -0.08035813  0.07346778]\n"
     ]
    }
   ],
   "source": [
    "print('predicted:', yhat[0:4])"
   ]
  },
  {
   "cell_type": "code",
   "execution_count": 72,
   "id": "69ee8f17",
   "metadata": {
    "_kg_hide-output": true,
    "execution": {
     "iopub.execute_input": "2024-07-05T16:26:39.767655Z",
     "iopub.status.busy": "2024-07-05T16:26:39.767258Z",
     "iopub.status.idle": "2024-07-05T16:26:39.773017Z",
     "shell.execute_reply": "2024-07-05T16:26:39.772043Z"
    },
    "papermill": {
     "duration": 0.051721,
     "end_time": "2024-07-05T16:26:39.775955",
     "exception": false,
     "start_time": "2024-07-05T16:26:39.724234",
     "status": "completed"
    },
    "scrolled": true,
    "tags": []
   },
   "outputs": [
    {
     "name": "stdout",
     "output_type": "stream",
     "text": [
      "test set: [-0.66215134  2.82718328  0.05995842  0.2489981 ]\n"
     ]
    }
   ],
   "source": [
    "print('test set:', y_test[0:4].values)"
   ]
  },
  {
   "cell_type": "code",
   "execution_count": 73,
   "id": "4b111579",
   "metadata": {
    "execution": {
     "iopub.execute_input": "2024-07-05T16:26:39.929454Z",
     "iopub.status.busy": "2024-07-05T16:26:39.928430Z",
     "iopub.status.idle": "2024-07-05T16:26:39.935160Z",
     "shell.execute_reply": "2024-07-05T16:26:39.934200Z"
    },
    "papermill": {
     "duration": 0.054047,
     "end_time": "2024-07-05T16:26:39.938202",
     "exception": false,
     "start_time": "2024-07-05T16:26:39.884155",
     "status": "completed"
    },
    "tags": []
   },
   "outputs": [
    {
     "name": "stdout",
     "output_type": "stream",
     "text": [
      "0.7668955027409314\n"
     ]
    }
   ],
   "source": [
    "print(r2_score(y_test, yhat))"
   ]
  },
  {
   "cell_type": "markdown",
   "id": "9baa140e",
   "metadata": {
    "papermill": {
     "duration": 0.042515,
     "end_time": "2024-07-05T16:26:40.030435",
     "exception": false,
     "start_time": "2024-07-05T16:26:39.987920",
     "status": "completed"
    },
    "tags": []
   },
   "source": [
    "# Grid Search"
   ]
  },
  {
   "cell_type": "markdown",
   "id": "c49ecd35",
   "metadata": {
    "papermill": {
     "duration": 0.041658,
     "end_time": "2024-07-05T16:26:40.113915",
     "exception": false,
     "start_time": "2024-07-05T16:26:40.072257",
     "status": "completed"
    },
    "tags": []
   },
   "source": [
    "The term alpha is a hyperparameter. Sklearn has the class GridSearchCV to make the process of finding the best hyperparameter simpler."
   ]
  },
  {
   "cell_type": "code",
   "execution_count": 74,
   "id": "048f7361",
   "metadata": {
    "execution": {
     "iopub.execute_input": "2024-07-05T16:26:40.201587Z",
     "iopub.status.busy": "2024-07-05T16:26:40.200462Z",
     "iopub.status.idle": "2024-07-05T16:26:40.209285Z",
     "shell.execute_reply": "2024-07-05T16:26:40.208264Z"
    },
    "papermill": {
     "duration": 0.055466,
     "end_time": "2024-07-05T16:26:40.211516",
     "exception": false,
     "start_time": "2024-07-05T16:26:40.156050",
     "status": "completed"
    },
    "tags": []
   },
   "outputs": [
    {
     "data": {
      "text/plain": [
       "[{'alpha': [0.001, 0.1, 1, 10, 100, 1000, 10000, 100000, 100000]}]"
      ]
     },
     "execution_count": 74,
     "metadata": {},
     "output_type": "execute_result"
    }
   ],
   "source": [
    "parameters1= [{'alpha': [0.001,0.1,1, 10, 100, 1000, 10000, 100000, 100000]}]\n",
    "parameters1"
   ]
  },
  {
   "cell_type": "code",
   "execution_count": 75,
   "id": "4cfa7b8d",
   "metadata": {
    "execution": {
     "iopub.execute_input": "2024-07-05T16:26:40.297910Z",
     "iopub.status.busy": "2024-07-05T16:26:40.297429Z",
     "iopub.status.idle": "2024-07-05T16:26:40.306122Z",
     "shell.execute_reply": "2024-07-05T16:26:40.304927Z"
    },
    "papermill": {
     "duration": 0.054468,
     "end_time": "2024-07-05T16:26:40.308436",
     "exception": false,
     "start_time": "2024-07-05T16:26:40.253968",
     "status": "completed"
    },
    "tags": []
   },
   "outputs": [
    {
     "data": {
      "text/html": [
       "<style>#sk-container-id-11 {color: black;background-color: white;}#sk-container-id-11 pre{padding: 0;}#sk-container-id-11 div.sk-toggleable {background-color: white;}#sk-container-id-11 label.sk-toggleable__label {cursor: pointer;display: block;width: 100%;margin-bottom: 0;padding: 0.3em;box-sizing: border-box;text-align: center;}#sk-container-id-11 label.sk-toggleable__label-arrow:before {content: \"▸\";float: left;margin-right: 0.25em;color: #696969;}#sk-container-id-11 label.sk-toggleable__label-arrow:hover:before {color: black;}#sk-container-id-11 div.sk-estimator:hover label.sk-toggleable__label-arrow:before {color: black;}#sk-container-id-11 div.sk-toggleable__content {max-height: 0;max-width: 0;overflow: hidden;text-align: left;background-color: #f0f8ff;}#sk-container-id-11 div.sk-toggleable__content pre {margin: 0.2em;color: black;border-radius: 0.25em;background-color: #f0f8ff;}#sk-container-id-11 input.sk-toggleable__control:checked~div.sk-toggleable__content {max-height: 200px;max-width: 100%;overflow: auto;}#sk-container-id-11 input.sk-toggleable__control:checked~label.sk-toggleable__label-arrow:before {content: \"▾\";}#sk-container-id-11 div.sk-estimator input.sk-toggleable__control:checked~label.sk-toggleable__label {background-color: #d4ebff;}#sk-container-id-11 div.sk-label input.sk-toggleable__control:checked~label.sk-toggleable__label {background-color: #d4ebff;}#sk-container-id-11 input.sk-hidden--visually {border: 0;clip: rect(1px 1px 1px 1px);clip: rect(1px, 1px, 1px, 1px);height: 1px;margin: -1px;overflow: hidden;padding: 0;position: absolute;width: 1px;}#sk-container-id-11 div.sk-estimator {font-family: monospace;background-color: #f0f8ff;border: 1px dotted black;border-radius: 0.25em;box-sizing: border-box;margin-bottom: 0.5em;}#sk-container-id-11 div.sk-estimator:hover {background-color: #d4ebff;}#sk-container-id-11 div.sk-parallel-item::after {content: \"\";width: 100%;border-bottom: 1px solid gray;flex-grow: 1;}#sk-container-id-11 div.sk-label:hover label.sk-toggleable__label {background-color: #d4ebff;}#sk-container-id-11 div.sk-serial::before {content: \"\";position: absolute;border-left: 1px solid gray;box-sizing: border-box;top: 0;bottom: 0;left: 50%;z-index: 0;}#sk-container-id-11 div.sk-serial {display: flex;flex-direction: column;align-items: center;background-color: white;padding-right: 0.2em;padding-left: 0.2em;position: relative;}#sk-container-id-11 div.sk-item {position: relative;z-index: 1;}#sk-container-id-11 div.sk-parallel {display: flex;align-items: stretch;justify-content: center;background-color: white;position: relative;}#sk-container-id-11 div.sk-item::before, #sk-container-id-11 div.sk-parallel-item::before {content: \"\";position: absolute;border-left: 1px solid gray;box-sizing: border-box;top: 0;bottom: 0;left: 50%;z-index: -1;}#sk-container-id-11 div.sk-parallel-item {display: flex;flex-direction: column;z-index: 1;position: relative;background-color: white;}#sk-container-id-11 div.sk-parallel-item:first-child::after {align-self: flex-end;width: 50%;}#sk-container-id-11 div.sk-parallel-item:last-child::after {align-self: flex-start;width: 50%;}#sk-container-id-11 div.sk-parallel-item:only-child::after {width: 0;}#sk-container-id-11 div.sk-dashed-wrapped {border: 1px dashed gray;margin: 0 0.4em 0.5em 0.4em;box-sizing: border-box;padding-bottom: 0.4em;background-color: white;}#sk-container-id-11 div.sk-label label {font-family: monospace;font-weight: bold;display: inline-block;line-height: 1.2em;}#sk-container-id-11 div.sk-label-container {text-align: center;}#sk-container-id-11 div.sk-container {/* jupyter's `normalize.less` sets `[hidden] { display: none; }` but bootstrap.min.css set `[hidden] { display: none !important; }` so we also need the `!important` here to be able to override the default hidden behavior on the sphinx rendered scikit-learn.org. See: https://github.com/scikit-learn/scikit-learn/issues/21755 */display: inline-block !important;position: relative;}#sk-container-id-11 div.sk-text-repr-fallback {display: none;}</style><div id=\"sk-container-id-11\" class=\"sk-top-container\"><div class=\"sk-text-repr-fallback\"><pre>Ridge()</pre><b>In a Jupyter environment, please rerun this cell to show the HTML representation or trust the notebook. <br />On GitHub, the HTML representation is unable to render, please try loading this page with nbviewer.org.</b></div><div class=\"sk-container\" hidden><div class=\"sk-item\"><div class=\"sk-estimator sk-toggleable\"><input class=\"sk-toggleable__control sk-hidden--visually\" id=\"sk-estimator-id-17\" type=\"checkbox\" checked><label for=\"sk-estimator-id-17\" class=\"sk-toggleable__label sk-toggleable__label-arrow\">Ridge</label><div class=\"sk-toggleable__content\"><pre>Ridge()</pre></div></div></div></div></div>"
      ],
      "text/plain": [
       "Ridge()"
      ]
     },
     "execution_count": 75,
     "metadata": {},
     "output_type": "execute_result"
    }
   ],
   "source": [
    "RR=Ridge()\n",
    "RR"
   ]
  },
  {
   "cell_type": "code",
   "execution_count": 76,
   "id": "5ab1e9df",
   "metadata": {
    "execution": {
     "iopub.execute_input": "2024-07-05T16:26:40.397216Z",
     "iopub.status.busy": "2024-07-05T16:26:40.396833Z",
     "iopub.status.idle": "2024-07-05T16:26:40.401799Z",
     "shell.execute_reply": "2024-07-05T16:26:40.400713Z"
    },
    "papermill": {
     "duration": 0.050615,
     "end_time": "2024-07-05T16:26:40.404060",
     "exception": false,
     "start_time": "2024-07-05T16:26:40.353445",
     "status": "completed"
    },
    "tags": []
   },
   "outputs": [],
   "source": [
    "Grid1 = GridSearchCV(RR, parameters1,cv=4)"
   ]
  },
  {
   "cell_type": "code",
   "execution_count": 77,
   "id": "ed33dbf2",
   "metadata": {
    "execution": {
     "iopub.execute_input": "2024-07-05T16:26:40.492560Z",
     "iopub.status.busy": "2024-07-05T16:26:40.491199Z",
     "iopub.status.idle": "2024-07-05T16:26:41.058486Z",
     "shell.execute_reply": "2024-07-05T16:26:41.057392Z"
    },
    "papermill": {
     "duration": 0.613987,
     "end_time": "2024-07-05T16:26:41.061694",
     "exception": false,
     "start_time": "2024-07-05T16:26:40.447707",
     "status": "completed"
    },
    "tags": []
   },
   "outputs": [
    {
     "data": {
      "text/html": [
       "<style>#sk-container-id-12 {color: black;background-color: white;}#sk-container-id-12 pre{padding: 0;}#sk-container-id-12 div.sk-toggleable {background-color: white;}#sk-container-id-12 label.sk-toggleable__label {cursor: pointer;display: block;width: 100%;margin-bottom: 0;padding: 0.3em;box-sizing: border-box;text-align: center;}#sk-container-id-12 label.sk-toggleable__label-arrow:before {content: \"▸\";float: left;margin-right: 0.25em;color: #696969;}#sk-container-id-12 label.sk-toggleable__label-arrow:hover:before {color: black;}#sk-container-id-12 div.sk-estimator:hover label.sk-toggleable__label-arrow:before {color: black;}#sk-container-id-12 div.sk-toggleable__content {max-height: 0;max-width: 0;overflow: hidden;text-align: left;background-color: #f0f8ff;}#sk-container-id-12 div.sk-toggleable__content pre {margin: 0.2em;color: black;border-radius: 0.25em;background-color: #f0f8ff;}#sk-container-id-12 input.sk-toggleable__control:checked~div.sk-toggleable__content {max-height: 200px;max-width: 100%;overflow: auto;}#sk-container-id-12 input.sk-toggleable__control:checked~label.sk-toggleable__label-arrow:before {content: \"▾\";}#sk-container-id-12 div.sk-estimator input.sk-toggleable__control:checked~label.sk-toggleable__label {background-color: #d4ebff;}#sk-container-id-12 div.sk-label input.sk-toggleable__control:checked~label.sk-toggleable__label {background-color: #d4ebff;}#sk-container-id-12 input.sk-hidden--visually {border: 0;clip: rect(1px 1px 1px 1px);clip: rect(1px, 1px, 1px, 1px);height: 1px;margin: -1px;overflow: hidden;padding: 0;position: absolute;width: 1px;}#sk-container-id-12 div.sk-estimator {font-family: monospace;background-color: #f0f8ff;border: 1px dotted black;border-radius: 0.25em;box-sizing: border-box;margin-bottom: 0.5em;}#sk-container-id-12 div.sk-estimator:hover {background-color: #d4ebff;}#sk-container-id-12 div.sk-parallel-item::after {content: \"\";width: 100%;border-bottom: 1px solid gray;flex-grow: 1;}#sk-container-id-12 div.sk-label:hover label.sk-toggleable__label {background-color: #d4ebff;}#sk-container-id-12 div.sk-serial::before {content: \"\";position: absolute;border-left: 1px solid gray;box-sizing: border-box;top: 0;bottom: 0;left: 50%;z-index: 0;}#sk-container-id-12 div.sk-serial {display: flex;flex-direction: column;align-items: center;background-color: white;padding-right: 0.2em;padding-left: 0.2em;position: relative;}#sk-container-id-12 div.sk-item {position: relative;z-index: 1;}#sk-container-id-12 div.sk-parallel {display: flex;align-items: stretch;justify-content: center;background-color: white;position: relative;}#sk-container-id-12 div.sk-item::before, #sk-container-id-12 div.sk-parallel-item::before {content: \"\";position: absolute;border-left: 1px solid gray;box-sizing: border-box;top: 0;bottom: 0;left: 50%;z-index: -1;}#sk-container-id-12 div.sk-parallel-item {display: flex;flex-direction: column;z-index: 1;position: relative;background-color: white;}#sk-container-id-12 div.sk-parallel-item:first-child::after {align-self: flex-end;width: 50%;}#sk-container-id-12 div.sk-parallel-item:last-child::after {align-self: flex-start;width: 50%;}#sk-container-id-12 div.sk-parallel-item:only-child::after {width: 0;}#sk-container-id-12 div.sk-dashed-wrapped {border: 1px dashed gray;margin: 0 0.4em 0.5em 0.4em;box-sizing: border-box;padding-bottom: 0.4em;background-color: white;}#sk-container-id-12 div.sk-label label {font-family: monospace;font-weight: bold;display: inline-block;line-height: 1.2em;}#sk-container-id-12 div.sk-label-container {text-align: center;}#sk-container-id-12 div.sk-container {/* jupyter's `normalize.less` sets `[hidden] { display: none; }` but bootstrap.min.css set `[hidden] { display: none !important; }` so we also need the `!important` here to be able to override the default hidden behavior on the sphinx rendered scikit-learn.org. See: https://github.com/scikit-learn/scikit-learn/issues/21755 */display: inline-block !important;position: relative;}#sk-container-id-12 div.sk-text-repr-fallback {display: none;}</style><div id=\"sk-container-id-12\" class=\"sk-top-container\"><div class=\"sk-text-repr-fallback\"><pre>GridSearchCV(cv=4, estimator=Ridge(),\n",
       "             param_grid=[{&#x27;alpha&#x27;: [0.001, 0.1, 1, 10, 100, 1000, 10000, 100000,\n",
       "                                    100000]}])</pre><b>In a Jupyter environment, please rerun this cell to show the HTML representation or trust the notebook. <br />On GitHub, the HTML representation is unable to render, please try loading this page with nbviewer.org.</b></div><div class=\"sk-container\" hidden><div class=\"sk-item sk-dashed-wrapped\"><div class=\"sk-label-container\"><div class=\"sk-label sk-toggleable\"><input class=\"sk-toggleable__control sk-hidden--visually\" id=\"sk-estimator-id-18\" type=\"checkbox\" ><label for=\"sk-estimator-id-18\" class=\"sk-toggleable__label sk-toggleable__label-arrow\">GridSearchCV</label><div class=\"sk-toggleable__content\"><pre>GridSearchCV(cv=4, estimator=Ridge(),\n",
       "             param_grid=[{&#x27;alpha&#x27;: [0.001, 0.1, 1, 10, 100, 1000, 10000, 100000,\n",
       "                                    100000]}])</pre></div></div></div><div class=\"sk-parallel\"><div class=\"sk-parallel-item\"><div class=\"sk-item\"><div class=\"sk-label-container\"><div class=\"sk-label sk-toggleable\"><input class=\"sk-toggleable__control sk-hidden--visually\" id=\"sk-estimator-id-19\" type=\"checkbox\" ><label for=\"sk-estimator-id-19\" class=\"sk-toggleable__label sk-toggleable__label-arrow\">estimator: Ridge</label><div class=\"sk-toggleable__content\"><pre>Ridge()</pre></div></div></div><div class=\"sk-serial\"><div class=\"sk-item\"><div class=\"sk-estimator sk-toggleable\"><input class=\"sk-toggleable__control sk-hidden--visually\" id=\"sk-estimator-id-20\" type=\"checkbox\" ><label for=\"sk-estimator-id-20\" class=\"sk-toggleable__label sk-toggleable__label-arrow\">Ridge</label><div class=\"sk-toggleable__content\"><pre>Ridge()</pre></div></div></div></div></div></div></div></div></div></div>"
      ],
      "text/plain": [
       "GridSearchCV(cv=4, estimator=Ridge(),\n",
       "             param_grid=[{'alpha': [0.001, 0.1, 1, 10, 100, 1000, 10000, 100000,\n",
       "                                    100000]}])"
      ]
     },
     "execution_count": 77,
     "metadata": {},
     "output_type": "execute_result"
    }
   ],
   "source": [
    "Grid1.fit(X[[\"sqft_living\", \"sqft_above\", \"sqft_living15\", \"bathrooms\", \"grade\", \"bedrooms\", \"view\", \"sqft_lot\", \"floors\", \"condition\", \"yr_built\", \"lat\", \"sqft_lot15\"]], Y)"
   ]
  },
  {
   "cell_type": "code",
   "execution_count": 78,
   "id": "3cc002fc",
   "metadata": {
    "execution": {
     "iopub.execute_input": "2024-07-05T16:26:41.194154Z",
     "iopub.status.busy": "2024-07-05T16:26:41.192865Z",
     "iopub.status.idle": "2024-07-05T16:26:41.201296Z",
     "shell.execute_reply": "2024-07-05T16:26:41.200224Z"
    },
    "papermill": {
     "duration": 0.068915,
     "end_time": "2024-07-05T16:26:41.203518",
     "exception": false,
     "start_time": "2024-07-05T16:26:41.134603",
     "status": "completed"
    },
    "tags": []
   },
   "outputs": [
    {
     "data": {
      "text/html": [
       "<style>#sk-container-id-13 {color: black;background-color: white;}#sk-container-id-13 pre{padding: 0;}#sk-container-id-13 div.sk-toggleable {background-color: white;}#sk-container-id-13 label.sk-toggleable__label {cursor: pointer;display: block;width: 100%;margin-bottom: 0;padding: 0.3em;box-sizing: border-box;text-align: center;}#sk-container-id-13 label.sk-toggleable__label-arrow:before {content: \"▸\";float: left;margin-right: 0.25em;color: #696969;}#sk-container-id-13 label.sk-toggleable__label-arrow:hover:before {color: black;}#sk-container-id-13 div.sk-estimator:hover label.sk-toggleable__label-arrow:before {color: black;}#sk-container-id-13 div.sk-toggleable__content {max-height: 0;max-width: 0;overflow: hidden;text-align: left;background-color: #f0f8ff;}#sk-container-id-13 div.sk-toggleable__content pre {margin: 0.2em;color: black;border-radius: 0.25em;background-color: #f0f8ff;}#sk-container-id-13 input.sk-toggleable__control:checked~div.sk-toggleable__content {max-height: 200px;max-width: 100%;overflow: auto;}#sk-container-id-13 input.sk-toggleable__control:checked~label.sk-toggleable__label-arrow:before {content: \"▾\";}#sk-container-id-13 div.sk-estimator input.sk-toggleable__control:checked~label.sk-toggleable__label {background-color: #d4ebff;}#sk-container-id-13 div.sk-label input.sk-toggleable__control:checked~label.sk-toggleable__label {background-color: #d4ebff;}#sk-container-id-13 input.sk-hidden--visually {border: 0;clip: rect(1px 1px 1px 1px);clip: rect(1px, 1px, 1px, 1px);height: 1px;margin: -1px;overflow: hidden;padding: 0;position: absolute;width: 1px;}#sk-container-id-13 div.sk-estimator {font-family: monospace;background-color: #f0f8ff;border: 1px dotted black;border-radius: 0.25em;box-sizing: border-box;margin-bottom: 0.5em;}#sk-container-id-13 div.sk-estimator:hover {background-color: #d4ebff;}#sk-container-id-13 div.sk-parallel-item::after {content: \"\";width: 100%;border-bottom: 1px solid gray;flex-grow: 1;}#sk-container-id-13 div.sk-label:hover label.sk-toggleable__label {background-color: #d4ebff;}#sk-container-id-13 div.sk-serial::before {content: \"\";position: absolute;border-left: 1px solid gray;box-sizing: border-box;top: 0;bottom: 0;left: 50%;z-index: 0;}#sk-container-id-13 div.sk-serial {display: flex;flex-direction: column;align-items: center;background-color: white;padding-right: 0.2em;padding-left: 0.2em;position: relative;}#sk-container-id-13 div.sk-item {position: relative;z-index: 1;}#sk-container-id-13 div.sk-parallel {display: flex;align-items: stretch;justify-content: center;background-color: white;position: relative;}#sk-container-id-13 div.sk-item::before, #sk-container-id-13 div.sk-parallel-item::before {content: \"\";position: absolute;border-left: 1px solid gray;box-sizing: border-box;top: 0;bottom: 0;left: 50%;z-index: -1;}#sk-container-id-13 div.sk-parallel-item {display: flex;flex-direction: column;z-index: 1;position: relative;background-color: white;}#sk-container-id-13 div.sk-parallel-item:first-child::after {align-self: flex-end;width: 50%;}#sk-container-id-13 div.sk-parallel-item:last-child::after {align-self: flex-start;width: 50%;}#sk-container-id-13 div.sk-parallel-item:only-child::after {width: 0;}#sk-container-id-13 div.sk-dashed-wrapped {border: 1px dashed gray;margin: 0 0.4em 0.5em 0.4em;box-sizing: border-box;padding-bottom: 0.4em;background-color: white;}#sk-container-id-13 div.sk-label label {font-family: monospace;font-weight: bold;display: inline-block;line-height: 1.2em;}#sk-container-id-13 div.sk-label-container {text-align: center;}#sk-container-id-13 div.sk-container {/* jupyter's `normalize.less` sets `[hidden] { display: none; }` but bootstrap.min.css set `[hidden] { display: none !important; }` so we also need the `!important` here to be able to override the default hidden behavior on the sphinx rendered scikit-learn.org. See: https://github.com/scikit-learn/scikit-learn/issues/21755 */display: inline-block !important;position: relative;}#sk-container-id-13 div.sk-text-repr-fallback {display: none;}</style><div id=\"sk-container-id-13\" class=\"sk-top-container\"><div class=\"sk-text-repr-fallback\"><pre>Ridge(alpha=100)</pre><b>In a Jupyter environment, please rerun this cell to show the HTML representation or trust the notebook. <br />On GitHub, the HTML representation is unable to render, please try loading this page with nbviewer.org.</b></div><div class=\"sk-container\" hidden><div class=\"sk-item\"><div class=\"sk-estimator sk-toggleable\"><input class=\"sk-toggleable__control sk-hidden--visually\" id=\"sk-estimator-id-21\" type=\"checkbox\" checked><label for=\"sk-estimator-id-21\" class=\"sk-toggleable__label sk-toggleable__label-arrow\">Ridge</label><div class=\"sk-toggleable__content\"><pre>Ridge(alpha=100)</pre></div></div></div></div></div>"
      ],
      "text/plain": [
       "Ridge(alpha=100)"
      ]
     },
     "execution_count": 78,
     "metadata": {},
     "output_type": "execute_result"
    }
   ],
   "source": [
    "BestRR=Grid1.best_estimator_\n",
    "BestRR"
   ]
  },
  {
   "cell_type": "markdown",
   "id": "c6127a60",
   "metadata": {
    "papermill": {
     "duration": 0.042139,
     "end_time": "2024-07-05T16:26:41.290419",
     "exception": false,
     "start_time": "2024-07-05T16:26:41.248280",
     "status": "completed"
    },
    "tags": []
   },
   "source": [
    "I now test my model on the test data:"
   ]
  },
  {
   "cell_type": "code",
   "execution_count": 79,
   "id": "2c94f3ee",
   "metadata": {
    "execution": {
     "iopub.execute_input": "2024-07-05T16:26:41.376264Z",
     "iopub.status.busy": "2024-07-05T16:26:41.375877Z",
     "iopub.status.idle": "2024-07-05T16:26:41.388937Z",
     "shell.execute_reply": "2024-07-05T16:26:41.387835Z"
    },
    "papermill": {
     "duration": 0.058979,
     "end_time": "2024-07-05T16:26:41.391724",
     "exception": false,
     "start_time": "2024-07-05T16:26:41.332745",
     "status": "completed"
    },
    "tags": []
   },
   "outputs": [
    {
     "data": {
      "text/plain": [
       "0.6722275232638615"
      ]
     },
     "execution_count": 79,
     "metadata": {},
     "output_type": "execute_result"
    }
   ],
   "source": [
    "BestRR.score(x_test[[\"sqft_living\", \"sqft_above\", \"sqft_living15\", \"bathrooms\", \"grade\", \"bedrooms\", \"view\", \"sqft_lot\", \"floors\", \"condition\", \"yr_built\", \"lat\", \"sqft_lot15\"]], y_test)"
   ]
  },
  {
   "cell_type": "markdown",
   "id": "674c6619",
   "metadata": {
    "papermill": {
     "duration": 0.058005,
     "end_time": "2024-07-05T16:26:41.520787",
     "exception": false,
     "start_time": "2024-07-05T16:26:41.462782",
     "status": "completed"
    },
    "tags": []
   },
   "source": [
    "# Conclusion"
   ]
  },
  {
   "cell_type": "markdown",
   "id": "b1e924b0",
   "metadata": {
    "papermill": {
     "duration": 0.042094,
     "end_time": "2024-07-05T16:26:41.604963",
     "exception": false,
     "start_time": "2024-07-05T16:26:41.562869",
     "status": "completed"
    },
    "tags": []
   },
   "source": [
    "In this analysis, I meticulously handled data preprocessing, including missing value treatment and outlier removal. Feature engineering was enhanced by encoding categorical variables and normalizing numerical features. I explored multiple models and  ensured thorough hyperparameter tuning and validation to avoid overfitting. \n",
    "\n",
    "My evaluation metrics included RMSE, MAE, and R², complemented by visual performance diagnostics. The polynomial plot, optimized through hyperparameter tuning, emerged as the best performer, offering superior predictive accuracy. Meanwhile, the Feature Importance Plot secured second place.\n",
    "\n",
    "Moving forward, I recommend that :\n",
    "* The machine learning and AI algorith engineers dive deeper into feature engineering, utilizing advanced ensemble methods, and considering deployment strategies for practical implementation."
   ]
  },
  {
   "cell_type": "markdown",
   "id": "11aa2b70",
   "metadata": {
    "papermill": {
     "duration": 0.041509,
     "end_time": "2024-07-05T16:26:41.688454",
     "exception": false,
     "start_time": "2024-07-05T16:26:41.646945",
     "status": "completed"
    },
    "tags": []
   },
   "source": [
    "**All Glory Be To The Lord Almighty!**"
   ]
  }
 ],
 "metadata": {
  "kaggle": {
   "accelerator": "none",
   "dataSources": [
    {
     "datasetId": 128,
     "sourceId": 270,
     "sourceType": "datasetVersion"
    }
   ],
   "dockerImageVersionId": 30732,
   "isGpuEnabled": false,
   "isInternetEnabled": true,
   "language": "python",
   "sourceType": "notebook"
  },
  "kernelspec": {
   "display_name": "Python 3",
   "language": "python",
   "name": "python3"
  },
  "language_info": {
   "codemirror_mode": {
    "name": "ipython",
    "version": 3
   },
   "file_extension": ".py",
   "mimetype": "text/x-python",
   "name": "python",
   "nbconvert_exporter": "python",
   "pygments_lexer": "ipython3",
   "version": "3.10.13"
  },
  "papermill": {
   "default_parameters": {},
   "duration": 25.739353,
   "end_time": "2024-07-05T16:26:42.451749",
   "environment_variables": {},
   "exception": null,
   "input_path": "__notebook__.ipynb",
   "output_path": "__notebook__.ipynb",
   "parameters": {},
   "start_time": "2024-07-05T16:26:16.712396",
   "version": "2.5.0"
  }
 },
 "nbformat": 4,
 "nbformat_minor": 5
}
